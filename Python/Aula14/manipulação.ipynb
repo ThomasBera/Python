{
 "cells": [
  {
   "cell_type": "code",
   "execution_count": 13,
   "metadata": {},
   "outputs": [
    {
     "name": "stdout",
     "output_type": "stream",
     "text": [
      "Introdução a manipulação de arquivos com Python.\n",
      "Ao abrir e ler esses arquivos, podemos realizar diversas tarefas, como:\n",
      "- Extrair informações\n",
      "- Processar dados\n",
      "- Criar novos arquivos\n"
     ]
    }
   ],
   "source": [
    "#quando não informamos nenhum argumento para o  modo de abertura o modo de leitura 'r' é inferido automaticamente.\n",
    "arquivo = open('read.txt', encoding= 'utf-8')\n",
    "\n",
    "conteudo = arquivo.read()\n",
    "arquivo.close()\n",
    "print(conteudo)"
   ]
  },
  {
   "cell_type": "code",
   "execution_count": 14,
   "metadata": {},
   "outputs": [
    {
     "name": "stdout",
     "output_type": "stream",
     "text": [
      "Introdução a manipulação de arquivos com Python.\n",
      "Ao abrir e ler esses arquivos, podemos realizar diversas tarefas, como:\n",
      "- Extrair informações\n",
      "- Processar dados\n",
      "- Criar novos arquivos\n"
     ]
    }
   ],
   "source": [
    "#o modo de abertura escolhido deve ser informado com o 2º argumento da função open()\n",
    "#quando não informamos nenhum argumento para o  modo de abertura o modo de leitura 'r' é inferido automaticamente.\n",
    "arquivo = open('read.txt', 'r', encoding= 'utf-8')\n",
    "\n",
    "conteudo = arquivo.read()\n",
    "arquivo.close()\n",
    "print(conteudo)"
   ]
  },
  {
   "cell_type": "code",
   "execution_count": 15,
   "metadata": {},
   "outputs": [],
   "source": [
    "#o modo de escrita 'w' é utilizado para a criação de arquivos, se o arquivo não existir ele sera criado e se o arquivo existir ele sera substituido.\n",
    "\n",
    "arquivo = open('write.txt', 'w',encoding= 'utf-8')\n",
    "\n",
    "arquivo.write('Primeiro arquivo criado com Pytghon')\n",
    "\n",
    "arquivo.close()"
   ]
  },
  {
   "cell_type": "code",
   "execution_count": 16,
   "metadata": {},
   "outputs": [],
   "source": [
    "#SUBSTITUINDO ARQUIVO JA EXISTENTE.\n",
    "arquivo = open('write.txt', 'w', encoding= 'utf-8')\n",
    "\n",
    "arquivo.write('Segundo arquivo criado com Pytghon')\n",
    "\n",
    "arquivo.close()"
   ]
  },
  {
   "cell_type": "code",
   "execution_count": 17,
   "metadata": {},
   "outputs": [],
   "source": [
    "# o modo de anexar 'a' é utilizado para adicionar informações ao final do arquivo e se o arquivo não existor ele será criado.\n",
    "\n",
    "arquivo = open('append.txt','a', encoding= 'utf-8')\n",
    "\n",
    "arquivo.write('\\n')\n",
    "arquivo.write('Uma nova linha foi adicionada')\n",
    "\n",
    "arquivo.close()"
   ]
  },
  {
   "cell_type": "code",
   "execution_count": 21,
   "metadata": {},
   "outputs": [],
   "source": [
    "#o modo exclusivo 'x' é utilizado para criação de arquivos exclusivos, se o arquivo não existir ele sera criado e se o arquivo existir ele retornara um erro. O modo exclusivo é utilizado para evitar sobrescritas de arquivos acidentais.\n",
    "\n",
    "arquivo = open('exclusive.txt', 'x', encoding='utf-8')\n",
    "\n",
    "arquivo.write('Primeiro arquivo criado com exclusive')\n",
    "\n",
    "arquivo.close()"
   ]
  },
  {
   "cell_type": "code",
   "execution_count": 22,
   "metadata": {},
   "outputs": [
    {
     "ename": "FileExistsError",
     "evalue": "[Errno 17] File exists: 'exclusive.txt'",
     "output_type": "error",
     "traceback": [
      "\u001b[1;31m---------------------------------------------------------------------------\u001b[0m",
      "\u001b[1;31mFileExistsError\u001b[0m                           Traceback (most recent call last)",
      "\u001b[1;32mc:\\Users\\thoma\\OneDrive\\Área de Trabalho\\Python\\Aula14\\manipulação.ipynb Célula 7\u001b[0m line \u001b[0;36m1\n\u001b[1;32m----> <a href='vscode-notebook-cell:/c%3A/Users/thoma/OneDrive/%C3%81rea%20de%20Trabalho/Python/Aula14/manipula%C3%A7%C3%A3o.ipynb#X11sZmlsZQ%3D%3D?line=0'>1</a>\u001b[0m arquivo \u001b[39m=\u001b[39m \u001b[39mopen\u001b[39;49m(\u001b[39m'\u001b[39;49m\u001b[39mexclusive.txt\u001b[39;49m\u001b[39m'\u001b[39;49m, \u001b[39m'\u001b[39;49m\u001b[39mx\u001b[39;49m\u001b[39m'\u001b[39;49m, encoding\u001b[39m=\u001b[39;49m\u001b[39m'\u001b[39;49m\u001b[39mutf-8\u001b[39;49m\u001b[39m'\u001b[39;49m)\n\u001b[0;32m      <a href='vscode-notebook-cell:/c%3A/Users/thoma/OneDrive/%C3%81rea%20de%20Trabalho/Python/Aula14/manipula%C3%A7%C3%A3o.ipynb#X11sZmlsZQ%3D%3D?line=2'>3</a>\u001b[0m arquivo\u001b[39m.\u001b[39mwrite(\u001b[39m'\u001b[39m\u001b[39mPrimeiro arquivo criado com exclusive\u001b[39m\u001b[39m'\u001b[39m)\n\u001b[0;32m      <a href='vscode-notebook-cell:/c%3A/Users/thoma/OneDrive/%C3%81rea%20de%20Trabalho/Python/Aula14/manipula%C3%A7%C3%A3o.ipynb#X11sZmlsZQ%3D%3D?line=4'>5</a>\u001b[0m arquivo\u001b[39m.\u001b[39mclose()\n",
      "File \u001b[1;32m~\\AppData\\Roaming\\Python\\Python312\\site-packages\\IPython\\core\\interactiveshell.py:308\u001b[0m, in \u001b[0;36m_modified_open\u001b[1;34m(file, *args, **kwargs)\u001b[0m\n\u001b[0;32m    301\u001b[0m \u001b[39mif\u001b[39;00m file \u001b[39min\u001b[39;00m {\u001b[39m0\u001b[39m, \u001b[39m1\u001b[39m, \u001b[39m2\u001b[39m}:\n\u001b[0;32m    302\u001b[0m     \u001b[39mraise\u001b[39;00m \u001b[39mValueError\u001b[39;00m(\n\u001b[0;32m    303\u001b[0m         \u001b[39mf\u001b[39m\u001b[39m\"\u001b[39m\u001b[39mIPython won\u001b[39m\u001b[39m'\u001b[39m\u001b[39mt let you open fd=\u001b[39m\u001b[39m{\u001b[39;00mfile\u001b[39m}\u001b[39;00m\u001b[39m by default \u001b[39m\u001b[39m\"\u001b[39m\n\u001b[0;32m    304\u001b[0m         \u001b[39m\"\u001b[39m\u001b[39mas it is likely to crash IPython. If you know what you are doing, \u001b[39m\u001b[39m\"\u001b[39m\n\u001b[0;32m    305\u001b[0m         \u001b[39m\"\u001b[39m\u001b[39myou can use builtins\u001b[39m\u001b[39m'\u001b[39m\u001b[39m open.\u001b[39m\u001b[39m\"\u001b[39m\n\u001b[0;32m    306\u001b[0m     )\n\u001b[1;32m--> 308\u001b[0m \u001b[39mreturn\u001b[39;00m io_open(file, \u001b[39m*\u001b[39;49margs, \u001b[39m*\u001b[39;49m\u001b[39m*\u001b[39;49mkwargs)\n",
      "\u001b[1;31mFileExistsError\u001b[0m: [Errno 17] File exists: 'exclusive.txt'"
     ]
    }
   ],
   "source": [
    "arquivo = open('exclusive.txt', 'x', encoding='utf-8')\n",
    "\n",
    "arquivo.write('Primeiro arquivo criado com exclusive')\n",
    "\n",
    "arquivo.close()"
   ]
  },
  {
   "cell_type": "code",
   "execution_count": 23,
   "metadata": {},
   "outputs": [
    {
     "name": "stdout",
     "output_type": "stream",
     "text": [
      "Introdução a manipulação de arquivos com Python.\n",
      "\n",
      "Ao abrir e ler esses arquivos, podemos realizar diversas tarefas, como:\n",
      "\n",
      "- Extrair informações\n",
      "\n",
      "- Processar dados\n",
      "\n",
      "- Criar novos arquivos\n"
     ]
    }
   ],
   "source": [
    "#outra maneira de ler arquivos com Python é atravéz da iteração.\n",
    "#quando iteremos um arquivo é retornado uma linha de cada vez.\n",
    "\n",
    "arquivo = open('read.txt', encoding='utf-8')\n",
    "\n",
    "for linha in arquivo:\n",
    "    print(linha)\n",
    "    \n",
    "arquivo.close()"
   ]
  },
  {
   "cell_type": "code",
   "execution_count": 24,
   "metadata": {},
   "outputs": [
    {
     "name": "stdout",
     "output_type": "stream",
     "text": [
      "Introdução a manipulação de arquivos com Python.\n",
      "\n",
      "Ao abrir e ler esses arquivos, podemos realizar diversas tarefas, como:\n",
      "\n",
      "- Extrair informações\n",
      "\n",
      "- Processar dados\n",
      "\n",
      "- Criar novos arquivos\n"
     ]
    }
   ],
   "source": [
    "\n",
    "\n",
    "for linha in open('read.txt', encoding='utf-8'):\n",
    "    print(linha)\n",
    "    \n",
    "arquivo.close()"
   ]
  },
  {
   "cell_type": "code",
   "execution_count": 25,
   "metadata": {},
   "outputs": [
    {
     "name": "stdout",
     "output_type": "stream",
     "text": [
      "INTRODUÇÃO A MANIPULAÇÃO DE ARQUIVOS COM PYTHON.\n",
      "\n",
      "AO ABRIR E LER ESSES ARQUIVOS, PODEMOS REALIZAR DIVERSAS TAREFAS, COMO:\n",
      "\n",
      "- EXTRAIR INFORMAÇÕES\n",
      "\n",
      "- PROCESSAR DADOS\n",
      "\n",
      "- CRIAR NOVOS ARQUIVOS\n"
     ]
    }
   ],
   "source": [
    "for linha in open('read.txt', encoding='utf-8'):\n",
    "    print(linha.upper())\n",
    "    \n",
    "arquivo.close()"
   ]
  },
  {
   "cell_type": "code",
   "execution_count": 27,
   "metadata": {},
   "outputs": [],
   "source": [
    "#criar um arquivo, e mandar as caracteristicas de outro arquivo para o novo arquivo criado\n",
    "arquivo = open('caixaAlta.txt', 'w', encoding='utf-8')\n",
    "\n",
    "for linha in open('read.txt', encoding='utf-8'):\n",
    "    arquivo.write(linha.upper())\n",
    "    \n",
    "arquivo.close()"
   ]
  },
  {
   "cell_type": "code",
   "execution_count": 32,
   "metadata": {},
   "outputs": [
    {
     "name": "stdout",
     "output_type": "stream",
     "text": [
      "Nome,Idade,Cidade,Estado\n",
      "\n",
      "Maria,15,Sorocaba,SP\n",
      "\n",
      "Pedro,25,Sorocaba,SP\n",
      "\n",
      "Marcos,27,Itu,SP\n",
      "\n",
      "Miriam,21,Votorantim,SPb\n"
     ]
    }
   ],
   "source": [
    "arquivo = open('exemplo (1).csv', encoding='utf-8')\n",
    "for linha in arquivo:\n",
    "    print(linha)\n",
    "arquivo.close()"
   ]
  },
  {
   "cell_type": "code",
   "execution_count": 35,
   "metadata": {},
   "outputs": [
    {
     "name": "stdout",
     "output_type": "stream",
     "text": [
      "['Programação', 'em', 'Python']\n",
      "['Programação', 'em', 'Python']\n"
     ]
    }
   ],
   "source": [
    "#metodo String.split()\n",
    "#divide uma string em uma lsita onde cada palavra é um item da lista:\n",
    "\n",
    "python = 'Programação em Python'\n",
    "print(python.split())\n",
    "\n",
    "python = 'Programação_em_Python'\n",
    "print(python.split('_'))\n",
    "arquivo.close()"
   ]
  },
  {
   "cell_type": "code",
   "execution_count": 73,
   "metadata": {},
   "outputs": [
    {
     "name": "stdout",
     "output_type": "stream",
     "text": [
      "['\\ufeffNome', 'Idade', 'Cidade', 'Estado\\n']\n",
      "['Maria', '15', 'Sorocaba', 'SP\\n']\n",
      "['Pedro', '25', 'Sorocaba', 'SP\\n']\n",
      "['Marcos', '27', 'Itu', 'SP\\n']\n",
      "['Miriam', '21', 'Votorantim', 'SP']\n"
     ]
    }
   ],
   "source": [
    "arquivo = open('exemplo.csv', encoding='utf-8')\n",
    "\n",
    "for linha in arquivo:\n",
    "    coluna = linha.split(',')\n",
    "    print(coluna)\n",
    "    \n",
    "arquivo.close()"
   ]
  },
  {
   "cell_type": "code",
   "execution_count": 70,
   "metadata": {},
   "outputs": [
    {
     "name": "stdout",
     "output_type": "stream",
     "text": [
      "['\\ufeffNome', 'Idade', 'Cidade', 'Estado\\n']\n",
      "['Maria', '15', 'Sorocaba', 'São Paulo\\n']\n",
      "['Pedro', '25', 'Sorocaba', 'São Paulo\\n']\n",
      "['Marcos', '27', 'Itu', 'São Paulo\\n']\n",
      "['Miriam', '21', 'Votorantim', 'São Paulo']\n"
     ]
    }
   ],
   "source": [
    "arquivo = open('exemplo.csv', encoding='utf-8')\n",
    "\n",
    "for linha in arquivo:\n",
    "    coluna = linha.split(',')\n",
    "    coluna[3] = coluna[3].replace('SP', 'São Paulo')\n",
    "    print(coluna)\n",
    "    #print(coluna[2])\n",
    "arquivo.close()"
   ]
  },
  {
   "cell_type": "code",
   "execution_count": 2,
   "metadata": {},
   "outputs": [],
   "source": [
    "arquivo_novo = open('novo.csv','w', encoding='utf-8')\n",
    "arquivo = open('exemplo.csv', encoding='utf-8')\n",
    "\n",
    "for linha in arquivo:\n",
    "    \n",
    "    coluna = linha.split(',')\n",
    "    \n",
    "    coluna[3] = coluna[3].replace('SP', 'São Paulo')\n",
    "    \n",
    "    texto = ','.join(coluna)\n",
    "    \n",
    "    arquivo_novo.write(texto)\n",
    "\n",
    "arquivo.close()"
   ]
  },
  {
   "cell_type": "code",
   "execution_count": 111,
   "metadata": {},
   "outputs": [
    {
     "name": "stdout",
     "output_type": "stream",
     "text": [
      "Nome, Idade, Cidade\n",
      "Nome. Idade. Cidade\n",
      "Nome@ Idade@ Cidade\n",
      "Nome  Idade  Cidade\n",
      "Nome  Idade  Cidade\n"
     ]
    }
   ],
   "source": [
    "lista = ['Nome', ' Idade', ' Cidade']\n",
    "\n",
    "print (','.join(lista))\n",
    "print ('.'.join(lista))\n",
    "print ('@'.join(lista))\n",
    "print (' '.join(lista))\n",
    "\n",
    "\n",
    "\n",
    "\n",
    "#print(texto)"
   ]
  }
 ],
 "metadata": {
  "kernelspec": {
   "display_name": "Python 3",
   "language": "python",
   "name": "python3"
  },
  "language_info": {
   "codemirror_mode": {
    "name": "ipython",
    "version": 3
   },
   "file_extension": ".py",
   "mimetype": "text/x-python",
   "name": "python",
   "nbconvert_exporter": "python",
   "pygments_lexer": "ipython3",
   "version": "3.12.0"
  }
 },
 "nbformat": 4,
 "nbformat_minor": 2
}
