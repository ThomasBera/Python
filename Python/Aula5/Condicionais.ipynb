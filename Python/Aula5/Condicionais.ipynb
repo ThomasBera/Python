{
 "cells": [
  {
   "cell_type": "code",
   "execution_count": 5,
   "metadata": {},
   "outputs": [
    {
     "name": "stdout",
     "output_type": "stream",
     "text": [
      "True\n",
      "True\n",
      "False\n",
      "False\n",
      "False\n"
     ]
    }
   ],
   "source": [
    "a = 3\n",
    "b = 2\n",
    "\n",
    "print (a == 3)\n",
    "print (b == 2)\n",
    "print (a == b)\n",
    "print (2 == '2')\n",
    "print (a == '2')"
   ]
  },
  {
   "cell_type": "code",
   "execution_count": 13,
   "metadata": {},
   "outputs": [
    {
     "name": "stdout",
     "output_type": "stream",
     "text": [
      "O número 10 é maior do que o número 5\n"
     ]
    }
   ],
   "source": [
    "if 10 > 5:\n",
    "  print ( 'O número 10 é maior do que o número 5')\n",
    "else: \n",
    "  print ('O número 10 é menor do que o número 5')"
   ]
  },
  {
   "cell_type": "code",
   "execution_count": 11,
   "metadata": {},
   "outputs": [
    {
     "name": "stdout",
     "output_type": "stream",
     "text": [
      "Compra reprovada senhor THOMAS\n"
     ]
    }
   ],
   "source": [
    "nome = input('Qual seu nome?')\n",
    "saldo = float(input(f'digite o seu saldo, senhor(a) {nome}'))\n",
    "\n",
    "if saldo >= 100.0:\n",
    "  print(f'Compra aprovada senhor(a) {nome}')\n",
    "else:\n",
    "  print(f'Compra reprovada senhor {nome}')"
   ]
  },
  {
   "cell_type": "code",
   "execution_count": 13,
   "metadata": {},
   "outputs": [
    {
     "name": "stdout",
     "output_type": "stream",
     "text": [
      "Os textos são iguais\n"
     ]
    }
   ],
   "source": [
    "txt1 = input('Digite o primeiro texto: ')\n",
    "txt2 = input('Digite o segundo texto: ')\n",
    "\n",
    "if txt1 == txt2:\n",
    "  print('Os textos são iguais')\n",
    "else:\n",
    "  print('Os textos são diferentes')"
   ]
  },
  {
   "cell_type": "code",
   "execution_count": 15,
   "metadata": {},
   "outputs": [
    {
     "name": "stdout",
     "output_type": "stream",
     "text": [
      "O número 5 é menor que o número 6\n"
     ]
    }
   ],
   "source": [
    "n1 = 5\n",
    "n2 = 6\n",
    "\n",
    "if n1 > n2:\n",
    "  print (f'O número {n1} é *maior* que o número {n2}')\n",
    "elif n1 == n2:\n",
    "  print (f'O número {n1} é igual o número{n2}')\n",
    "elif n1 < n2:\n",
    "  print (f'O número {n1} é menor que o número {n2}')\n"
   ]
  }
 ],
 "metadata": {
  "kernelspec": {
   "display_name": "Python 3",
   "language": "python",
   "name": "python3"
  },
  "language_info": {
   "codemirror_mode": {
    "name": "ipython",
    "version": 3
   },
   "file_extension": ".py",
   "mimetype": "text/x-python",
   "name": "python",
   "nbconvert_exporter": "python",
   "pygments_lexer": "ipython3",
   "version": "3.12.0"
  }
 },
 "nbformat": 4,
 "nbformat_minor": 2
}
