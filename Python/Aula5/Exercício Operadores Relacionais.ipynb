{
 "cells": [
  {
   "cell_type": "markdown",
   "id": "9ac59412-3145-490a-b0a9-f8f8cc8e7fe0",
   "metadata": {},
   "source": [
    "# <font color='OrangeRed'><center>Exercícios - Operadores Relacionais</center></font>"
   ]
  },
  {
   "cell_type": "markdown",
   "id": "a1dc3402-8b11-4578-abea-bfd76df423bb",
   "metadata": {
    "tags": []
   },
   "source": [
    "### Exercício 01\n",
    "\n",
    "Usando a conficional If, faça um programa que peça dois números diferentes ao usuário e retorne qual deles é o maior número."
   ]
  },
  {
   "cell_type": "code",
   "execution_count": 2,
   "id": "da43a36d-ddb8-4030-9b50-afee9e141d7c",
   "metadata": {},
   "outputs": [
    {
     "name": "stdout",
     "output_type": "stream",
     "text": [
      "O 20 é maior que 10\n"
     ]
    }
   ],
   "source": [
    "\n",
    "n1 = int(input('Digite o primeiro número: '))\n",
    "n2 = int(input('Digite o segundo número: '))\n",
    "\n",
    "print(n1, n2)\n",
    "\n",
    "if n1 > n2:\n",
    "  print(f'O {n1} é maior que {n2} ')\n",
    "else:\n",
    "  print(f'O {n2} é maior que {n1}')\n"
   ]
  },
  {
   "cell_type": "markdown",
   "id": "53ca12b7-4b4b-4137-ae90-e987f006ffc8",
   "metadata": {},
   "source": [
    "---"
   ]
  },
  {
   "cell_type": "markdown",
   "id": "ebc14d7a-cd4a-456b-837f-3fcdaac8cdfc",
   "metadata": {},
   "source": [
    "### Exercício 02\n",
    "\n",
    "Usando a conficional If, faça um programa que peça um número ao usuário e se o valor for maior ou igual a 0 retorne que o número é positivo, caso o contrário retorne que o número é negativo."
   ]
  },
  {
   "cell_type": "code",
   "execution_count": 4,
   "id": "5ea33518-0325-462a-aac4-4f37295278db",
   "metadata": {},
   "outputs": [
    {
     "name": "stdout",
     "output_type": "stream",
     "text": [
      "O -1 é negativo\n"
     ]
    }
   ],
   "source": [
    "n1 = int(input('Digite o primeiro número: '))\n",
    "\n",
    "if n1 >= 0:\n",
    "  print(f'O {n1} é positivo')\n",
    "else: \n",
    "  print(f'O {n1} é negativo')\n",
    "\n"
   ]
  },
  {
   "cell_type": "markdown",
   "id": "57c4de84-49bb-423b-97c2-35c2db28be31",
   "metadata": {},
   "source": [
    "---"
   ]
  },
  {
   "cell_type": "markdown",
   "id": "d3da91c1-1159-4ef7-a7e6-abb5003b5836",
   "metadata": {},
   "source": [
    "### Exercício 03\n",
    "\n",
    "Usando a condicioal If, faça um programa que verifique a letra digita pelo usuário:\n",
    "- Se a letra for igual a 'F' retorne 'Feminino'\n",
    "- Se a letra for igual a 'M' retorne 'Masculino'\n",
    "- Qualquer outra letra retorne 'Sexo inválido'\n"
   ]
  },
  {
   "cell_type": "code",
   "execution_count": 9,
   "id": "c71775fc-08ed-4b22-a164-2acd2ef7eab1",
   "metadata": {},
   "outputs": [
    {
     "name": "stdout",
     "output_type": "stream",
     "text": [
      "Sexo Feminino\n"
     ]
    }
   ],
   "source": [
    "sexo = input('Informe o sexo com: (F) Feminino,  (M) Masculino')\n",
    "\n",
    "if sexo == 'F' or 'f':\n",
    "  print('Sexo Feminino')\n",
    "elif sexo == 'M' or 'm':\n",
    "  print ('Sexo Masculino')\n",
    "else:\n",
    "  print('Sexo Inválido')"
   ]
  },
  {
   "cell_type": "markdown",
   "id": "6eef26a1-6ea3-429f-b878-0a1f84cafb9d",
   "metadata": {},
   "source": [
    "---"
   ]
  },
  {
   "cell_type": "markdown",
   "id": "989aa1a6-f556-4c6b-b64d-bc8a4bfaaab4",
   "metadata": {},
   "source": [
    "### Exercício 04\n",
    "\n",
    "Faça um Programa que peça um número inteiro e retorne se ele e par ou ímpar.\n",
    "\n",
    "**Dicas:**  \n",
    "_Todo número divisível por 2 é par!_\n",
    "\n",
    "**_Formúla:_**<br>\n",
    "_% (Módulo ou resto de divisão)_  \n",
    "<img style=\"height:120px\" src=https://www.estudamos.com.br/divisao/elementos-da-divisao.jpg>"
   ]
  },
  {
   "cell_type": "code",
   "execution_count": 11,
   "id": "5024a926-dda9-4285-9914-d6a33bcccd15",
   "metadata": {},
   "outputs": [
    {
     "name": "stdout",
     "output_type": "stream",
     "text": [
      "5 é impar\n"
     ]
    }
   ],
   "source": [
    "n1 = int(input('Digite um numero inteiro: '))\n",
    "\n",
    "if n1 % 2 == 0:\n",
    "  print(f'{n1} é par')\n",
    "else:\n",
    "  print(f'{n1} é impar')\n",
    "\n"
   ]
  },
  {
   "cell_type": "markdown",
   "id": "5710113c-8795-49a7-8134-4be57c465f8b",
   "metadata": {},
   "source": [
    "---"
   ]
  },
  {
   "cell_type": "markdown",
   "id": "c36f5fd6-c192-45cf-af91-603a434899b7",
   "metadata": {},
   "source": [
    "### Exercício 05\n",
    "\n",
    "Faça um programa que pergunte a idade do usuário:\n",
    "- Se a idade for maior ou igual a 18 anos retorne 'Você é maior de idade.'\n",
    "- Senão retorne 'Você é menor de idade.'"
   ]
  },
  {
   "cell_type": "code",
   "execution_count": 13,
   "id": "ed136817-6e36-4821-8a63-bf6bda62badc",
   "metadata": {},
   "outputs": [
    {
     "name": "stdout",
     "output_type": "stream",
     "text": [
      "Você é maior de idade\n"
     ]
    }
   ],
   "source": [
    "idade = int(input('Qual sua idade? '))\n",
    "\n",
    "if idade >= 18:\n",
    "  print('Você é maior de idade')\n",
    "else:\n",
    "  print('Você é menor de idade')\n",
    "\n"
   ]
  },
  {
   "cell_type": "markdown",
   "id": "bec4c324-e081-49f5-9637-a04f049d7cc4",
   "metadata": {},
   "source": [
    "---"
   ]
  },
  {
   "cell_type": "markdown",
   "id": "15a0fb6a-8fb9-4591-b1f2-16ab84a940b9",
   "metadata": {},
   "source": [
    "### Exercício 06\n",
    "\n",
    "Escreva um programa que verifique a validade de uma senha fornecida pelo usuário. A senha válida é o número 1234. Devem ser impressas as seguintes mensagens:\n",
    "- ACESSO PERMITIDO, caso a senha seja válida.\n",
    "- ACESSO NEGADO, caso a senha seja inválida."
   ]
  },
  {
   "cell_type": "code",
   "execution_count": 15,
   "id": "8ba3d275-3b13-4b62-bcf5-0573b730c978",
   "metadata": {},
   "outputs": [
    {
     "name": "stdout",
     "output_type": "stream",
     "text": [
      "Acesso Permitido\n"
     ]
    }
   ],
   "source": [
    "senha = int(input('Digite sua senha (só pode conter números): '))\n",
    "\n",
    "if senha == 1234:\n",
    "  print('Acesso Permitido')\n",
    "else:\n",
    "  print('Acesso Negado')"
   ]
  },
  {
   "cell_type": "markdown",
   "id": "22a5db7a-3fce-4dd5-9a83-218807aec4a6",
   "metadata": {},
   "source": [
    "---"
   ]
  },
  {
   "cell_type": "markdown",
   "id": "fd325872-9f9c-4f5f-bef0-6c059637fae7",
   "metadata": {},
   "source": [
    "### Exercício 07\n",
    "\n",
    "Escreva um programa que peça para o usuário digitar um senha, em seguida peça para ele confirmar a senha digitada. Devem ser impressas as seguintes \n",
    "- SENHA CORRETA, caso ele tenha digitado a mesma senha duas vezes.\n",
    "- SENHA INCORRETA, caso ele tenha digitado senhas diferentes."
   ]
  },
  {
   "cell_type": "code",
   "execution_count": 18,
   "id": "43e286ca-5d23-4cf9-a973-79da785be638",
   "metadata": {},
   "outputs": [
    {
     "name": "stdout",
     "output_type": "stream",
     "text": [
      "Senha Incorreta\n"
     ]
    }
   ],
   "source": [
    "senha = input('Digite sua senha')\n",
    "senha2 = input('Confirme sua senha')\n",
    "\n",
    "if senha == senha2:\n",
    "  print('Senha Correta')\n",
    "else:\n",
    "  print('Senha Incorreta')\n",
    "\n",
    "\n"
   ]
  },
  {
   "cell_type": "markdown",
   "id": "91362d09-5bf1-462a-b07f-6cfaacfb0920",
   "metadata": {},
   "source": [
    "---"
   ]
  },
  {
   "cell_type": "markdown",
   "id": "da521ccf-fffd-42e9-963a-c187fb1e9d7d",
   "metadata": {},
   "source": [
    "### Exercício 08\n",
    "\n",
    "Escreva um programa que pergunte a nota final do aluno, em seguida retorne:\n",
    "- Caso a nota final for maior ou igual a 5 retorne 'Você está aprovado.'\n",
    "- Caso a nota final for menor a 5 retorne 'Você está reprovado."
   ]
  },
  {
   "cell_type": "code",
   "execution_count": 20,
   "id": "ae0f3834-c307-485f-bc8f-c7916b22d1a6",
   "metadata": {},
   "outputs": [
    {
     "name": "stdout",
     "output_type": "stream",
     "text": [
      "Você esta Aprovado\n"
     ]
    }
   ],
   "source": [
    "n1 = float(input('Digite a nota do aluno: '))\n",
    "\n",
    "if n1 >= 5:\n",
    "  print('Você esta Aprovado')\n",
    "else:\n",
    "  print('Você esta Reprovado')\n",
    "\n"
   ]
  },
  {
   "cell_type": "markdown",
   "id": "46536cf8-f4d8-4594-8e54-f65c2b5668b3",
   "metadata": {},
   "source": [
    "---"
   ]
  },
  {
   "cell_type": "markdown",
   "id": "35e88cc0-4ce7-487a-a029-0ffd9e548574",
   "metadata": {},
   "source": [
    "### Exercício 09\n",
    "\n",
    "Escreva um programa que peça dois números inteiros ao usuário, em seguida retorne:\n",
    "- Caso os números sejam iguais retorne 'Os números digitados são iguais'\n",
    "- Caso os números sejam diferentes retorne 'Os números digitados são diferentes'"
   ]
  },
  {
   "cell_type": "code",
   "execution_count": 22,
   "id": "149faa38-db4e-48ff-a378-104f4b28c4bb",
   "metadata": {},
   "outputs": [
    {
     "name": "stdout",
     "output_type": "stream",
     "text": [
      "3.0 é diferente de 5.0\n"
     ]
    }
   ],
   "source": [
    "n1 = float(input('Digite um valor: '))\n",
    "n2 = float(input('Digite outro valor: '))\n",
    "\n",
    "if n1 == n2:\n",
    "  print(f'{n1} é igual a {n2}')\n",
    "else:\n",
    "  print(f'{n1} é diferente de {n2}')\n"
   ]
  },
  {
   "cell_type": "markdown",
   "id": "0dd116ea-8b58-4e73-a7b5-a96fc2842fb7",
   "metadata": {},
   "source": [
    "---"
   ]
  },
  {
   "cell_type": "markdown",
   "id": "6cc99926-a9bb-44b1-a918-55e41e3c16f2",
   "metadata": {},
   "source": [
    "### Exercício 10\n",
    "\n",
    "Faça um programa que peça para o usuário informar o salário dele e o total gasto, em seguida faça a diferença entre eles para obter o saldo.\n",
    "\n",
    "- Se o saldo for maior ou igual a 'zero' retorne 'Gastos dentro do orçamento.'\n",
    "- Senão retorne 'Orçamento estourado.'"
   ]
  },
  {
   "cell_type": "code",
   "execution_count": 24,
   "id": "c9264b79-e7ec-4e01-b1f5-adacf2890e2e",
   "metadata": {},
   "outputs": [
    {
     "name": "stdout",
     "output_type": "stream",
     "text": [
      "Gastos dentro do orçamento\n"
     ]
    }
   ],
   "source": [
    "n1 = float(input('Digite o valor do seu salário: '))\n",
    "n2 = float(input('Digite o valor dos seus gastos: '))\n",
    "dif = n1 - n2\n",
    "\n",
    "if dif >= 0:\n",
    "  print('Gastos dentro do orçamento')\n",
    "else:\n",
    "  print('Orçamento estourado')\n"
   ]
  },
  {
   "cell_type": "markdown",
   "id": "65652586-8b0c-4eac-85ca-4f12f0f950e3",
   "metadata": {},
   "source": [
    "---"
   ]
  },
  {
   "cell_type": "markdown",
   "id": "bddd37b4-d842-4fee-8aa1-c6e44231f87a",
   "metadata": {},
   "source": [
    "### Exercício 11\n",
    "\n",
    "Faça um programa que peça para o usuário em qual idioma ele deseja ser recebido de acordo com o número informado, sendo:\n",
    "- Digitando **1** retorne o texto em Espanhol: **Bienvenido**\n",
    "- Digitando **2** retorne o texto em Francês: **Bienvenue**\n",
    "- Digitando **3** retorne o texto em Português: **Bem-Vindo**\n",
    "- Digitando **4** retorne o texto em Inglês: **Welcome**\n",
    "- Digitando qualquer outro valor retorne: **Código inválido**"
   ]
  },
  {
   "cell_type": "code",
   "execution_count": 30,
   "id": "54960b7a-c42e-4b55-ba66-559df33c793a",
   "metadata": {},
   "outputs": [
    {
     "name": "stdout",
     "output_type": "stream",
     "text": [
      "Código Inválido\n"
     ]
    }
   ],
   "source": [
    "idioma = input('''Em qual idioma gostaria de ser recebido:\n",
    "1 = Espanhol\n",
    "2 = Francês\n",
    "3 = Português\n",
    "4 = Inglês\n",
    "''')\n",
    "\n",
    "if idioma == '1':\n",
    "  print('Bienvenido')\n",
    "elif idioma == '2':\n",
    "  print('Bienvenue')\n",
    "elif idioma == '3':\n",
    "  print('Bem-Vindo')\n",
    "elif idioma == '4':\n",
    "  print('Welcome')\n",
    "else:\n",
    "  print('Código Inválido')\n",
    "\n"
   ]
  },
  {
   "cell_type": "markdown",
   "id": "2e05b874-4885-4bfc-ba23-577cacfae094",
   "metadata": {},
   "source": [
    "---"
   ]
  },
  {
   "cell_type": "markdown",
   "id": "484ff688-addc-415f-b122-27d1df5c1669",
   "metadata": {},
   "source": [
    "### Exercício 12\n",
    "\n",
    "Crie um programa que pergunte uma cor do semáforo para o usuário e em seguida retorne uma das condições abaixo:\n",
    "* Se a cor for igual a **VERDE** retorne 'Siga em frente'\n",
    "* Se a cor for igual a **AMARELO** retorne 'Atenção'\n",
    "* Se a cor for igual a **VERMELHO** retorne 'Pare o carro'\n",
    "* Para qualquer outro valor retorne 'Sinal inválido'"
   ]
  },
  {
   "cell_type": "code",
   "execution_count": 31,
   "id": "b1adbe4e-fbe4-4fb1-913b-7274bc9e96a5",
   "metadata": {},
   "outputs": [
    {
     "name": "stdout",
     "output_type": "stream",
     "text": [
      "Siga em frente\n"
     ]
    }
   ],
   "source": [
    "cor = input(''' Digite uma cor:\n",
    "verde, \n",
    "amarelo,\n",
    "vermelho''')\n",
    "\n",
    "if cor == 'verde':\n",
    "  print('Siga em frente')\n",
    "elif cor == 'amarelo':\n",
    "  print('Atenção')\n",
    "elif cor == 'vermelho':\n",
    "  print('Pare o carro')\n",
    "else:\n",
    "  print('Sinal Inválido')\n"
   ]
  },
  {
   "cell_type": "markdown",
   "id": "deedfc22-31ef-47f8-999b-879696d91208",
   "metadata": {},
   "source": [
    "---"
   ]
  }
 ],
 "metadata": {
  "kernelspec": {
   "display_name": "Python 3 (ipykernel)",
   "language": "python",
   "name": "python3"
  },
  "language_info": {
   "codemirror_mode": {
    "name": "ipython",
    "version": 3
   },
   "file_extension": ".py",
   "mimetype": "text/x-python",
   "name": "python",
   "nbconvert_exporter": "python",
   "pygments_lexer": "ipython3",
   "version": "3.12.0"
  }
 },
 "nbformat": 4,
 "nbformat_minor": 5
}
