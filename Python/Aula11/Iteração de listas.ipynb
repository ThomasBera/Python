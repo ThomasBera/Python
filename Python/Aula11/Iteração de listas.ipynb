{
 "cells": [
  {
   "cell_type": "code",
   "execution_count": 11,
   "metadata": {},
   "outputs": [
    {
     "name": "stdout",
     "output_type": "stream",
     "text": [
      "M\n",
      "Maçã\n",
      "\n",
      "B\n",
      "Banana\n",
      "\n",
      "J\n",
      "Jaca\n",
      "\n",
      "M\n",
      "Melão\n",
      "\n",
      "A\n",
      "Abacaxi\n",
      "\n"
     ]
    }
   ],
   "source": [
    "#iterar é a ação de repetir algo\n",
    "frutas = ['Maçã', 'Banana', 'Jaca','Melão','Abacaxi']\n",
    "\n",
    "for fruta in frutas:\n",
    "  print(fruta[0])\n",
    "  print(fruta)\n",
    "  print()\n"
   ]
  },
  {
   "cell_type": "code",
   "execution_count": 17,
   "metadata": {},
   "outputs": [
    {
     "name": "stdout",
     "output_type": "stream",
     "text": [
      "Eu Gosto de Maçã\n",
      "Eu Gosto de Banana\n",
      "Eu Gosto de Jaca\n",
      "Eu Gosto de Melão\n",
      "Eu Gosto de Abacaxi\n"
     ]
    }
   ],
   "source": [
    "frutas = ['Maçã', 'Banana', 'Jaca','Melão','Abacaxi']\n",
    "\n",
    "for fruta in frutas:\n",
    "  print(f'Eu Gosto de {fruta}')"
   ]
  },
  {
   "cell_type": "code",
   "execution_count": 14,
   "metadata": {},
   "outputs": [
    {
     "name": "stdout",
     "output_type": "stream",
     "text": [
      "1\n",
      "-1\n",
      "\n",
      "2\n",
      "-2\n",
      "\n",
      "3\n",
      "-3\n",
      "\n",
      "4\n",
      "-4\n",
      "\n",
      "5\n",
      "-5\n",
      "\n"
     ]
    }
   ],
   "source": [
    "numeros = [1,2,3,4,5]\n",
    "\n",
    "for numero in numeros:\n",
    "    print(numero)\n",
    "    print(numero * -1)\n",
    "    print()\n",
    "\n"
   ]
  },
  {
   "cell_type": "code",
   "execution_count": 29,
   "metadata": {},
   "outputs": [
    {
     "name": "stdout",
     "output_type": "stream",
     "text": [
      "5\n",
      "10\n",
      "15\n",
      "20\n",
      "25\n",
      "30\n",
      "35\n",
      "40\n",
      "45\n",
      "50\n"
     ]
    }
   ],
   "source": [
    " numeros = [1,2,3,4,5,6,7,8,9,10]\n",
    " \n",
    " for numero in numeros:\n",
    "  print(numero * 5)\n"
   ]
  },
  {
   "cell_type": "code",
   "execution_count": 30,
   "metadata": {},
   "outputs": [
    {
     "name": "stdout",
     "output_type": "stream",
     "text": [
      "O número 1 não é divisivel por 2\n",
      "\n",
      "O numero 2 é divisivel por 2\n",
      "\n",
      "O número 3 não é divisivel por 2\n",
      "\n",
      "O numero 4 é divisivel por 2\n",
      "\n",
      "O número 5 não é divisivel por 2\n",
      "\n",
      "O numero 6 é divisivel por 2\n",
      "\n",
      "O número 7 não é divisivel por 2\n",
      "\n",
      "O numero 8 é divisivel por 2\n",
      "\n",
      "O número 9 não é divisivel por 2\n",
      "\n",
      "O numero 10 é divisivel por 2\n",
      "\n"
     ]
    }
   ],
   "source": [
    " numeros = [1,2,3,4,5,6,7,8,9,10]\n",
    " \n",
    " for numero in numeros:\n",
    "   if numero % 2 == 0:\n",
    "     \n",
    "    print(f'O numero {numero} é divisivel por 2')\n",
    "    print()\n",
    "    \n",
    "   else:\n",
    "     print(f'O número {numero} não é divisivel por 2')\n",
    "     print()"
   ]
  },
  {
   "cell_type": "code",
   "execution_count": 31,
   "metadata": {},
   "outputs": [
    {
     "name": "stdout",
     "output_type": "stream",
     "text": [
      "P\n",
      "y\n",
      "t\n",
      "h\n",
      "o\n",
      "n\n"
     ]
    }
   ],
   "source": [
    "python = 'Python'\n",
    "\n",
    "for letra in python:\n",
    "    print(letra)"
   ]
  },
  {
   "cell_type": "code",
   "execution_count": 1,
   "metadata": {},
   "outputs": [
    {
     "name": "stdout",
     "output_type": "stream",
     "text": [
      "P\n",
      "Y\n",
      "T\n",
      "H\n",
      "O\n",
      "N\n"
     ]
    }
   ],
   "source": [
    "python = 'Python'\n",
    "\n",
    "for l in python:\n",
    "    print(l.upper())"
   ]
  }
 ],
 "metadata": {
  "kernelspec": {
   "display_name": "Python 3",
   "language": "python",
   "name": "python3"
  },
  "language_info": {
   "codemirror_mode": {
    "name": "ipython",
    "version": 3
   },
   "file_extension": ".py",
   "mimetype": "text/x-python",
   "name": "python",
   "nbconvert_exporter": "python",
   "pygments_lexer": "ipython3",
   "version": "3.12.0"
  }
 },
 "nbformat": 4,
 "nbformat_minor": 2
}
