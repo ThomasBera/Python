{
 "cells": [
  {
   "cell_type": "code",
   "execution_count": 19,
   "metadata": {},
   "outputs": [
    {
     "name": "stdout",
     "output_type": "stream",
     "text": [
      "[3, 4, 5, 6]\n",
      "[5, 6, 7, 8]\n",
      "[1, 2, 3]\n",
      "[1]\n"
     ]
    }
   ],
   "source": [
    "numeros = [1,2,3,4,5,6,7,8]\n",
    "\n",
    "print(numeros[2:6])\n",
    "print(numeros[4:])\n",
    "print(numeros[:3])"
   ]
  },
  {
   "cell_type": "code",
   "execution_count": 5,
   "metadata": {},
   "outputs": [
    {
     "name": "stdout",
     "output_type": "stream",
     "text": [
      "P\n",
      "y\n",
      "t\n",
      "h\n",
      "o\n",
      "n\n"
     ]
    }
   ],
   "source": [
    "print('Python'[0])\n",
    "print('Python'[1])\n",
    "print('Python'[2])\n",
    "print('Python'[3])\n",
    "print('Python'[4])\n",
    "print('Python'[5])\n",
    "\n"
   ]
  },
  {
   "cell_type": "code",
   "execution_count": 7,
   "metadata": {},
   "outputs": [
    {
     "name": "stdout",
     "output_type": "stream",
     "text": [
      "Programação em Python\n",
      "em Python\n",
      "Python\n"
     ]
    }
   ],
   "source": [
    "python = 'Programação em Python'\n",
    "#Onde eu começo:\n",
    "print(python[0:])\n",
    "print(python[12:])\n",
    "print(python[15:])\n"
   ]
  },
  {
   "cell_type": "code",
   "execution_count": 20,
   "metadata": {},
   "outputs": [
    {
     "name": "stdout",
     "output_type": "stream",
     "text": [
      "Programação\n",
      "em\n",
      "Python\n"
     ]
    }
   ],
   "source": [
    "python = 'Programação em Python'\n",
    "#inicio : fim\n",
    "print(python[0:11])\n",
    "print(python[12:14])\n",
    "print(python[15:21])\n"
   ]
  },
  {
   "cell_type": "code",
   "execution_count": 21,
   "metadata": {},
   "outputs": [
    {
     "name": "stdout",
     "output_type": "stream",
     "text": [
      "Escola\n"
     ]
    }
   ],
   "source": [
    "var = 'E.s.c.o.l.a'\n",
    "\n",
    "print(var [::2])"
   ]
  }
 ],
 "metadata": {
  "kernelspec": {
   "display_name": "Python 3",
   "language": "python",
   "name": "python3"
  },
  "language_info": {
   "codemirror_mode": {
    "name": "ipython",
    "version": 3
   },
   "file_extension": ".py",
   "mimetype": "text/x-python",
   "name": "python",
   "nbconvert_exporter": "python",
   "pygments_lexer": "ipython3",
   "version": "3.12.0"
  }
 },
 "nbformat": 4,
 "nbformat_minor": 2
}
