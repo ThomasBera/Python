{
 "cells": [
  {
   "cell_type": "code",
   "execution_count": 2,
   "id": "29b09c91-15b4-4296-987f-1f5ae6260691",
   "metadata": {
    "tags": []
   },
   "outputs": [
    {
     "name": "stdout",
     "output_type": "stream",
     "text": [
      "O valor da variável a é 3 e o valor da variável b é 7\n"
     ]
    }
   ],
   "source": [
    "a = 3\n",
    "b = 7\n",
    "\n",
    "print (f'O valor da variável a é {a} e o valor da variável b é {b}')"
   ]
  },
  {
   "cell_type": "code",
   "execution_count": 7,
   "id": "7db06bf3-a62a-4b02-9b2d-ea3b1411f125",
   "metadata": {
    "tags": []
   },
   "outputs": [
    {
     "name": "stdout",
     "output_type": "stream",
     "text": [
      "3 + 7 = 10\n"
     ]
    }
   ],
   "source": [
    "a = 3\n",
    "b = 7\n",
    "\n",
    "print (f'{a} + {b} = {a + b}')"
   ]
  },
  {
   "cell_type": "code",
   "execution_count": 8,
   "id": "a7a8d5db-97bb-482c-8a46-c78a3d0c0bdb",
   "metadata": {
    "tags": []
   },
   "outputs": [
    {
     "name": "stdout",
     "output_type": "stream",
     "text": [
      "25/12/2020\n"
     ]
    }
   ],
   "source": [
    "dia = '25'\n",
    "mes = '12'\n",
    "ano = '2020'\n",
    "\n",
    "print(f'{dia}/{mes}/{ano}')"
   ]
  },
  {
   "cell_type": "code",
   "execution_count": 10,
   "id": "1011d762-f298-4006-83f2-ff808f7b5f1f",
   "metadata": {
    "tags": []
   },
   "outputs": [
    {
     "name": "stdin",
     "output_type": "stream",
     "text": [
      "Digite o seu nome: thomas\n"
     ]
    },
    {
     "name": "stdout",
     "output_type": "stream",
     "text": [
      "O meu nome é thomas\n"
     ]
    }
   ],
   "source": [
    "nome = input('Digite o seu nome:')\n",
    "print(f'O meu nome é {nome}')"
   ]
  },
  {
   "cell_type": "code",
   "execution_count": 20,
   "id": "1c389d58-bb9d-4cf2-8b8c-f7fefe38ebd3",
   "metadata": {
    "tags": []
   },
   "outputs": [
    {
     "name": "stdout",
     "output_type": "stream",
     "text": [
      "1.123\n"
     ]
    }
   ],
   "source": [
    "print(f'{1.12345:.3f}') #arredondamento - f"
   ]
  },
  {
   "cell_type": "code",
   "execution_count": 21,
   "id": "94b26c92-6397-4c25-a056-2fc3175d3512",
   "metadata": {
    "tags": []
   },
   "outputs": [
    {
     "name": "stdout",
     "output_type": "stream",
     "text": [
      "1.12\n"
     ]
    }
   ],
   "source": [
    "print(round(1.12345, 2)) #arredondamento - round"
   ]
  },
  {
   "cell_type": "code",
   "execution_count": 27,
   "id": "87ee7759-fe47-4b17-a564-a349cb6061cf",
   "metadata": {
    "tags": []
   },
   "outputs": [
    {
     "name": "stdout",
     "output_type": "stream",
     "text": [
      " 10 dividido por 3 é 3.3333333333333335\n",
      " 10 dividido por 3 é 3.33\n",
      " 10 dividido por 3 é 3.33\n"
     ]
    }
   ],
   "source": [
    "divisao = 10 / 3\n",
    "print (f' 10 dividido por 3 é {divisao}')\n",
    "print (f' 10 dividido por 3 é {divisao:.2f}')\n",
    "print (f' 10 dividido por 3 é {round(divisao, 2)}')"
   ]
  },
  {
   "cell_type": "code",
   "execution_count": 29,
   "id": "d2e9aa56-6936-4035-9cff-623099964440",
   "metadata": {
    "tags": []
   },
   "outputs": [
    {
     "name": "stdout",
     "output_type": "stream",
     "text": [
      "Texto \n",
      "com multiplas linhas\n"
     ]
    }
   ],
   "source": [
    "txt_asp_simp = '''Texto \n",
    "com multiplas linhas''' #quebra de linhas\n",
    "\n",
    "print(txt_asp_simp)"
   ]
  },
  {
   "cell_type": "code",
   "execution_count": 31,
   "id": "fcbbd346-af30-4ff8-8832-dda5e602ea6e",
   "metadata": {
    "tags": []
   },
   "outputs": [
    {
     "name": "stdout",
     "output_type": "stream",
     "text": [
      "Texto\n",
      "com multiplas linhas\n"
     ]
    }
   ],
   "source": [
    "txt_asp_dup = \"\"\"Texto\n",
    "com multiplas linhas\"\"\"\n",
    "\n",
    "print(txt_asp_dup)"
   ]
  },
  {
   "cell_type": "code",
   "execution_count": 36,
   "id": "4b1fff56-bf06-4611-a634-57cc78148090",
   "metadata": {
    "tags": []
   },
   "outputs": [
    {
     "name": "stdout",
     "output_type": "stream",
     "text": [
      "Valores de Variáveis:\n",
      " a: 10\n",
      " b: 5\n"
     ]
    }
   ],
   "source": [
    "a = 10\n",
    "b = 5\n",
    "\n",
    "txt_asp_sim = f'Valores de Variáveis:\\n a: {a}\\n b: {b}'\n",
    "print(txt_asp_sim)"
   ]
  },
  {
   "cell_type": "code",
   "execution_count": null,
   "id": "7eb52ce7-fbcd-43e9-92f8-56a1c1d6fbda",
   "metadata": {},
   "outputs": [],
   "source": []
  }
 ],
 "metadata": {
  "kernelspec": {
   "display_name": "Python 3 (ipykernel)",
   "language": "python",
   "name": "python3"
  },
  "language_info": {
   "codemirror_mode": {
    "name": "ipython",
    "version": 3
   },
   "file_extension": ".py",
   "mimetype": "text/x-python",
   "name": "python",
   "nbconvert_exporter": "python",
   "pygments_lexer": "ipython3",
   "version": "3.11.5"
  },
  "toc-autonumbering": false,
  "toc-showmarkdowntxt": false,
  "toc-showtags": false
 },
 "nbformat": 4,
 "nbformat_minor": 5
}
