{
 "cells": [
  {
   "cell_type": "markdown",
   "id": "494b9be3-bd14-48e8-9b67-eaa93b21ad58",
   "metadata": {},
   "source": [
    "# <font color='OrangeRed'><center>Exercícios - Interpolação</center></font>"
   ]
  },
  {
   "cell_type": "markdown",
   "id": "e92f6113-7778-48bc-92e2-31d5210199dc",
   "metadata": {},
   "source": [
    "### Exercício 01\n",
    "\n",
    "Faça um programa que solicite o nome do usuário, em seguida, usando a interpolação, imprima o nome fornecido no texto abaixo\n",
    "\n",
    "**Exemplo:**  \n",
    "_Meu nome é Ana_"
   ]
  },
  {
   "cell_type": "code",
   "execution_count": 1,
   "id": "dd278c9d-a43d-415c-8e60-ac3e84bd6be4",
   "metadata": {
    "tags": []
   },
   "outputs": [
    {
     "name": "stdout",
     "output_type": "stream",
     "text": [
      "Meu nome é tjomas\n"
     ]
    }
   ],
   "source": [
    "nome = input('Qual seu nome?')\n",
    "\n",
    "print(f'Meu nome é {nome}')\n",
    " "
   ]
  },
  {
   "cell_type": "markdown",
   "id": "3897bbf7-c919-48bc-8b8c-45862b8ba208",
   "metadata": {},
   "source": [
    "---"
   ]
  },
  {
   "cell_type": "markdown",
   "id": "23261338-341d-4698-a660-d2b3505e459a",
   "metadata": {},
   "source": [
    "### Exercício 02\n",
    "\n",
    "Usando a interpolação, faça um programa que imprima o valor da variável curso no texto abaixo"
   ]
  },
  {
   "cell_type": "code",
   "execution_count": 3,
   "id": "396027e6-8b3d-4183-b196-00bacdad8bac",
   "metadata": {
    "tags": []
   },
   "outputs": [
    {
     "name": "stdout",
     "output_type": "stream",
     "text": [
      "Estou fazendo o curso Programação em Python\n"
     ]
    }
   ],
   "source": [
    "curso = 'Programação em Python'\n",
    "\n",
    "print(f'Estou fazendo o curso {curso}')"
   ]
  },
  {
   "cell_type": "markdown",
   "id": "229b1ae1-4aac-4caf-8f65-4050b1cadde7",
   "metadata": {},
   "source": [
    "---"
   ]
  },
  {
   "cell_type": "markdown",
   "id": "d3842528-f574-4647-a24c-210c8ccd4e00",
   "metadata": {},
   "source": [
    "### Exercício 03\n",
    "\n",
    "Faça um programa que solicite o nome do prato preferido do usuário, em seguida, usando a interpolação, imprima o nome do prato no texto abaixo\n",
    "\n",
    "**Exemplo:**  \n",
    "_Meu prato preferido é lasanha_"
   ]
  },
  {
   "cell_type": "code",
   "execution_count": 4,
   "id": "d2d5bc61-fa4b-4d31-a9f1-b6bef969f79e",
   "metadata": {
    "tags": []
   },
   "outputs": [
    {
     "name": "stdout",
     "output_type": "stream",
     "text": [
      "Meu prato preferido é cu\n"
     ]
    }
   ],
   "source": [
    "prato = input( 'Digite seu prato favorito: ')\n",
    "\n",
    "print(f'Meu prato preferido é {prato}')"
   ]
  },
  {
   "cell_type": "markdown",
   "id": "4391842a-f0fb-4b58-8cd0-dddbc89bbecc",
   "metadata": {},
   "source": [
    "---"
   ]
  },
  {
   "cell_type": "markdown",
   "id": "cdb380a6-777d-4b8d-a4fa-60e6adbec42c",
   "metadata": {},
   "source": [
    "### Exercício 04\n",
    "\n",
    "Faça um programa que solicite a data de hoje, em seguida, usando a interpolação, imprima a data de hoje no texto abaixo\n",
    "\n",
    "**Exemplo:**  \n",
    "_A data de hoje é 19/05/2003_"
   ]
  },
  {
   "cell_type": "code",
   "execution_count": 5,
   "id": "f2020d8c-4db3-4687-977f-868622e24373",
   "metadata": {
    "tags": []
   },
   "outputs": [
    {
     "name": "stdout",
     "output_type": "stream",
     "text": [
      "A data de hoje é \n"
     ]
    }
   ],
   "source": [
    "data = input ('Qual a data de hoje?')\n",
    "\n",
    "print(f'A data de hoje é {data}')"
   ]
  },
  {
   "cell_type": "markdown",
   "id": "12df86a5-bd1a-4add-9b75-55f42c76200d",
   "metadata": {},
   "source": [
    "---"
   ]
  },
  {
   "cell_type": "markdown",
   "id": "a875d13b-f431-4621-9515-3614da9fb5ca",
   "metadata": {
    "tags": []
   },
   "source": [
    "### Exercício 05\n",
    "\n",
    "Faça um programa que solicite ao usuário digitar um número, em seguida, usando a interpolação, imprima o valor digitado no texto abaixo\n",
    "\n",
    "\n",
    "**Exemplo:**  \n",
    "_O número digitado foi: 5_"
   ]
  },
  {
   "cell_type": "code",
   "execution_count": 6,
   "id": "6c761e9f-07f7-44bd-81e4-9ee9c2d3f4de",
   "metadata": {
    "tags": []
   },
   "outputs": [],
   "source": [
    "numero = input ('Digite um numero:')\n",
    "\n",
    "print(f'O número digitado foi: {numero}')"
   ]
  },
  {
   "cell_type": "markdown",
   "id": "2eb86b22-79ca-4b1a-af2c-dab0e339dda8",
   "metadata": {},
   "source": [
    "---"
   ]
  },
  {
   "cell_type": "markdown",
   "id": "97114d1c-55cf-405d-beb1-b2fc652fd087",
   "metadata": {},
   "source": [
    "### Exercício 06\n",
    "\n",
    "Usando a interpolação, faça um programa que imprima o resultado da soma dos valores 5 + 5"
   ]
  },
  {
   "cell_type": "code",
   "execution_count": null,
   "id": "43b63913-17e6-4e38-aabe-b552c660b45a",
   "metadata": {
    "tags": []
   },
   "outputs": [
    {
     "name": "stdout",
     "output_type": "stream",
     "text": [
      "A soma de 5 + 5 é: 10\n"
     ]
    }
   ],
   "source": [
    "soma = 5 + 5\n",
    "\n",
    "print(f'A soma de 5 + 5 é: {soma}')"
   ]
  },
  {
   "cell_type": "markdown",
   "id": "fabc628c-6fd4-4dd8-aa28-52b31127f1ee",
   "metadata": {},
   "source": [
    "---"
   ]
  },
  {
   "cell_type": "markdown",
   "id": "d55916ed-8290-45ad-9877-4ca46d6929f1",
   "metadata": {},
   "source": [
    "### Exercício 07\n",
    "\n",
    "Usando a interpolação, faça um programa que imprima o resultado da subtração dos valores 60 - 25"
   ]
  },
  {
   "cell_type": "code",
   "execution_count": null,
   "id": "50afb9c4-c062-4165-8896-300bb3334cde",
   "metadata": {
    "tags": []
   },
   "outputs": [
    {
     "name": "stdout",
     "output_type": "stream",
     "text": [
      "A subtração de 60 - 25 é: 35\n"
     ]
    }
   ],
   "source": [
    "sub = 60 - 25\n",
    "\n",
    "\n",
    "print(f'A subtração de 60 - 25 é: {sub}')"
   ]
  },
  {
   "cell_type": "markdown",
   "id": "29e5c727-8e36-4e94-94d5-c237ae118124",
   "metadata": {},
   "source": [
    "---"
   ]
  },
  {
   "cell_type": "markdown",
   "id": "f2f27ece-7f4b-409e-86c0-4a7ac750ba98",
   "metadata": {},
   "source": [
    "### Exercício 08\n",
    "\n",
    "Usando a interpolação, crie 3 variáveis, nome, cidade e estado, em seguida imprima os valores das variáveis dentro do texto abaixo"
   ]
  },
  {
   "cell_type": "code",
   "execution_count": null,
   "id": "83ecc7b0-979b-424e-85a2-1f80be7f1586",
   "metadata": {
    "tags": []
   },
   "outputs": [
    {
     "name": "stdout",
     "output_type": "stream",
     "text": [
      "digite seu nome:  thomas\n",
      "digite sua cidade:  sorocaba\n",
      "digite o Estado de sua cidade:  SP\n",
      "Preencha as infomações abaixo:\n",
      "Nome: thomas\n",
      "Cidade: sorocaba\n",
      "Estado: SP\n",
      "\n"
     ]
    }
   ],
   "source": [
    "nome = input('digite seu nome: ')\n",
    "cidade = input ('digite sua cidade: ')\n",
    "estado = input ('digite o Estado de sua cidade: ')\n",
    "\n",
    "\n",
    "print(f'''Preencha as infomações abaixo:\n",
    "Nome: {nome}\n",
    "Cidade: {cidade}\n",
    "Estado: {estado}\n",
    "''')"
   ]
  },
  {
   "cell_type": "markdown",
   "id": "99501e93-3359-4d37-9889-61a86670c92d",
   "metadata": {},
   "source": [
    "---"
   ]
  },
  {
   "cell_type": "markdown",
   "id": "2b91bbfe-bdff-47f1-86a0-a3b4afa99843",
   "metadata": {},
   "source": [
    "### Exercício 09\n",
    "\n",
    "Usando a interpolação, crie 3 variáveis, cor1, cor2 e cor3, em seguida imprima os valores das variáveis dentro do texto abaixo"
   ]
  },
  {
   "cell_type": "code",
   "execution_count": null,
   "id": "7e116c1a-3feb-4b67-a235-4d3829c9f0f5",
   "metadata": {
    "tags": []
   },
   "outputs": [
    {
     "name": "stdout",
     "output_type": "stream",
     "text": [
      "Digite uma cor: vermelha\n",
      "Digite uma cor: preta\n",
      "Digite uma cor: branca\n",
      "Nome de cores:\n",
      "Cor 1: vermelha\n",
      "Cor 2: preta\n",
      "Cor 3: branca\n",
      "\n"
     ]
    }
   ],
   "source": [
    "cor1 = input('Digite uma cor:')\n",
    "cor2 = input('Digite uma cor:')\n",
    "cor3 = input('Digite uma cor:')\n",
    "\n",
    "\n",
    "\n",
    "print(f'''Nome de cores:\n",
    "Cor 1: {cor1}\n",
    "Cor 2: {cor2}\n",
    "Cor 3: {cor3}\n",
    "''')"
   ]
  },
  {
   "cell_type": "markdown",
   "id": "e2f5dff9-17f9-4767-82a7-82c7f1e83b62",
   "metadata": {},
   "source": [
    "---"
   ]
  },
  {
   "cell_type": "markdown",
   "id": "53b0f85c-a716-420a-b6da-16c6207bfae9",
   "metadata": {},
   "source": [
    "### Exercício 10\n",
    "\n",
    "Faça um programa que solicite o nome e a idade do usuário, sendo uma pergunta de cada vez, em seguida, usando a interpolação, imprima o nome e a idade fornecida no texto abaixo\n",
    "\n",
    "**Exemplo:**  \n",
    "_Pedro tem 21 anos!_"
   ]
  },
  {
   "cell_type": "code",
   "execution_count": null,
   "id": "8e9eb95b-485a-4ed9-b6ce-838e86c97c1d",
   "metadata": {
    "tags": []
   },
   "outputs": [
    {
     "name": "stdout",
     "output_type": "stream",
     "text": [
      "Qual seu nome? thomas\n",
      "Qual sua idade? 18\n",
      "O nome dele (a) é thomas\n",
      "thomas tem 18 anos!\n"
     ]
    }
   ],
   "source": [
    "nome = input('Qual seu nome?')\n",
    "idade = input('Qual sua idade?')\n",
    "\n",
    "print(f'O nome dele (a) é {nome}')\n",
    "print(f'{nome} tem {idade} anos!')"
   ]
  },
  {
   "cell_type": "markdown",
   "id": "e8bfc3fb-6918-47da-a475-c119966cc01e",
   "metadata": {},
   "source": [
    "---"
   ]
  },
  {
   "cell_type": "markdown",
   "id": "fe180d2b-e1e6-4fb8-82c7-4542fe095552",
   "metadata": {},
   "source": [
    "### Exercício 11\n",
    "\n",
    "Usando a interpolação, faça o arredondameno do número abaixo deixando apenas 2 casas decimais"
   ]
  },
  {
   "cell_type": "code",
   "execution_count": null,
   "id": "6f32e32b-58e1-4ec9-9537-e16dad379301",
   "metadata": {
    "tags": []
   },
   "outputs": [
    {
     "name": "stdout",
     "output_type": "stream",
     "text": [
      "O valor total da sua compra foi de 129.99\n"
     ]
    }
   ],
   "source": [
    "compra = 129.9945\n",
    "\n",
    "print(f'O valor total da sua compra foi de {round(compra,2)}')"
   ]
  },
  {
   "cell_type": "markdown",
   "id": "09094d46-a087-4679-bc3e-88449b9f015e",
   "metadata": {},
   "source": [
    "---"
   ]
  },
  {
   "cell_type": "markdown",
   "id": "4acbd285-f8c3-40bf-8c32-3b58b109cce9",
   "metadata": {},
   "source": [
    "### Exercício 12\n",
    "\n",
    "Usando a interpolação, faça o arredondameno do número abaixo deixando apenas 3 casas decimais"
   ]
  },
  {
   "cell_type": "code",
   "execution_count": null,
   "id": "ecfcc40d-dcdd-41be-b282-07f766aa5845",
   "metadata": {
    "tags": []
   },
   "outputs": [
    {
     "name": "stdout",
     "output_type": "stream",
     "text": [
      "A diferença entre os correores foi de apenas 0.875 milissegundos\n"
     ]
    }
   ],
   "source": [
    "ms = 0.8754321\n",
    "\n",
    "print(f'A diferença entre os correores foi de apenas {ms:.3f} milissegundos')"
   ]
  },
  {
   "cell_type": "markdown",
   "id": "2260ec1b-0017-4b90-b314-4aea01639859",
   "metadata": {},
   "source": [
    "---"
   ]
  },
  {
   "cell_type": "markdown",
   "id": "293d1d3a-675f-4068-b6fa-3285f99a8c07",
   "metadata": {},
   "source": [
    "### Exercício 13\n",
    "\n",
    "Usando a interpolação, faça o arredondameno do número abaixo deixando apenas 1 casal decimal"
   ]
  },
  {
   "cell_type": "code",
   "execution_count": null,
   "id": "5c8de827-7f14-4f6d-8890-c6bb545b4552",
   "metadata": {
    "tags": []
   },
   "outputs": [
    {
     "name": "stdout",
     "output_type": "stream",
     "text": [
      "A piscina tem apenas 0.6 metros de profundidade\n"
     ]
    }
   ],
   "source": [
    "m = 0.629874\n",
    "\n",
    "print(f'A piscina tem apenas {round(m,1)} metros de profundidade')"
   ]
  },
  {
   "cell_type": "markdown",
   "id": "7d4df24e-451e-4edf-92da-2d53ad03ba8e",
   "metadata": {},
   "source": [
    "---"
   ]
  },
  {
   "cell_type": "markdown",
   "id": "404737cb-7b08-4f60-bd97-bf7b22e9255b",
   "metadata": {},
   "source": [
    "### Exercício 14\n",
    "\n",
    "Faça um programa que solicite nome e a profissão do usuário, em seguida, usando a interpolação, imprima o nome e a profissão no texto abaixo\n",
    "\n",
    "**Exemplo:**  \n",
    "_João é enfermeiro._"
   ]
  },
  {
   "cell_type": "code",
   "execution_count": null,
   "id": "ab9304a6-c8c1-4cda-80ba-362aa122b9f2",
   "metadata": {
    "tags": []
   },
   "outputs": [
    {
     "name": "stdout",
     "output_type": "stream",
     "text": [
      "Qual seu nome? thomas\n",
      "Qual a sua profissão? programador\n",
      "O nome dele(a) é thomas\n",
      "thomas é programador.\n"
     ]
    }
   ],
   "source": [
    "nome = input('Qual seu nome?')\n",
    "profissao = input ('Qual a sua profissão?')\n",
    "\n",
    "\n",
    "print(f'O nome dele(a) é {nome}')\n",
    "print(f'{nome} é {profissao}.')"
   ]
  },
  {
   "cell_type": "markdown",
   "id": "974213f0-be41-49d9-abfb-f430d1d661ac",
   "metadata": {},
   "source": [
    "---"
   ]
  }
 ],
 "metadata": {
  "kernelspec": {
   "display_name": "Python 3 (ipykernel)",
   "language": "python",
   "name": "python3"
  },
  "language_info": {
   "codemirror_mode": {
    "name": "ipython",
    "version": 3
   },
   "file_extension": ".py",
   "mimetype": "text/x-python",
   "name": "python",
   "nbconvert_exporter": "python",
   "pygments_lexer": "ipython3",
   "version": "3.12.0"
  }
 },
 "nbformat": 4,
 "nbformat_minor": 5
}
