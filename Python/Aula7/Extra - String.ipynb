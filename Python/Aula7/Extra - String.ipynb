{
 "cells": [
  {
   "cell_type": "markdown",
   "id": "8423575c-e99d-4f19-bb0c-30c709d0581e",
   "metadata": {},
   "source": [
    "# <font color='OrangeRed'><center>Extra - String</center></font>"
   ]
  },
  {
   "cell_type": "markdown",
   "id": "56496ba3-b3f5-406c-b95a-451ba2fd1f00",
   "metadata": {},
   "source": [
    "### Exercício 01\n",
    "\n",
    "Faça um programa que peça um e-mail ao usuário para valiar se o ele digitou um e-mail do SENAI válido e em seguida crie a condicional abaixo:\n",
    "\n",
    "* Se o usuário digitou um e-mail válido retorne 'E-MAIL VÁLIDO'\n",
    "* Senão retorne 'E-MAIL INVÁLIDO'\n",
    "\n",
    "**Observação**  \n",
    "_Para o e-mail do SENAI ser considerado válido ele precisa terminar os caracteres **@senai.com.br**_"
   ]
  },
  {
   "cell_type": "code",
   "execution_count": 3,
   "id": "f1e2c34f-6798-49ff-9cbe-3b8c30886491",
   "metadata": {
    "tags": []
   },
   "outputs": [
    {
     "name": "stdout",
     "output_type": "stream",
     "text": [
      "EMAIL INVÁLIIDO\n"
     ]
    }
   ],
   "source": [
    "email = input('Digite o email: ')\n",
    "\n",
    "if email.endswith('@senaisp.com.br'):\n",
    "  print('email valido'.upper())\n",
    "else:\n",
    "  print('email inválido'.upper())\n"
   ]
  },
  {
   "cell_type": "markdown",
   "id": "ba8af6dc-a616-491a-b28b-e05f05af2a3a",
   "metadata": {},
   "source": [
    "---"
   ]
  },
  {
   "cell_type": "markdown",
   "id": "47aedddf-26f5-482c-a6e6-5f80fb3556fd",
   "metadata": {},
   "source": [
    "### Exercício 02\n",
    "\n",
    "Faça um programa que peça uma senha ao usuário, a senha correta é **PASSWORD**, porém o programa deve permitir o acesso mesmo que o usuário escreva a senha variando entre caixa alta e caixa baixa, por exemplo:\n",
    "\n",
    "* PASSWORD - Correto\n",
    "* PASSword - Correto\n",
    "* password - Correto\n",
    "* Password - Correto\n",
    "* PassWord - Correto\n",
    "\n",
    "Em seguida crie a condicional abaixo:\n",
    "\n",
    "* Se o usuário escrever a senha correta retorne 'Acesso liberado!'\n",
    "* Senão retorne 'Senha incorreta, por favor tente novamente.'"
   ]
  },
  {
   "cell_type": "code",
   "execution_count": 10,
   "id": "f0d69763-66d5-4911-938d-536cf7915aed",
   "metadata": {},
   "outputs": [
    {
     "name": "stdout",
     "output_type": "stream",
     "text": [
      "Acesso Liberado\n"
     ]
    }
   ],
   "source": [
    "senha = input('Digite sua senha: ').lower()\n",
    "\n",
    "if senha == 'password':\n",
    "  print('Acesso Liberado')\n",
    "else:\n",
    "  print('Senha incorreta tente novamente')\n",
    "\n",
    "\n"
   ]
  },
  {
   "cell_type": "markdown",
   "id": "f3cb629c-b1b0-40a4-ba78-437ce448724b",
   "metadata": {},
   "source": [
    "---"
   ]
  },
  {
   "cell_type": "markdown",
   "id": "4dab8475-f2ca-47f6-aa39-cfcc62d3bcef",
   "metadata": {},
   "source": [
    "### Exercício 03\n",
    "\n",
    "O CPF é um documento feito pela Receita Federal e serve para identificar os contribuintes, atualmente ele possui a numeração com 11 dígitos.\n",
    "\n",
    "Crie um programa que peça para o usuario digitir o CPF dele e caso o valor digitado contenha menos do que 11 dígitos complete os dígitos faltantes com zero a esquerda, por exemplo:\n",
    "\n",
    "**CPF:**  \n",
    "_12345678_  \n",
    "**Retorne:**  \n",
    "_00012345678_\n",
    "\n",
    "Por fim, imprima o CPF do usuário com 11 dígitos."
   ]
  },
  {
   "cell_type": "code",
   "execution_count": 15,
   "id": "f41ae54a-c611-4789-88a9-92fc63551134",
   "metadata": {
    "tags": []
   },
   "outputs": [
    {
     "name": "stdout",
     "output_type": "stream",
     "text": [
      "12345678936\n"
     ]
    }
   ],
   "source": [
    "cpf = input('Digite seu cpf: ')\n",
    "\n",
    "if len(cpf) == 11:\n",
    "  print(f'CPF --> {cpf}')\n",
    "else:\n",
    "  print(f'CPF PREENCIDO --> {cpf.zfill(11)}')\n"
   ]
  },
  {
   "cell_type": "markdown",
   "id": "2862dfbf-b7cb-4c8c-8aa7-34ba01e74c53",
   "metadata": {},
   "source": [
    "---"
   ]
  },
  {
   "cell_type": "markdown",
   "id": "6dbf619d-af87-4012-9885-789e40ce042e",
   "metadata": {},
   "source": [
    "### Exercício 04\n",
    "\n",
    "Faça um programa que peça um número para o usuário e em seguida crie uma validação para saber se o valor digitado é um número inteiro ou não, sendo:\n",
    "\n",
    "* Se o valor digitado for um número inteiro imprima 'O número digitado foi o {numero}.'\n",
    "* Senão retorne 'O valor digitado não é um número inteiro.'\n"
   ]
  },
  {
   "cell_type": "code",
   "execution_count": 17,
   "id": "ab9c1cf8-6064-48e3-84c5-fc14da5f540d",
   "metadata": {
    "tags": []
   },
   "outputs": [
    {
     "name": "stdout",
     "output_type": "stream",
     "text": [
      "O numero digitado não é um numero inteiro\n"
     ]
    }
   ],
   "source": [
    "n1 = input('Digite um numero: ')\n",
    "\n",
    "if n1.isdecimal():\n",
    "  print(f'O numero digitado foi o {n1}')\n",
    "else:\n",
    "  print('O numero digitado não é um numero inteiro')\n",
    "\n"
   ]
  },
  {
   "cell_type": "markdown",
   "id": "9239c2b7-145e-4176-b729-d61810f780da",
   "metadata": {},
   "source": [
    "---"
   ]
  },
  {
   "cell_type": "markdown",
   "id": "5fb7d12f-67f7-4b82-b244-a8d0747b6dd4",
   "metadata": {
    "tags": []
   },
   "source": [
    "### Exercício 05\n",
    "\n",
    "Faça um programa que peça para o usuário criar uma nova senha, porém por questões de segurança a senha deve atender os requisitos abaixo:\n",
    "\n",
    "* A senha deve conter no mínimo 8 caracteres\n",
    "* A senha deve ser composta por letras e/ou números\n",
    "* A senha não pode conter espaços em branco ou caracteres especiais\n",
    "\n",
    "Em seguida crie a condição abaixo:\n",
    "\n",
    "* Se a senha atender os requisitos acima retorne 'Nova senha cadastrada com sucesso!'\n",
    "* Senão retorne 'Sua senha não atende os requisitos.'"
   ]
  },
  {
   "cell_type": "code",
   "execution_count": 4,
   "id": "67ca62db-190c-4deb-8aa8-5d534b05682b",
   "metadata": {
    "tags": []
   },
   "outputs": [
    {
     "name": "stdout",
     "output_type": "stream",
     "text": [
      "Sua Senha Não Atende Os Riquisitos\n"
     ]
    }
   ],
   "source": [
    "senha = input('''Digite uma nova senha: \n",
    "* A senha deve conter no mínimo 8 caracteres\n",
    "* A senha deve ser composta por letras e/ou números\n",
    "* A senha não pode conter espaços em branco ou caracteres especiais\n",
    "''')\n",
    "\n",
    "if len (senha) >= 8 and senha.isalnum():\n",
    "  print('nova senha cadastrada com sucesso'.title())\n",
    "else:\n",
    "  print('sua senha não atende os riquisitos'.title())\n",
    "\n"
   ]
  },
  {
   "cell_type": "markdown",
   "id": "491a3e95-bbb7-4044-bc32-a1ac9f4d93fb",
   "metadata": {},
   "source": [
    "---"
   ]
  },
  {
   "cell_type": "markdown",
   "id": "12100321-d4cf-475c-8a55-e709f8fb2b1d",
   "metadata": {},
   "source": [
    "### Exercício 06\n",
    "\n",
    "Faça um programa que peça para o usuário digitar um **número com ponto flutuante** e em seguida converta o caracter '.' - ponto - por ',' - vírgula -, por exemplo:\n",
    "\n",
    "**Antes**  \n",
    "_Valor da conta: R$20.50_\n",
    "\n",
    "**Depois**  \n",
    "_Valor da conta: R$20,50_"
   ]
  },
  {
   "cell_type": "code",
   "execution_count": 8,
   "id": "3e7f7c38-0453-4c64-af47-39908c0ea2ef",
   "metadata": {
    "tags": []
   },
   "outputs": [
    {
     "name": "stdout",
     "output_type": "stream",
     "text": [
      "1,1\n"
     ]
    }
   ],
   "source": [
    "n1 = input('Digite um numero com virgula: ')\n",
    "\n",
    "print(n1.replace('.', ','))\n",
    "\n"
   ]
  },
  {
   "cell_type": "markdown",
   "id": "9fafa171-8be0-4d59-8d7f-9a5f19545469",
   "metadata": {},
   "source": [
    "---"
   ]
  },
  {
   "cell_type": "markdown",
   "id": "9ad50e68-3567-47e6-9a5f-850a5159b1f2",
   "metadata": {},
   "source": [
    "### Exercício 07\n",
    "\n",
    "Faça um programa que peça para o usuário digitar qualquer entrada de texto e em seguida crie a condição abaixo:\n",
    "\n",
    "* Se os valores digitados forem apenas números retorne 'Foram digitados apenas NÚMEROS'\n",
    "* Se os valores digitados forem apenas letras retorne 'Foram digitados apenas LETRAS'\n",
    "* Se os valores digitados forem letras e números retorne 'Foram digitados LETRAS e NÚMEROS'\n",
    "* Senão retorne 'Valor não identificado'"
   ]
  },
  {
   "cell_type": "code",
   "execution_count": 12,
   "id": "b2cf5275-67e3-4caa-b492-08d60c65892b",
   "metadata": {
    "tags": []
   },
   "outputs": [
    {
     "name": "stdout",
     "output_type": "stream",
     "text": [
      "valor nao identificado\n"
     ]
    }
   ],
   "source": [
    "txt = input('Digite um texto: ')\n",
    "\n",
    "if txt.isdecimal():\n",
    "  print(f'Foram digitados apenas numeros {txt}')\n",
    "elif txt.isalpha():\n",
    "  print(f'Foram digitados apenas letras {txt}')\n",
    "elif txt.isalnum():\n",
    "  print(f'Foram digitados letras e numeros {txt}')\n",
    "else:\n",
    "  print('valor nao identificado')\n",
    "\n"
   ]
  },
  {
   "cell_type": "markdown",
   "id": "48becb2e-b5b3-4319-89e1-052268624a3e",
   "metadata": {},
   "source": [
    "---"
   ]
  },
  {
   "cell_type": "markdown",
   "id": "1804504d-faf5-4dbe-917d-8c23832233be",
   "metadata": {},
   "source": [
    "### Exercício 08\n",
    "\n",
    "Faça um programa que peça para o usuário digitar o RG dele incluindo os pontos e traço e em seguinda imprima o número do RG sem eles, por exemplo:\n",
    "\n",
    "**Entrada:**  \n",
    "_022.284.529-55_  \n",
    "\n",
    "**Saída:**  \n",
    "_02228452955_"
   ]
  },
  {
   "cell_type": "code",
   "execution_count": 15,
   "id": "7cc907fa-9b5e-4ab0-8983-cb4bb83d17d8",
   "metadata": {
    "tags": []
   },
   "outputs": [
    {
     "name": "stdout",
     "output_type": "stream",
     "text": [
      "50.333.736-5\n",
      "503337365\n"
     ]
    }
   ],
   "source": [
    "\n",
    "rg = input('Digite seu RG: ')\n",
    "\n",
    "print(rg)\n",
    "print(rg.replace('.','').replace('-',''))\n",
    "\n",
    "\n"
   ]
  },
  {
   "cell_type": "markdown",
   "id": "f141de8d-af24-4b51-9ff3-63f4aa3ead6b",
   "metadata": {},
   "source": [
    "---"
   ]
  },
  {
   "cell_type": "markdown",
   "id": "ea7dbd0c-4323-43aa-9f2c-556825f2ae28",
   "metadata": {},
   "source": [
    "### Exercício 09\n",
    "\n",
    "Faça um programa para validar a senha digitada pelo usuário, a senha deve atender os requisitos abaixo:\n",
    "\n",
    "* Conter apenas números\n",
    "* Conter entre 6 a 8 dígitos\n",
    "\n",
    "Em seguida crie a condição abaixo:\n",
    "\n",
    "* Se a senha atender os requisitos acima retorne 'Nova senha cadastrada!'\n",
    "* Senão retorne 'Sua senha não atende os requisitos.'"
   ]
  },
  {
   "cell_type": "code",
   "execution_count": 11,
   "id": "d2c85f3c-f38d-46ec-a56b-764ecac4d14d",
   "metadata": {
    "tags": []
   },
   "outputs": [
    {
     "name": "stdout",
     "output_type": "stream",
     "text": [
      "Nova senha cadastrada\n"
     ]
    }
   ],
   "source": [
    "senha = input('Digite uma senha, apenas com numeros: ')\n",
    "\n",
    "if senha.isdecimal() and len(senha) >= 6 and len(senha) <= 8:\n",
    "  print('Nova senha cadastrada')\n",
    "else:\n",
    "  print('Sua senha não atende os requisitos')\n",
    "\n",
    "\n",
    "\n"
   ]
  },
  {
   "cell_type": "markdown",
   "id": "98eaa664-23ee-4ee9-94d1-4fe319d49762",
   "metadata": {},
   "source": [
    "---"
   ]
  },
  {
   "cell_type": "markdown",
   "id": "f0f84092-4b3f-43db-a7a9-8966793739ed",
   "metadata": {},
   "source": [
    "### Exercício 10\n",
    "\n",
    "Faça um programa que peça para o usuário digitar apenas o primeiro nome dele, em seguida verifique se o texto inserido é válido, ou seja, se ele não contém números ou caracteres especiais, sendo:\n",
    "\n",
    "* Se o texto inserido for válido retorne 'Olá {nome}!'\n",
    "* Senão retorne 'Nome inválido.'"
   ]
  },
  {
   "cell_type": "code",
   "execution_count": 2,
   "id": "4df4f84c-1bb0-4711-b11a-501d1ed57e65",
   "metadata": {
    "tags": []
   },
   "outputs": [
    {
     "name": "stdout",
     "output_type": "stream",
     "text": [
      "Nome Inválido\n"
     ]
    }
   ],
   "source": [
    "name = input('Digite seu primeiro nome: ')\n",
    "\n",
    "if name.isalpha():\n",
    "  print(f'Olá {name}')\n",
    "else:\n",
    "  print('Nome Inválido')\n",
    "\n"
   ]
  },
  {
   "cell_type": "markdown",
   "id": "1ab58004-9269-40e2-b796-0e172aa2e1d0",
   "metadata": {},
   "source": [
    "---"
   ]
  },
  {
   "cell_type": "markdown",
   "id": "9058f3bd-ebf1-4521-b316-1d14ee72644e",
   "metadata": {},
   "source": [
    "### Exercício 11\n",
    "\n",
    "Faça um programa que peça para o usuário o código de rastreio e em seguida valide se o código inserido antende os requisitos abaixo:\n",
    "\n",
    "* O código deve iniciar com os caracteres 'SP'\n",
    "* O código deve finalizar com os caracteres 'BR'\n",
    "* O código deve conter exatamente 13 caracteres\n",
    "\n",
    "**Exemplo de um código válido:**  \n",
    "_SP123456785BR_\n",
    "\n",
    "Em seguida crie a condição abaixo:\n",
    "\n",
    "* Se o código de atender os requisitos acima retorne 'Seu pedido está a caminho!'\n",
    "* Senão retorne 'Código inválido. Por favor verifique o código digitado.'"
   ]
  },
  {
   "cell_type": "code",
   "execution_count": 7,
   "id": "14100a50-15cc-4488-988d-2618b0ce331b",
   "metadata": {
    "tags": []
   },
   "outputs": [
    {
     "name": "stdout",
     "output_type": "stream",
     "text": [
      "Seu Pedido esta A Caminhooo\n"
     ]
    }
   ],
   "source": [
    "codigo = input('Digite o codigo de rastreio: ')\n",
    "\n",
    "if codigo.startswith('SP') and codigo.endswith('BR') and len(codigo) == 13:\n",
    "  print('Seu Pedido esta A Caminhooo')\n",
    "else:\n",
    "  print('Código Inválido. Por Favor verifique o código digitado')\n",
    "\n"
   ]
  },
  {
   "cell_type": "markdown",
   "id": "88d86f03-2a70-4be3-9d6d-3d10445a9a3f",
   "metadata": {},
   "source": [
    "---"
   ]
  },
  {
   "cell_type": "markdown",
   "id": "e85c40f8-9d73-4c19-b4c0-4645ee51f3dd",
   "metadata": {},
   "source": [
    "### Exercício 12\n",
    "\n",
    "Faça um programa que peça para o usuário digitar uma única letra e retorne se a letra digitada é uma vogal ou consoante. O programa deve considerar vogais de caixa alta e caixa baixa."
   ]
  },
  {
   "cell_type": "code",
   "execution_count": 8,
   "id": "88763ce2-60fc-4933-b165-dd59b79d7742",
   "metadata": {},
   "outputs": [
    {
     "name": "stdout",
     "output_type": "stream",
     "text": [
      "@ é uma consoante\n"
     ]
    }
   ],
   "source": [
    "letra = input('Digite uma letra: ')\n",
    "\n",
    "if letra.lower() == 'a' or letra == 'e' or letra == 'i' or letra == 'o' or letra == 'u':\n",
    "  print(f'{letra} é uma vogal')\n",
    "else:\n",
    "  print(f'{letra} é uma consoante')\n"
   ]
  },
  {
   "cell_type": "markdown",
   "id": "152b7e62-2ba0-4126-8469-a59aa5bf24f2",
   "metadata": {},
   "source": [
    "---"
   ]
  },
  {
   "cell_type": "markdown",
   "id": "a0971471-6602-42de-a938-2a33ac424b5d",
   "metadata": {},
   "source": [
    "### Exercício 13\n",
    "\n",
    "Faça um programa que retorne a quantidade de vogais que aparecem no texto abaixo, sendo:\n",
    "\n",
    "* O programa deve contabilizar as vogais de caixa alta e caixa baixa\n",
    "* O programa deve desconsiderar vogais com acento\n"
   ]
  },
  {
   "cell_type": "code",
   "execution_count": 2,
   "id": "b736e8ec-0ef3-47c0-933c-4840e8cc6893",
   "metadata": {
    "tags": []
   },
   "outputs": [
    {
     "name": "stdout",
     "output_type": "stream",
     "text": [
      "A letra \"a\" aparece 23 vezes\n",
      "A letra \"A\" Maiuscula aparece 2 vezes\n",
      "A letra \"e\" aparece 21 vezes\n",
      "A letra \"E\" Maiuscula aparece 2 vezes\n",
      "A letra \"i\" aparece 22 vezes\n",
      "A letra \"I\" Maiuscula aparece 2 vezes\n",
      "A letra \"o\" aparece 23 vezes\n",
      "A letra \"O\" Maiuscula aparece 1 vezes\n",
      "A letra \"u\" aparece 7 vezes\n",
      "A letra \"U\" Maiuscula aparece 0 vezes\n",
      "--------------------------------------------------------------\n",
      "A letra \"ã\" aparece 3 vezes\n",
      "A letra \"Ã\" Maiuscula aparece 0 vezes\n",
      "A letra \"á\" aparece 0 vezes\n",
      "A letra \"Á\" Maiuscula aparece 0 vezes\n",
      "A letra \"à\" aparece 0 vezes\n",
      "A letra \"À\" Maiuscula aparece 0 vezes\n",
      "A letra \"â\" aparece 0 vezes\n",
      "A letra \"Â\" Maiuscula aparece 0 vezes\n",
      "A letra \"é\" aparece 1 vezes\n",
      "A letra \"É\" Maiuscula aparece 0 vezes\n",
      "A letra \"ê\" aparece 0 vezes\n",
      "A letra \"Ê\" Maiuscula aparece 0 vezes\n",
      "A letra \"í\" aparece 0 vezes\n",
      "A letra \"Í\" Maiuscula aparece 0 vezes\n",
      "A letra \"ó\" aparece 1 vezes\n",
      "A letra \"Ó\" Maiuscula aparece 0 vezes\n",
      "A letra \"õ\" aparece 0 vezes\n",
      "A letra \"Õ\" Maiuscula aparece 0 vezes\n",
      "A letra \"ô\" aparece 0 vezes\n",
      "A letra \"Ô\" Maiuscula aparece 0 vezes\n",
      "A letra \"ú\" aparece 0 vezes\n",
      "A letra \"Ú\" Maiuscula aparece 0 vezes\n"
     ]
    }
   ],
   "source": [
    "texto = ''' O Serviço Nacional de Aprendizagem Industrial (SENAI) tem como objetivo estimular \n",
    "a inovação industrial por meio da educação, consultoria, pesquisa aplicada e serviços técnicos \n",
    "e tecnológicos que são decisivos para a competitividade das empresas do Estado e do Brasil.'''\n",
    "\n",
    "print(f'A letra \"a\" aparece {texto.count(\"a\")} vezes')\n",
    "print(f'A letra \"A\" Maiuscula aparece {texto.count(\"A\")} vezes')\n",
    "print(f'A letra \"e\" aparece {texto.count(\"e\")} vezes')\n",
    "print(f'A letra \"E\" Maiuscula aparece {texto.count(\"E\")} vezes')\n",
    "print(f'A letra \"i\" aparece {texto.count(\"i\")} vezes')\n",
    "print(f'A letra \"I\" Maiuscula aparece {texto.count(\"I\")} vezes')\n",
    "print(f'A letra \"o\" aparece {texto.count(\"o\")} vezes')\n",
    "print(f'A letra \"O\" Maiuscula aparece {texto.count(\"O\")} vezes')\n",
    "print(f'A letra \"u\" aparece {texto.count(\"u\")} vezes')\n",
    "print(f'A letra \"U\" Maiuscula aparece {texto.count(\"U\")} vezes')\n",
    "\n",
    "print('--------------------------------------------------------------')\n",
    "\n",
    "print(f'A letra \"ã\" aparece {texto.count(\"ã\")} vezes')\n",
    "print(f'A letra \"Ã\" Maiuscula aparece {texto.count(\"Ã\")} vezes')\n",
    "print(f'A letra \"á\" aparece {texto.count(\"á\")} vezes')\n",
    "print(f'A letra \"Á\" Maiuscula aparece {texto.count(\"Á\")} vezes')\n",
    "print(f'A letra \"à\" aparece {texto.count(\"à\")} vezes')\n",
    "print(f'A letra \"À\" Maiuscula aparece {texto.count(\"À\")} vezes')\n",
    "print(f'A letra \"â\" aparece {texto.count(\"â\")} vezes')\n",
    "print(f'A letra \"Â\" Maiuscula aparece {texto.count(\"Â\")} vezes')\n",
    "print(f'A letra \"é\" aparece {texto.count(\"é\")} vezes')\n",
    "print(f'A letra \"É\" Maiuscula aparece {texto.count(\"É\")} vezes')\n",
    "print(f'A letra \"ê\" aparece {texto.count(\"ê\")} vezes')\n",
    "print(f'A letra \"Ê\" Maiuscula aparece {texto.count(\"Ê\")} vezes')\n",
    "print(f'A letra \"í\" aparece {texto.count(\"í\")} vezes')\n",
    "print(f'A letra \"Í\" Maiuscula aparece {texto.count(\"Í\")} vezes')\n",
    "print(f'A letra \"ó\" aparece {texto.count(\"ó\")} vezes')\n",
    "print(f'A letra \"Ó\" Maiuscula aparece {texto.count(\"Ó\")} vezes')\n",
    "print(f'A letra \"õ\" aparece {texto.count(\"õ\")} vezes')\n",
    "print(f'A letra \"Õ\" Maiuscula aparece {texto.count(\"Õ\")} vezes')\n",
    "print(f'A letra \"ô\" aparece {texto.count(\"ô\")} vezes')\n",
    "print(f'A letra \"Ô\" Maiuscula aparece {texto.count(\"Ô\")} vezes')\n",
    "print(f'A letra \"ú\" aparece {texto.count(\"ú\")} vezes')\n",
    "print(f'A letra \"Ú\" Maiuscula aparece {texto.count(\"Ú\")} vezes')"
   ]
  },
  {
   "cell_type": "markdown",
   "id": "ea346d53-7d93-4413-87c9-e317bd35c5fc",
   "metadata": {},
   "source": [
    "---"
   ]
  }
 ],
 "metadata": {
  "kernelspec": {
   "display_name": "Python 3 (ipykernel)",
   "language": "python",
   "name": "python3"
  },
  "language_info": {
   "codemirror_mode": {
    "name": "ipython",
    "version": 3
   },
   "file_extension": ".py",
   "mimetype": "text/x-python",
   "name": "python",
   "nbconvert_exporter": "python",
   "pygments_lexer": "ipython3",
   "version": "3.12.0"
  }
 },
 "nbformat": 4,
 "nbformat_minor": 5
}
