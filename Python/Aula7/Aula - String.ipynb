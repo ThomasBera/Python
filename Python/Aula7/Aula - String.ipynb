{
 "cells": [
  {
   "cell_type": "markdown",
   "id": "8423575c-e99d-4f19-bb0c-30c709d0581e",
   "metadata": {},
   "source": [
    "# <font color='OrangeRed'><center>Exercícios - String</center></font>"
   ]
  },
  {
   "cell_type": "markdown",
   "id": "9145802d-9b62-4fd3-a72e-4732dac9ac04",
   "metadata": {},
   "source": [
    "### Exercício 01\n",
    "\n",
    "Faça um programa que converta as primeiras letras de cada uma das palavras da string abaixo em maiúsculas e as demais letras em minúsculas."
   ]
  },
  {
   "cell_type": "code",
   "execution_count": 1,
   "id": "37e21927-8dd5-44d5-97a3-f5db8143340d",
   "metadata": {},
   "outputs": [
    {
     "name": "stdout",
     "output_type": "stream",
     "text": [
      "Escola Senai Gaspar Ricardo Junior\n"
     ]
    }
   ],
   "source": [
    "texto = 'escola senai gaspar ricardo junior'\n",
    "print(texto.title())\n"
   ]
  },
  {
   "cell_type": "markdown",
   "id": "4e9d3710-4614-4733-8726-6df6653f9ddb",
   "metadata": {},
   "source": [
    "---"
   ]
  },
  {
   "cell_type": "markdown",
   "id": "63b6b35a-452f-449d-9909-c333e10e5998",
   "metadata": {},
   "source": [
    "### Exercício 02\n",
    "\n",
    "Faça um programa que receba o nome completo do usuário e que em seguida converta as primeiras letras de cada nome em maiúsculas e as demais em minúsculas."
   ]
  },
  {
   "cell_type": "code",
   "execution_count": 3,
   "id": "2c9a0077-683a-4037-af3d-f1df95e46a59",
   "metadata": {},
   "outputs": [
    {
     "name": "stdout",
     "output_type": "stream",
     "text": [
      "thomas rodrigues bera\n",
      "Thomas Rodrigues Bera\n"
     ]
    }
   ],
   "source": [
    "nome = input('Digite seu nome completo: ')\n",
    "print(nome)\n",
    "print(nome.title())\n",
    "\n"
   ]
  },
  {
   "cell_type": "markdown",
   "id": "f1f3c4f1-2864-4eb6-8b51-4fc85d841ccc",
   "metadata": {},
   "source": [
    "---"
   ]
  },
  {
   "cell_type": "markdown",
   "id": "3839c2fd-0ed3-48c2-8dbb-333623686d22",
   "metadata": {},
   "source": [
    "### Exercício 03\n",
    "\n",
    "Faça um programa que converta o a palavra 'Paiton' da frase 'Programação em Paiton' para 'Python'."
   ]
  },
  {
   "cell_type": "code",
   "execution_count": 4,
   "id": "686ebf1e-5dac-4c3a-81e5-01d8db3a4329",
   "metadata": {},
   "outputs": [
    {
     "name": "stdout",
     "output_type": "stream",
     "text": [
      "Programação em Paiton\n",
      "Programação em Python\n"
     ]
    }
   ],
   "source": [
    "curso = 'Programação em Paiton'\n",
    "\n",
    "print(curso)\n",
    "print(curso.replace('Paiton','Python'))\n"
   ]
  },
  {
   "cell_type": "markdown",
   "id": "18123b18-dd1b-4475-8364-fbd622f5e1ae",
   "metadata": {},
   "source": [
    "---"
   ]
  },
  {
   "cell_type": "markdown",
   "id": "39ff5171-d711-4c85-9e0c-65af0de1b43b",
   "metadata": {},
   "source": [
    "### Exercício 04\n",
    "\n",
    "Faça um programa que retorne o número de caracteres do texto abaixo."
   ]
  },
  {
   "cell_type": "code",
   "execution_count": 8,
   "id": "09205df2-caf4-426d-833d-cc87a9be1cb7",
   "metadata": {},
   "outputs": [
    {
     "name": "stdout",
     "output_type": "stream",
     "text": [
      "Laranja\n",
      "7\n"
     ]
    }
   ],
   "source": [
    "fruta = 'Laranja'\n",
    "\n",
    "print(fruta)\n",
    "print(len(fruta))"
   ]
  },
  {
   "cell_type": "markdown",
   "id": "cd66c5de-0c1b-46be-89d4-5cd37b6aea72",
   "metadata": {},
   "source": [
    "---"
   ]
  },
  {
   "cell_type": "markdown",
   "id": "772b2c9a-999a-46fd-9c46-44dc3e3ec3c9",
   "metadata": {},
   "source": [
    "### Exercício 05\n",
    "\n",
    "Faça um programa que peça ao usuário escrever uma frase e que em seguida imprima o número de caracteres digitados."
   ]
  },
  {
   "cell_type": "code",
   "execution_count": 27,
   "id": "0f76e7b1-b239-46f8-9bfe-49a63054aa3b",
   "metadata": {},
   "outputs": [
    {
     "name": "stdout",
     "output_type": "stream",
     "text": [
      "lindo é o thomas\n",
      "A quantidade de letras digitadas é de 16\n"
     ]
    }
   ],
   "source": [
    "frase = input('Digite uma frase: ')\n",
    "\n",
    "print(frase)\n",
    "print(f'A quantidade de letras digitadas é de {len(frase)}')\n",
    "\n"
   ]
  },
  {
   "cell_type": "markdown",
   "id": "64157bd6-0f67-40ec-99d9-95fcd3340704",
   "metadata": {},
   "source": [
    "---"
   ]
  },
  {
   "cell_type": "markdown",
   "id": "797eaee6-b356-4657-af4a-df9ca77c0725",
   "metadata": {},
   "source": [
    "### Exercício 06\n",
    "\n",
    "Faça um programa que peça ao usuário digitar uma nova senha, em seguida crie a seguinte condição:\n",
    "- Se nova senha fornecida tiver 6 ou mais caracteres retorne 'NOVA SENHA CADASTRADA'\n",
    "- Se nova senha fornecida tiver menos do que 6 caracteres retorne 'SENHA INCORRETA. A NOVA SENHA DEVE TER NO MINÍMO 6 CARACTERES'"
   ]
  },
  {
   "cell_type": "code",
   "execution_count": 17,
   "id": "79b65d6e-987e-40f4-9e43-08201f710a92",
   "metadata": {},
   "outputs": [
    {
     "name": "stdout",
     "output_type": "stream",
     "text": [
      "SENHA INCORRETA. NOVA SENHA DEVE TER NO MINIMO 6 CARACTERES\n"
     ]
    }
   ],
   "source": [
    "senha = input('Digite uma nova senha: ')\n",
    "\n",
    "if len(senha) >= 6 :\n",
    "  print('NOVA SENHA CADASTRADA')\n",
    "else:\n",
    "  print('SENHA INCORRETA. NOVA SENHA DEVE TER NO MINIMO 6 CARACTERES')\n",
    "\n"
   ]
  },
  {
   "cell_type": "markdown",
   "id": "c1a3dd7f-d208-498b-b061-2b48eef6cde3",
   "metadata": {},
   "source": [
    "---"
   ]
  },
  {
   "cell_type": "markdown",
   "id": "e4ebfbed-e6d2-4680-85d3-765dcf3d5557",
   "metadata": {},
   "source": [
    "### Exercício 07\n",
    "\n",
    "Faça um programa que converta todas as letras em maiúsculas do texto abaixo."
   ]
  },
  {
   "cell_type": "code",
   "execution_count": 18,
   "id": "820cdafc-dedd-435f-9b8d-49f5c6dffe01",
   "metadata": {},
   "outputs": [
    {
     "name": "stdout",
     "output_type": "stream",
     "text": [
      "StrinG\n",
      "STRING\n"
     ]
    }
   ],
   "source": [
    "palavra = 'StrinG'\n",
    "\n",
    "print(palavra)\n",
    "print(palavra.upper())"
   ]
  },
  {
   "cell_type": "markdown",
   "id": "99f6553e-547a-40cc-91c8-9bbb37dd784a",
   "metadata": {},
   "source": [
    "---"
   ]
  },
  {
   "cell_type": "markdown",
   "id": "0814a84e-edd9-4e6c-8c19-9faa2302b84a",
   "metadata": {},
   "source": [
    "### Exercício 08\n",
    "\n",
    "Faça um programa que peça ao usuário escrever uma frase e que em seguida imprima todas as letras em maiúsculas."
   ]
  },
  {
   "cell_type": "code",
   "execution_count": 19,
   "id": "ef3fbc5b-547f-4be5-8c91-529e34231e68",
   "metadata": {},
   "outputs": [
    {
     "name": "stdout",
     "output_type": "stream",
     "text": [
      "thomas\n",
      "THOMAS\n"
     ]
    }
   ],
   "source": [
    "frase = input('Digite uma frase: ')\n",
    "\n",
    "print(frase)\n",
    "print(frase.upper())\n",
    "\n"
   ]
  },
  {
   "cell_type": "markdown",
   "id": "659989e7-da21-4b75-b53a-30c8d4b02325",
   "metadata": {},
   "source": [
    "---"
   ]
  },
  {
   "cell_type": "markdown",
   "id": "0b7e95e9-4f1e-4a13-bcbb-bc4e328187b5",
   "metadata": {},
   "source": [
    "### Exercício 09\n",
    "\n",
    "Faça um programa que converta todas as letras em minúsculas do texto abaixo."
   ]
  },
  {
   "cell_type": "code",
   "execution_count": 20,
   "id": "d708aeb5-171c-4837-ae22-d4fd87b8db15",
   "metadata": {},
   "outputs": [
    {
     "name": "stdout",
     "output_type": "stream",
     "text": [
      "STRING\n",
      "string\n"
     ]
    }
   ],
   "source": [
    "palavra = 'STRING'\n",
    "\n",
    "print(palavra)\n",
    "print(palavra.lower())\n"
   ]
  },
  {
   "cell_type": "markdown",
   "id": "47c2e41c-d36e-4b93-a2ab-e8deefd10b89",
   "metadata": {},
   "source": [
    "---"
   ]
  },
  {
   "cell_type": "markdown",
   "id": "9a4b985a-3437-4913-82fa-396d44895d46",
   "metadata": {},
   "source": [
    "### Exercício 10\n",
    "\n",
    "Faça um programa que peça ao usuário escrever uma frase e que em seguida imprima todas as letras em minúsculas.\n",
    "\n",
    "_Não esqueça de digitar algumas ou todas letras em **maiúsculas** para testar o programa._"
   ]
  },
  {
   "cell_type": "code",
   "execution_count": 21,
   "id": "eb5040fb-c183-4769-a46d-b732ad4efd06",
   "metadata": {},
   "outputs": [
    {
     "name": "stdout",
     "output_type": "stream",
     "text": [
      "EU SOU RICO, pore sou feio \n",
      "eu sou rico, pore sou feio \n"
     ]
    }
   ],
   "source": [
    "frase = input('Digite uma frase: ')\n",
    "\n",
    "print(frase)\n",
    "print(frase.lower())\n",
    "\n",
    "\n"
   ]
  },
  {
   "cell_type": "markdown",
   "id": "94dee6b0-9457-480d-b7a3-593655f808e9",
   "metadata": {},
   "source": [
    "---"
   ]
  },
  {
   "cell_type": "markdown",
   "id": "f5b755b9-850d-45e2-a877-bf728793f15c",
   "metadata": {
    "tags": []
   },
   "source": [
    "### Exercício 11\n",
    "\n",
    "Faça um programa que retorne a palavra abaixo sem os os espaços em branco nas extremidades."
   ]
  },
  {
   "cell_type": "code",
   "execution_count": 22,
   "id": "af254367-149a-4380-adaf-a608591f4b7d",
   "metadata": {},
   "outputs": [
    {
     "name": "stdout",
     "output_type": "stream",
     "text": [
      "       Programação em Python            \n",
      "Programação em Python\n"
     ]
    }
   ],
   "source": [
    "palavra = '       Programação em Python            '\n",
    "\n",
    "print(palavra)\n",
    "print(palavra.strip())"
   ]
  },
  {
   "cell_type": "markdown",
   "id": "4b7401ee-be92-4f01-969c-ab595c4efd5b",
   "metadata": {},
   "source": [
    "---"
   ]
  },
  {
   "cell_type": "markdown",
   "id": "af4996ab-988b-4759-a92e-e478298fcc17",
   "metadata": {},
   "source": [
    "### Exercício 12\n",
    "\n",
    "Faça um programa que concatene todos os textos abaixo para retornar 'Escola SENAI Luiz Pagliato'."
   ]
  },
  {
   "cell_type": "code",
   "execution_count": 23,
   "id": "06d4061c-7375-45a7-96ee-7d59a456bffa",
   "metadata": {},
   "outputs": [
    {
     "name": "stdout",
     "output_type": "stream",
     "text": [
      "Escola SENAI Luiz Pagliato\n"
     ]
    }
   ],
   "source": [
    "texto1 = 'Escola '\n",
    "texto2 = 'SENAI '\n",
    "texto3 = 'Luiz '\n",
    "texto4 = 'Pagliato'\n",
    "\n",
    "print(texto1 + texto2 + texto3 + texto4)"
   ]
  },
  {
   "cell_type": "markdown",
   "id": "f15d7809-27fb-4369-abff-e7997800d204",
   "metadata": {},
   "source": [
    "---"
   ]
  },
  {
   "cell_type": "markdown",
   "id": "85e81454-c7d1-42fa-b96c-2cb26db9f908",
   "metadata": {},
   "source": [
    "### Exercício 13"
   ]
  },
  {
   "cell_type": "markdown",
   "id": "fc20db5e-714d-4e41-9a82-ebb536e35f75",
   "metadata": {},
   "source": [
    "Faça um programa que receba dois textos do usuário, o primeiro peça para ele digitar um nome e no segundo peça para ele digitar um sobrenome, em seguida concatene os dois textos para retornar o nome completo."
   ]
  },
  {
   "cell_type": "code",
   "execution_count": 24,
   "id": "f7f2123e-e668-42f2-8514-dc3b0641dbe7",
   "metadata": {},
   "outputs": [
    {
     "name": "stdout",
     "output_type": "stream",
     "text": [
      "thomas bera\n"
     ]
    }
   ],
   "source": [
    "txt1 = input('Digite seu nome: ')\n",
    "txt2 = input('Digite seu sobrenome:')\n",
    "\n",
    "print(txt1, txt2)\n",
    "\n"
   ]
  },
  {
   "cell_type": "markdown",
   "id": "a1402206-1047-403e-8d47-ea4d4c933500",
   "metadata": {},
   "source": [
    "---"
   ]
  },
  {
   "cell_type": "markdown",
   "id": "25276b5d-dc47-4f18-96f5-ad1bfb25184f",
   "metadata": {},
   "source": [
    "### Exercício 14\n",
    "\n",
    "Faça um programa que retorne a frase abaixo repetindo a palavra 'muito' 5 vezes. Exemplo:\n",
    "\n",
    "> \"Python é muito muito muito muito muito legal!\""
   ]
  },
  {
   "cell_type": "code",
   "execution_count": 25,
   "id": "338bb4a1-1d8f-4926-94ed-8b905f38ab9f",
   "metadata": {},
   "outputs": [
    {
     "name": "stdout",
     "output_type": "stream",
     "text": [
      "Python é muito muito muito muito muito legal!\n"
     ]
    }
   ],
   "source": [
    "texto1 = 'Python é '\n",
    "texto2 = 'muito '\n",
    "texto3 = 'legal!'\n",
    "\n",
    "print(texto1 + texto2 * 5 + texto3)"
   ]
  },
  {
   "cell_type": "markdown",
   "id": "e9c33872-8df6-4bd8-9f04-0b9871dba54b",
   "metadata": {},
   "source": [
    "---"
   ]
  },
  {
   "cell_type": "markdown",
   "id": "f9e13e1e-e6a2-46b7-ab64-427507924aac",
   "metadata": {},
   "source": [
    "### Exercício 15\n",
    "\n",
    "Faça um programa que retorne a quantidade de vezes que a letra 'e' aparece no texto a abaixo."
   ]
  },
  {
   "cell_type": "code",
   "execution_count": 26,
   "id": "8cefec18-af16-4d4f-abbe-5e4ffb1becf8",
   "metadata": {},
   "outputs": [
    {
     "name": "stdout",
     "output_type": "stream",
     "text": [
      "A letra \"e\" aparece 26 vezes\n"
     ]
    }
   ],
   "source": [
    "texto = '''\n",
    "O curso de Aperfeiçoamento Profissional de Programação em Python tem por objetivo o desenvolvimento \n",
    "de competências relativas a programação utilizando codificações na linguagem Python com diferentes \n",
    "níveis de complexidade, seguindo manuais técnicos de boas práticas de programação.\n",
    "'''\n",
    "\n",
    "print(f'A letra \"e\" aparece {texto.count(\"e\")} vezes')"
   ]
  },
  {
   "cell_type": "markdown",
   "id": "71ec5d99-8f78-48f9-917b-c28ebfcf682c",
   "metadata": {},
   "source": [
    "---"
   ]
  }
 ],
 "metadata": {
  "kernelspec": {
   "display_name": "Python 3 (ipykernel)",
   "language": "python",
   "name": "python3"
  },
  "language_info": {
   "codemirror_mode": {
    "name": "ipython",
    "version": 3
   },
   "file_extension": ".py",
   "mimetype": "text/x-python",
   "name": "python",
   "nbconvert_exporter": "python",
   "pygments_lexer": "ipython3",
   "version": "3.12.0"
  }
 },
 "nbformat": 4,
 "nbformat_minor": 5
}
