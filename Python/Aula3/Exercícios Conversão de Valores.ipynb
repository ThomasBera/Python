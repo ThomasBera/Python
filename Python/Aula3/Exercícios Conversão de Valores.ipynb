{
 "cells": [
  {
   "cell_type": "markdown",
   "id": "d67c435f-2b13-4ecd-bd6e-56b227f08a63",
   "metadata": {},
   "source": [
    "# <font color='OrangeRed'><center>Exercícios - Conversão de Valores</center></font>"
   ]
  },
  {
   "cell_type": "markdown",
   "id": "1464267e-3be3-4394-b3ae-eaace89fb3b9",
   "metadata": {},
   "source": [
    "### Exercício 01\n",
    "\n",
    "Faça a conversão do texto abaixo para o tipo **Inteiro**"
   ]
  },
  {
   "cell_type": "code",
   "execution_count": 42,
   "id": "506233f3-aaf0-40f9-b0e8-1df0fd5b01d4",
   "metadata": {
    "tags": []
   },
   "outputs": [
    {
     "name": "stdout",
     "output_type": "stream",
     "text": [
      "5\n",
      "<class 'int'>\n"
     ]
    }
   ],
   "source": [
    "numero = int ('5')\n",
    "\n",
    "print(numero)\n",
    "print (type (numero))"
   ]
  },
  {
   "cell_type": "markdown",
   "id": "725c1952-d55b-4d9f-8352-b13828b3d35b",
   "metadata": {},
   "source": [
    "---"
   ]
  },
  {
   "cell_type": "markdown",
   "id": "f0155ef9-98ce-4b30-9edc-630f0ffc4e60",
   "metadata": {},
   "source": [
    "### Exercício 02\n",
    "\n",
    "Faça a conversão do texto abaixo para o tipo **Ponto flutuante**"
   ]
  },
  {
   "cell_type": "code",
   "execution_count": 44,
   "id": "fe4272d8-1349-4062-9af8-f881f0661320",
   "metadata": {
    "tags": []
   },
   "outputs": [
    {
     "name": "stdout",
     "output_type": "stream",
     "text": [
      "10.99\n",
      "<class 'float'>\n"
     ]
    }
   ],
   "source": [
    "numero = float('10.99')\n",
    "\n",
    "print(numero)\n",
    "print(type(numero))"
   ]
  },
  {
   "cell_type": "markdown",
   "id": "acd8dc78-c243-4419-b4d5-0523e018a4c2",
   "metadata": {},
   "source": [
    "---"
   ]
  },
  {
   "cell_type": "markdown",
   "id": "27427c0f-bd08-4699-b8bd-52d956cb5b63",
   "metadata": {},
   "source": [
    "### Exercício 03\n",
    "\n",
    "Peça para o usuário digitar um número inteiro, converta o valor digitado para o tipo **int** e em seguida imprima o valor"
   ]
  },
  {
   "cell_type": "code",
   "execution_count": 20,
   "id": "75794c36-72b9-4022-964e-d1c1ea195623",
   "metadata": {
    "tags": []
   },
   "outputs": [
    {
     "name": "stdin",
     "output_type": "stream",
     "text": [
      "Digite um numero inteiro:  12\n"
     ]
    },
    {
     "name": "stdout",
     "output_type": "stream",
     "text": [
      "O número inteiro digitado foi:12 \n"
     ]
    }
   ],
   "source": [
    "num1 = int(input('Digite um numero inteiro: '))\n",
    "\n",
    "print(f'O número inteiro digitado foi:{num1} ')"
   ]
  },
  {
   "cell_type": "markdown",
   "id": "9c32dc55-dc34-45a4-aa11-f96ce631f7c2",
   "metadata": {},
   "source": [
    "---"
   ]
  },
  {
   "cell_type": "markdown",
   "id": "5ce07756-82ff-4e2f-8c19-eb10a36d7ec9",
   "metadata": {},
   "source": [
    "### Exercício 04\n",
    "\n",
    "Faça a conversão do booleano abaixo para o tipo Texto (**String**)"
   ]
  },
  {
   "cell_type": "code",
   "execution_count": 45,
   "id": "7b3bc7e8-28de-432e-86c2-0a5f8609d350",
   "metadata": {
    "tags": []
   },
   "outputs": [
    {
     "name": "stdout",
     "output_type": "stream",
     "text": [
      "False\n",
      "<class 'str'>\n"
     ]
    }
   ],
   "source": [
    "texto = ('False')\n",
    "\n",
    "print(str(texto))\n",
    "print(type(texto))"
   ]
  },
  {
   "cell_type": "markdown",
   "id": "691bb867-dd06-4b0d-98ef-d0fde1e603db",
   "metadata": {},
   "source": [
    "---"
   ]
  },
  {
   "cell_type": "markdown",
   "id": "2578a1a6-76a2-4c6b-82cd-2a7ce4d8233d",
   "metadata": {},
   "source": [
    "### Exercício 05\n",
    "\n",
    "Faça a conversão dos dois textos abaixo para **número inteiro**, em seguida faça uma operação de soma e imprima o resultado"
   ]
  },
  {
   "cell_type": "code",
   "execution_count": 23,
   "id": "37a97c8c-bd6f-4ec7-bc20-9dcb46bb9df2",
   "metadata": {
    "tags": []
   },
   "outputs": [
    {
     "name": "stdout",
     "output_type": "stream",
     "text": [
      "A soma de x + y é: 25\n"
     ]
    }
   ],
   "source": [
    "x = 12\n",
    "y = 13\n",
    "\n",
    "print(f'A soma de x + y é: {int(x) + int (y) }')"
   ]
  },
  {
   "cell_type": "markdown",
   "id": "48a83776-8e7c-4f15-a464-b1ca2ab32742",
   "metadata": {},
   "source": [
    "---"
   ]
  },
  {
   "cell_type": "markdown",
   "id": "f7e42143-cb2e-4842-9388-ab87e7c72e96",
   "metadata": {},
   "source": [
    "### Exercício 06\n",
    "\n",
    "Faça a conversão dos dois textos abaixo para **número de ponto flutuante**, em seguida faça uma operação de soma e imprima o resultado"
   ]
  },
  {
   "cell_type": "code",
   "execution_count": 24,
   "id": "8f1411b1-6482-4b1b-a929-0ba374e3708b",
   "metadata": {
    "tags": []
   },
   "outputs": [
    {
     "name": "stdout",
     "output_type": "stream",
     "text": [
      "A soma de x + y é:5.99 \n"
     ]
    }
   ],
   "source": [
    "x = 2.44\n",
    "y = 3.55\n",
    "\n",
    "print(f'A soma de x + y é:{float(x) + float(y)} ')"
   ]
  },
  {
   "cell_type": "markdown",
   "id": "4f7e6780-ca1f-4a78-895d-428c3e0858e5",
   "metadata": {},
   "source": [
    "---"
   ]
  },
  {
   "cell_type": "markdown",
   "id": "044990d9-fd47-4ec8-907f-c12840153132",
   "metadata": {},
   "source": [
    "### Exercício 07\n",
    "\n",
    "Faça a conversão dos três textos abaixo para **número inteiro**, em seguida faça uma operação de soma e imprima o resultado"
   ]
  },
  {
   "cell_type": "code",
   "execution_count": 25,
   "id": "4a5c8c40-8e8e-4dcf-b095-e6d1c1f1168d",
   "metadata": {
    "tags": []
   },
   "outputs": [
    {
     "name": "stdout",
     "output_type": "stream",
     "text": [
      "A soma de x + y + z é: 10 \n"
     ]
    }
   ],
   "source": [
    "x = 2\n",
    "y = 3\n",
    "z = 5\n",
    "\n",
    "print(f'A soma de x + y + z é: {int(x) + int (y) + int (z)} ')"
   ]
  },
  {
   "cell_type": "markdown",
   "id": "257efe0b-5852-4c4e-85de-20fa029adb67",
   "metadata": {},
   "source": [
    "---"
   ]
  },
  {
   "cell_type": "markdown",
   "id": "b68a7626-2266-43f5-8726-78b1eec4f9cc",
   "metadata": {},
   "source": [
    "### Exercício 08\n",
    "\n",
    "Peça para o usuário digitar um **número de ponto flutuante**, converta o valor digitado para o tipo float e em seguida imprima o valor"
   ]
  },
  {
   "cell_type": "code",
   "execution_count": 26,
   "id": "2c91b176-26b0-45a8-b447-16cf5eb80fea",
   "metadata": {
    "tags": []
   },
   "outputs": [
    {
     "name": "stdin",
     "output_type": "stream",
     "text": [
      "Digite um numero de ponto flutuante:  12.5\n"
     ]
    },
    {
     "name": "stdout",
     "output_type": "stream",
     "text": [
      "O número com ponto flutuante digitado foi: 12.5\n"
     ]
    }
   ],
   "source": [
    "num1 = float(input('Digite um numero de ponto flutuante: '))\n",
    "\n",
    "\n",
    "print(f'O número com ponto flutuante digitado foi: {num1}')"
   ]
  },
  {
   "cell_type": "markdown",
   "id": "1366f717-87e5-4fcc-8a7a-3b1a8d3c5016",
   "metadata": {},
   "source": [
    "---"
   ]
  },
  {
   "cell_type": "markdown",
   "id": "12f38583-4257-4b49-83d8-4eb3ad36426c",
   "metadata": {},
   "source": [
    "### Exercício 09\n",
    "\n",
    "Faça a conversão dos dois textos abaixo para **número inteiro**, em seguida faça uma operação de subtração e imprima o resultado"
   ]
  },
  {
   "cell_type": "code",
   "execution_count": 28,
   "id": "5b4c43da-9dc8-4aa9-a801-4591c8e49c2f",
   "metadata": {
    "tags": []
   },
   "outputs": [
    {
     "name": "stdout",
     "output_type": "stream",
     "text": [
      "A subtração de x - y é: 75\n"
     ]
    }
   ],
   "source": [
    "x = 100\n",
    "y = 25\n",
    "\n",
    "print(f'A subtração de x - y é: {int(x) - int (y)}')"
   ]
  },
  {
   "cell_type": "markdown",
   "id": "4d4a8c7b-3336-4288-bf79-4c30ee66a801",
   "metadata": {},
   "source": [
    "---"
   ]
  },
  {
   "cell_type": "markdown",
   "id": "8e7d2af6-07b6-4846-8a3c-b55179970cc0",
   "metadata": {},
   "source": [
    "### Exercício 10\n",
    "\n",
    "Faça a conversão dos dois textos abaixo para **número de ponto flutuante**, em seguida faça uma operação de subtração e imprima o resultado"
   ]
  },
  {
   "cell_type": "code",
   "execution_count": 30,
   "id": "afaa3d64-e388-4425-ac56-f921cfdb11e0",
   "metadata": {
    "tags": []
   },
   "outputs": [
    {
     "name": "stdout",
     "output_type": "stream",
     "text": [
      "A subtração x - y é: 4.09 \n"
     ]
    }
   ],
   "source": [
    "x = 7.00\n",
    "y = 2.91\n",
    "\n",
    "x = float (x)\n",
    "y = float (y)\n",
    "\n",
    "print(f'A subtração x - y é: {x - y} ')"
   ]
  },
  {
   "cell_type": "markdown",
   "id": "87a40a3a-0a71-4ffa-ad98-53f373547eb2",
   "metadata": {},
   "source": [
    "---"
   ]
  },
  {
   "cell_type": "markdown",
   "id": "f43219af-bd2e-4589-9e99-4154c575546d",
   "metadata": {},
   "source": [
    "### Exercício 11\n",
    "\n",
    "Faça a conversão dos três textos abaixo para **número inteiro**, em seguida faça uma operação de subtração e imprima o resultado"
   ]
  },
  {
   "cell_type": "code",
   "execution_count": 31,
   "id": "f9c5555c-64e1-4c15-8983-801b3a45d88e",
   "metadata": {
    "tags": []
   },
   "outputs": [
    {
     "name": "stdout",
     "output_type": "stream",
     "text": [
      "A subtração de x - y - z é: 60\n"
     ]
    }
   ],
   "source": [
    "x = 30\n",
    "y = 20\n",
    "z = 10\n",
    "\n",
    "x = int (x)\n",
    "y = int (y)\n",
    "z = int (z)\n",
    "\n",
    "print(f'A subtração de x - y - z é: {x + y + z}')"
   ]
  },
  {
   "cell_type": "markdown",
   "id": "3f868ffb-856c-497f-b16a-46de0d11ea93",
   "metadata": {},
   "source": [
    "---"
   ]
  },
  {
   "cell_type": "markdown",
   "id": "3347dca5-cda9-4a2a-a5ea-fa927624f1b5",
   "metadata": {},
   "source": [
    "### Exercício 12\n",
    "\n",
    "Faça a conversão do texto abaixo para o tipo **Booleano**"
   ]
  },
  {
   "cell_type": "code",
   "execution_count": 35,
   "id": "bb59355d-371f-4caa-8c1a-056c56dccf7a",
   "metadata": {
    "tags": []
   },
   "outputs": [
    {
     "name": "stdout",
     "output_type": "stream",
     "text": [
      "True\n",
      "<class 'str'>\n"
     ]
    }
   ],
   "source": [
    "texto = 'Thomas'\n",
    "\n",
    "print(bool(texto))\n",
    "print(type(texto))"
   ]
  },
  {
   "cell_type": "markdown",
   "id": "eeb8e9f0-9c2a-4f1c-9b87-f404799268cb",
   "metadata": {},
   "source": [
    "---"
   ]
  },
  {
   "cell_type": "markdown",
   "id": "4aaca377-e108-4724-a2e0-bc689c1509c2",
   "metadata": {},
   "source": [
    "### Exercício 13\n",
    "\n",
    "Faça a conversão do número inteiro abaixo para o tipo **Booleano**"
   ]
  },
  {
   "cell_type": "code",
   "execution_count": 36,
   "id": "637b21e3-5ee2-4c6e-8ec9-c4f70ebe8d7b",
   "metadata": {
    "tags": []
   },
   "outputs": [
    {
     "name": "stdout",
     "output_type": "stream",
     "text": [
      "True\n",
      "<class 'str'>\n"
     ]
    }
   ],
   "source": [
    "numero = '0'\n",
    "\n",
    "print(bool(numero))\n",
    "print(type(numero))"
   ]
  },
  {
   "cell_type": "markdown",
   "id": "fe0e98bc-4ed8-4597-b321-f8fe36aab273",
   "metadata": {},
   "source": [
    "---"
   ]
  },
  {
   "cell_type": "markdown",
   "id": "cdb30e9f-3158-45a7-bbd4-a9d39beea24a",
   "metadata": {},
   "source": [
    "### Exercício 14\n",
    "\n",
    "Faça a conversão do texto abaixo para o tipo **Booleano**"
   ]
  },
  {
   "cell_type": "code",
   "execution_count": 37,
   "id": "ae7ef013-f35e-40cd-b095-5ac438a76bf6",
   "metadata": {
    "tags": []
   },
   "outputs": [
    {
     "name": "stdout",
     "output_type": "stream",
     "text": [
      "False\n",
      "<class 'str'>\n"
     ]
    }
   ],
   "source": [
    "texto = ''\n",
    "\n",
    "print(bool(texto))\n",
    "print(type(texto))"
   ]
  },
  {
   "cell_type": "markdown",
   "id": "7ad91605-3d35-4e14-abdd-61059862eaaa",
   "metadata": {},
   "source": [
    "---"
   ]
  },
  {
   "cell_type": "markdown",
   "id": "586112a9-67a1-4db1-b762-ce7afb2c4cd6",
   "metadata": {},
   "source": [
    "### Exercício 15\n",
    "\n",
    "Peça para o usuário digitar qualquer letra ou número, converta o valor digitado para o tipo **bool** e em seguida imprima o valor"
   ]
  },
  {
   "cell_type": "code",
   "execution_count": 41,
   "id": "7c0eb8ad-d021-4822-b66c-d0750c648424",
   "metadata": {
    "tags": []
   },
   "outputs": [
    {
     "name": "stdin",
     "output_type": "stream",
     "text": [
      "Digite algo: \n"
     ]
    },
    {
     "name": "stdout",
     "output_type": "stream",
     "text": [
      "O valor digitado corvetido para booleano é: False \n"
     ]
    }
   ],
   "source": [
    "chare = bool(input('Digite algo:'))\n",
    "\n",
    "print(f'O valor digitado corvetido para booleano é: {chare} ')"
   ]
  },
  {
   "cell_type": "markdown",
   "id": "041f052e-73e4-4054-af0e-5af65a3fad3b",
   "metadata": {},
   "source": [
    "---"
   ]
  }
 ],
 "metadata": {
  "kernelspec": {
   "display_name": "Python 3 (ipykernel)",
   "language": "python",
   "name": "python3"
  },
  "language_info": {
   "codemirror_mode": {
    "name": "ipython",
    "version": 3
   },
   "file_extension": ".py",
   "mimetype": "text/x-python",
   "name": "python",
   "nbconvert_exporter": "python",
   "pygments_lexer": "ipython3",
   "version": "3.11.5"
  }
 },
 "nbformat": 4,
 "nbformat_minor": 5
}
