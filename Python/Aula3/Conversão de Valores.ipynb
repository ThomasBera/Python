{
 "cells": [
  {
   "cell_type": "code",
   "execution_count": 8,
   "id": "f221b50a-b6cd-4447-ad14-38cf0e0de740",
   "metadata": {
    "tags": []
   },
   "outputs": [
    {
     "name": "stdin",
     "output_type": "stream",
     "text": [
      "Digite um numero:  12\n",
      "Digite outro numero 12\n"
     ]
    },
    {
     "name": "stdout",
     "output_type": "stream",
     "text": [
      "A soma dos numeros é 1212\n",
      "\n",
      "<class 'str'>\n",
      "<class 'str'>\n"
     ]
    }
   ],
   "source": [
    "num1 = input ('Digite um numero: ')\n",
    "num2 =  input ('Digite outro numero')\n",
    "\n",
    "print(f'A soma dos numeros é {num1 + num2}') #forma errada de fazer soma, sem a conversão do tipo da variável!!!\n",
    "\n",
    "print('')\n",
    "\n",
    "print (type(num1)) #type - descobrir o tipo da variavél!!!\n",
    "print(type(num2))\n",
    "##print(f'A soma dos numeros é { int (num1) + int (num2)}') #Forma correta de realizar a soma, com a conversão de tipo das variáveis!!!"
   ]
  },
  {
   "cell_type": "code",
   "execution_count": 6,
   "id": "0d07f27f-9b7d-467d-8619-509619a245bb",
   "metadata": {
    "tags": []
   },
   "outputs": [
    {
     "name": "stdout",
     "output_type": "stream",
     "text": [
      "<class 'str'>\n",
      "<class 'int'>\n"
     ]
    }
   ],
   "source": [
    "print (type('5'))#type - descobrir o tipo da variavél!!!\n",
    "print (type(5))#type - descobrir o tipo da variavél!!!"
   ]
  },
  {
   "cell_type": "code",
   "execution_count": 7,
   "id": "c324a2aa-7396-4ad2-9322-3118dc2e18d7",
   "metadata": {
    "tags": []
   },
   "outputs": [
    {
     "name": "stdout",
     "output_type": "stream",
     "text": [
      "<class 'str'>\n",
      "<class 'int'>\n"
     ]
    }
   ],
   "source": [
    "print (type('5' + '5'))#type - descobrir o tipo da variavél!!!\n",
    "print (type(5 + 5))#type - descobrir o tipo da variavél!!!\n"
   ]
  },
  {
   "cell_type": "code",
   "execution_count": 10,
   "id": "dc46aef1-6e89-40c9-a189-5c4fa9db7964",
   "metadata": {
    "tags": []
   },
   "outputs": [
    {
     "name": "stdin",
     "output_type": "stream",
     "text": [
      "Digite um numero:  12\n",
      "Digite outro numero 12\n"
     ]
    },
    {
     "name": "stdout",
     "output_type": "stream",
     "text": [
      "A soma dos numeros é 24\n",
      "\n",
      "<class 'int'>\n",
      "<class 'int'>\n",
      "A soma dos numeros é 24\n"
     ]
    }
   ],
   "source": [
    "num1 = int (input ('Digite um numero: '))\n",
    "num2 = int (input ('Digite outro numero'))\n",
    "\n",
    "print(f'A soma dos numeros é {num1 + num2}') #forma errada de fazer soma, sem a conversão do tipo da variável!!!\n",
    "\n",
    "print('')\n",
    "\n",
    "print(f'A soma dos numeros é {int (num1) + int (num2)}') #Forma correta de realizar a soma, com a conversão de tipo das variáveis!!!"
   ]
  },
  {
   "cell_type": "code",
   "execution_count": 11,
   "id": "0f15a384-d0e3-42a9-9927-f51e81e43993",
   "metadata": {
    "tags": []
   },
   "outputs": [
    {
     "name": "stdin",
     "output_type": "stream",
     "text": [
      "Digite um numero: 2\n",
      "Digite poutro numero: 2\n"
     ]
    },
    {
     "name": "stdout",
     "output_type": "stream",
     "text": [
      "A soma dos números é 4\n"
     ]
    }
   ],
   "source": [
    "num1 = input('Digite um numero:')\n",
    "num2 = input('Digite poutro numero:')\n",
    "\n",
    "num1 = int (num1)\n",
    "num2 = int (num2)\n",
    "\n",
    "print(f'A soma dos números é {num1 + num2}') "
   ]
  },
  {
   "cell_type": "code",
   "execution_count": 14,
   "id": "b5db663b-555f-4e42-a7de-3ef6c622ccb7",
   "metadata": {
    "tags": []
   },
   "outputs": [
    {
     "name": "stdin",
     "output_type": "stream",
     "text": [
      "Digite um numero: 9\n",
      "Digite poutro numero: 10\n"
     ]
    },
    {
     "name": "stdout",
     "output_type": "stream",
     "text": [
      "A soma dos números é 9.5\n"
     ]
    }
   ],
   "source": [
    "num1 = input('Digite um numero:')\n",
    "num2 = input('Digite poutro numero:')\n",
    "\n",
    "num1 = float (num1)\n",
    "num2 = float (num2)\n",
    "\n",
    "print(f'A soma dos números é {(num1 + num2) / 2}') "
   ]
  },
  {
   "cell_type": "code",
   "execution_count": null,
   "id": "ad13d990-67c7-4588-b10f-e17566da3c8b",
   "metadata": {},
   "outputs": [],
   "source": []
  }
 ],
 "metadata": {
  "kernelspec": {
   "display_name": "Python 3 (ipykernel)",
   "language": "python",
   "name": "python3"
  },
  "language_info": {
   "codemirror_mode": {
    "name": "ipython",
    "version": 3
   },
   "file_extension": ".py",
   "mimetype": "text/x-python",
   "name": "python",
   "nbconvert_exporter": "python",
   "pygments_lexer": "ipython3",
   "version": "3.11.5"
  }
 },
 "nbformat": 4,
 "nbformat_minor": 5
}
