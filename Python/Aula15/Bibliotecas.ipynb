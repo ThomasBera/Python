{
 "cells": [
  {
   "cell_type": "code",
   "execution_count": 11,
   "metadata": {},
   "outputs": [
    {
     "name": "stdout",
     "output_type": "stream",
     "text": [
      "20\n"
     ]
    }
   ],
   "source": [
    "#importando a biblioteca criada por mim.\n",
    "\n",
    "import minhaBibliotecas\n",
    "\n",
    "print(minhaBibliotecas.soma(10,10))"
   ]
  },
  {
   "cell_type": "code",
   "execution_count": 14,
   "metadata": {},
   "outputs": [
    {
     "name": "stdout",
     "output_type": "stream",
     "text": [
      "10\n"
     ]
    }
   ],
   "source": [
    "import minhaBibliotecas\n",
    "\n",
    "print(minhaBibliotecas.subtracao(15,5))"
   ]
  },
  {
   "cell_type": "code",
   "execution_count": 15,
   "metadata": {},
   "outputs": [
    {
     "name": "stdout",
     "output_type": "stream",
     "text": [
      "17\n"
     ]
    }
   ],
   "source": [
    "from minhaBibliotecas import soma\n",
    "\n",
    "print(soma(8,9))"
   ]
  },
  {
   "cell_type": "code",
   "execution_count": 17,
   "metadata": {},
   "outputs": [
    {
     "name": "stdout",
     "output_type": "stream",
     "text": [
      "20\n",
      "0\n"
     ]
    }
   ],
   "source": [
    "import minhaBibliotecas as mb\n",
    "\n",
    "print(mb.soma(10,10))\n",
    "print(mb.subtracao(10,10))"
   ]
  },
  {
   "cell_type": "code",
   "execution_count": 19,
   "metadata": {},
   "outputs": [
    {
     "name": "stdout",
     "output_type": "stream",
     "text": [
      "2.0\n",
      "3.0\n",
      "5.0\n"
     ]
    }
   ],
   "source": [
    "import math\n",
    "\n",
    "#sqrt - square root (raiz quadrada)\n",
    "\n",
    "print(math.sqrt(4))\n",
    "print(math.sqrt(9))\n",
    "print(math.sqrt(25))\n"
   ]
  },
  {
   "cell_type": "code",
   "execution_count": 20,
   "metadata": {},
   "outputs": [
    {
     "name": "stdout",
     "output_type": "stream",
     "text": [
      "4.0\n",
      "8.0\n",
      "16.0\n"
     ]
    }
   ],
   "source": [
    "import math\n",
    "\n",
    "#pow = power(potencia)\n",
    "\n",
    "print(math.pow(2,2))\n",
    "print(math.pow(2,3))\n",
    "print(math.pow(2,4))\n"
   ]
  },
  {
   "cell_type": "code",
   "execution_count": 21,
   "metadata": {},
   "outputs": [
    {
     "name": "stdout",
     "output_type": "stream",
     "text": [
      "2\n",
      "2\n",
      "2\n"
     ]
    }
   ],
   "source": [
    "#floor - Arredonda um número de ponto flutuante para baixo\n",
    "\n",
    "import math\n",
    "\n",
    "print(math.floor(2.9))\n",
    "print(math.floor(2.99))\n",
    "print(math.floor(2.999))\n"
   ]
  },
  {
   "cell_type": "code",
   "execution_count": 22,
   "metadata": {},
   "outputs": [
    {
     "name": "stdout",
     "output_type": "stream",
     "text": [
      "3\n",
      "3\n",
      "3\n"
     ]
    }
   ],
   "source": [
    "#contrario do floor\n",
    "\n",
    "import math\n",
    "\n",
    "print(math.ceil(2.1))\n",
    "print(math.ceil(2.01))\n",
    "print(math.ceil(2.001))\n"
   ]
  },
  {
   "cell_type": "code",
   "execution_count": 27,
   "metadata": {},
   "outputs": [
    {
     "name": "stdout",
     "output_type": "stream",
     "text": [
      "3.14\n"
     ]
    }
   ],
   "source": [
    "print(f'{math.pi:.2f}')"
   ]
  },
  {
   "cell_type": "code",
   "execution_count": 31,
   "metadata": {},
   "outputs": [
    {
     "name": "stdout",
     "output_type": "stream",
     "text": [
      "2023-12-08 16:24:07.496342\n",
      "2023\n",
      "12\n",
      "8\n",
      "16\n",
      "24\n",
      "7\n",
      "497331\n"
     ]
    }
   ],
   "source": [
    "import datetime\n",
    "\n",
    "print(datetime.datetime.now())\n",
    "print(datetime.datetime.now().year)\n",
    "print(datetime.datetime.now().month)\n",
    "print(datetime.datetime.now().day)\n",
    "print(datetime.datetime.now().hour)\n",
    "print(datetime.datetime.now().minute)\n",
    "print(datetime.datetime.now().second)\n",
    "print(datetime.datetime.now().microsecond)\n",
    "\n",
    "\n"
   ]
  },
  {
   "cell_type": "code",
   "execution_count": 32,
   "metadata": {},
   "outputs": [
    {
     "name": "stdout",
     "output_type": "stream",
     "text": [
      "2000-01-01 00:00:00\n",
      "2000-01-01 20:50:45\n",
      "2000-01-01 20:50:45.000100\n"
     ]
    }
   ],
   "source": [
    "import datetime\n",
    "#datetime.datetime(ano, mês, dia, hora, min, seg, ms)\n",
    "print(datetime.datetime(2000,1,1))\n",
    "print(datetime.datetime(2000,1,1,20,50,45))\n",
    "print(datetime.datetime(2000,1,1,20,50,45,100))\n"
   ]
  },
  {
   "cell_type": "code",
   "execution_count": 33,
   "metadata": {},
   "outputs": [
    {
     "name": "stdout",
     "output_type": "stream",
     "text": [
      "8742\n"
     ]
    }
   ],
   "source": [
    "import datetime\n",
    "\n",
    "data_inicial = datetime.datetime(2000,1,1)\n",
    "data_final = datetime.datetime.now()\n",
    "\n",
    "diferenca = (data_final - data_inicial).days\n",
    "\n",
    "print(diferenca)"
   ]
  },
  {
   "cell_type": "code",
   "execution_count": 35,
   "metadata": {},
   "outputs": [
    {
     "name": "stdout",
     "output_type": "stream",
     "text": [
      "2023-12-13 16:35:17.918758\n"
     ]
    }
   ],
   "source": [
    "import datetime\n",
    "\n",
    "hoje = datetime.datetime.now()\n",
    "\n",
    "dias = datetime.timedelta(days = 5)\n",
    "horas = datetime.timedelta(hours = 5)\n",
    "minutos = datetime.timedelta(minutes = 5)\n",
    "segundos = datetime.timedelta(seconds = 5)\n",
    "\n",
    "print(hoje + dias)\n"
   ]
  },
  {
   "cell_type": "code",
   "execution_count": 39,
   "metadata": {},
   "outputs": [
    {
     "name": "stdout",
     "output_type": "stream",
     "text": [
      "08/12/2023\n",
      "08-/12-/2023\n",
      "12/08/23\n",
      "08 de 12 de 2023\n"
     ]
    }
   ],
   "source": [
    "import datetime\n",
    "\n",
    "#strftime - converte datetime para texto\n",
    "\n",
    "hoje = datetime.datetime.now()\n",
    "\n",
    "print(hoje.strftime('%d/%m/%Y'))\n",
    "print(hoje.strftime('%d-/%m-/%Y'))\n",
    "print(hoje.strftime('%x'))\n",
    "print(hoje.strftime('%d do %m de %Y'))\n"
   ]
  },
  {
   "cell_type": "code",
   "execution_count": 40,
   "metadata": {},
   "outputs": [
    {
     "name": "stdout",
     "output_type": "stream",
     "text": [
      "08 de Dec de 2023\n",
      "08 do December de 2023\n"
     ]
    }
   ],
   "source": [
    "import datetime\n",
    "\n",
    "hoje = datetime.datetime.now()\n",
    "print(hoje.strftime('%d de %b de %Y'))\n",
    "print(hoje.strftime('%d do %B de %Y'))"
   ]
  },
  {
   "cell_type": "code",
   "execution_count": 2,
   "metadata": {},
   "outputs": [
    {
     "name": "stdout",
     "output_type": "stream",
     "text": [
      "12 de dez de 2023\n",
      "12 do dezembro de 2023\n"
     ]
    }
   ],
   "source": [
    "import datetime\n",
    "import locale\n",
    "\n",
    "locale.setlocale(locale.LC_TIME,'pt_BR')\n",
    "\n",
    "hoje = datetime.datetime.now()\n",
    "print(hoje.strftime('%d de %b de %Y'))\n",
    "print(hoje.strftime('%d do %B de %Y'))"
   ]
  },
  {
   "cell_type": "code",
   "execution_count": 13,
   "metadata": {},
   "outputs": [
    {
     "name": "stdout",
     "output_type": "stream",
     "text": [
      "Dia da semana: ter \n",
      "Dia da semana: terça-feira \n"
     ]
    }
   ],
   "source": [
    "import datetime\n",
    "import locale\n",
    "\n",
    "locale.setlocale(locale.LC_TIME,'pt_BR')\n",
    "\n",
    "hoje = datetime.datetime.now()\n",
    "\n",
    "print(hoje.strftime(f'Dia da semana: %a '))\n",
    "print(hoje.strftime(f'Dia da semana: %A '))"
   ]
  },
  {
   "cell_type": "code",
   "execution_count": 5,
   "metadata": {},
   "outputs": [
    {
     "name": "stdout",
     "output_type": "stream",
     "text": [
      "\n"
     ]
    }
   ],
   "source": [
    "import locale\n",
    "\n",
    "locale.setlocale(locale.LC_ALL, 'pt_BR')\n",
    "\n",
    "print()"
   ]
  },
  {
   "cell_type": "code",
   "execution_count": 7,
   "metadata": {},
   "outputs": [
    {
     "name": "stdout",
     "output_type": "stream",
     "text": [
      "12.122.334,56\n"
     ]
    }
   ],
   "source": [
    "#locale.format_string(format, valor, separador de milhares)\n",
    "print(locale.format_string('%.2f', 12122334.5555, True))"
   ]
  },
  {
   "cell_type": "code",
   "execution_count": 16,
   "metadata": {},
   "outputs": [
    {
     "name": "stdout",
     "output_type": "stream",
     "text": [
      "1991-01-10 00:00:00\n"
     ]
    }
   ],
   "source": [
    "import datetime\n",
    "\n",
    "texto = '10/01/1991'\n",
    "\n",
    "data_convertida = datetime.datetime.strptime(texto,'%d/%m/%Y')\n",
    "\n",
    "print(data_convertida)"
   ]
  },
  {
   "cell_type": "code",
   "execution_count": 22,
   "metadata": {},
   "outputs": [
    {
     "name": "stdout",
     "output_type": "stream",
     "text": [
      "2023-12-12 00:00:00\n"
     ]
    }
   ],
   "source": [
    "texto = 'Hoje é dia 12 de dezembro de 2023'\n",
    "\n",
    "data_convertida = datetime.datetime.strptime(texto,'Hoje é dia %d de %B de %Y')\n",
    "\n",
    "print(data_convertida)"
   ]
  },
  {
   "cell_type": "code",
   "execution_count": 38,
   "metadata": {},
   "outputs": [
    {
     "name": "stdout",
     "output_type": "stream",
     "text": [
      "0.9038189631447241\n",
      "0.7293762679810851\n",
      "0.06099301753435038\n",
      "0.506154192044729\n",
      "0.8582556908755128\n",
      "0.45928269689492063\n"
     ]
    }
   ],
   "source": [
    "import random\n",
    "print(random.random())\n",
    "print(random.random())\n",
    "print(random.random())\n",
    "print(random.random())\n",
    "print(random.random())\n",
    "print(random.random())\n"
   ]
  },
  {
   "cell_type": "code",
   "execution_count": 35,
   "metadata": {},
   "outputs": [
    {
     "name": "stdout",
     "output_type": "stream",
     "text": [
      "7\n",
      "8\n",
      "2\n",
      "6\n",
      "9\n",
      "3\n"
     ]
    }
   ],
   "source": [
    "import random\n",
    "\n",
    "print(random.randrange(0,10))\n",
    "print(random.randrange(0,10))\n",
    "print(random.randrange(0,10))\n",
    "print(random.randrange(0,10))\n",
    "print(random.randrange(0,10))\n",
    "print(random.randrange(0,10))\n",
    "\n"
   ]
  },
  {
   "cell_type": "code",
   "execution_count": 63,
   "metadata": {},
   "outputs": [
    {
     "data": {
      "text/plain": [
       "6.072672948101521"
      ]
     },
     "execution_count": 63,
     "metadata": {},
     "output_type": "execute_result"
    }
   ],
   "source": [
    "import random\n",
    "\n",
    "random.uniform(0,10)"
   ]
  },
  {
   "cell_type": "code",
   "execution_count": 65,
   "metadata": {},
   "outputs": [
    {
     "name": "stdout",
     "output_type": "stream",
     "text": [
      "Thomas\n",
      "Thomas\n",
      "Gabriel\n",
      "Marcia\n",
      "Marina\n"
     ]
    }
   ],
   "source": [
    "lista = ['Thomas', 'Moises', 'Marcia', 'Gabriel', 'Marina']\n",
    "\n",
    "print(random.choice(lista))\n",
    "print(random.choice(lista))\n",
    "print(random.choice(lista))\n",
    "print(random.choice(lista))\n",
    "print(random.choice(lista))\n"
   ]
  },
  {
   "cell_type": "code",
   "execution_count": 79,
   "metadata": {},
   "outputs": [
    {
     "name": "stdout",
     "output_type": "stream",
     "text": [
      "30\n"
     ]
    }
   ],
   "source": [
    "#sortear os números da mega-sena\n",
    "\n",
    "print(random.randrange(1,61))"
   ]
  },
  {
   "cell_type": "code",
   "execution_count": 214,
   "metadata": {},
   "outputs": [
    {
     "name": "stdout",
     "output_type": "stream",
     "text": [
      "Os números sorteados forma: [22, 12, 47, 35, 40, 60]\n"
     ]
    }
   ],
   "source": [
    "#sortear os números da mega-sena\n",
    "\n",
    "lista = []\n",
    "\n",
    "while True:\n",
    "    if len(lista) == 6:\n",
    "        break\n",
    "    num_sorteado = random.randrange(1,61)\n",
    "    if num_sorteado not in lista:\n",
    "        lista.append(num_sorteado)\n",
    "print(f'Os números sorteados forma: {lista}')"
   ]
  }
 ],
 "metadata": {
  "kernelspec": {
   "display_name": "Python 3",
   "language": "python",
   "name": "python3"
  },
  "language_info": {
   "codemirror_mode": {
    "name": "ipython",
    "version": 3
   },
   "file_extension": ".py",
   "mimetype": "text/x-python",
   "name": "python",
   "nbconvert_exporter": "python",
   "pygments_lexer": "ipython3",
   "version": "3.12.0"
  }
 },
 "nbformat": 4,
 "nbformat_minor": 2
}
