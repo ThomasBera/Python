{
 "cells": [
  {
   "cell_type": "code",
   "execution_count": null,
   "metadata": {},
   "outputs": [],
   "source": [
    "contador = 0\n",
    "\n",
    "while contador <= 10:\n",
    "    print(f'O VALOR ATUAL DO CONTADOR É {contador}.')\n",
    "    print()\n",
    "    contador = contador * 2\n",
    "print('Loop Interrompido')"
   ]
  },
  {
   "cell_type": "code",
   "execution_count": 6,
   "metadata": {},
   "outputs": [
    {
     "name": "stdout",
     "output_type": "stream",
     "text": [
      "O VALOR ATUAL DO CONTADOR É 0.\n",
      "\n",
      "O VALOR ATUAL DO CONTADOR É 2.\n",
      "\n",
      "O VALOR ATUAL DO CONTADOR É 4.\n",
      "\n",
      "O VALOR ATUAL DO CONTADOR É 6.\n",
      "\n",
      "O VALOR ATUAL DO CONTADOR É 8.\n",
      "\n",
      "O VALOR ATUAL DO CONTADOR É 10.\n",
      "\n",
      "O VALOR ATUAL DO CONTADOR É 12.\n",
      "\n",
      "O VALOR ATUAL DO CONTADOR É 14.\n",
      "\n",
      "O VALOR ATUAL DO CONTADOR É 16.\n",
      "\n",
      "O VALOR ATUAL DO CONTADOR É 18.\n",
      "\n",
      "O VALOR ATUAL DO CONTADOR É 20.\n",
      "\n",
      "Loop Interrompido\n"
     ]
    }
   ],
   "source": [
    "contador = 0\n",
    "\n",
    "while contador <= 20:\n",
    "    print(f'O VALOR ATUAL DO CONTADOR É {contador}.')\n",
    "    print()\n",
    "    contador = contador + 2\n",
    "print('Loop Interrompido')"
   ]
  },
  {
   "cell_type": "code",
   "execution_count": 7,
   "metadata": {},
   "outputs": [
    {
     "name": "stdout",
     "output_type": "stream",
     "text": [
      "Loop Interrompido\n"
     ]
    }
   ],
   "source": [
    "contador = 11\n",
    "\n",
    "while contador <= 10:\n",
    "    print(f'O VALOR ATUAL DO CONTADOR É {contador}.')\n",
    "    print()\n",
    "    contador = contador + 1\n",
    "print('Loop Interrompido')"
   ]
  },
  {
   "cell_type": "code",
   "execution_count": 9,
   "metadata": {},
   "outputs": [
    {
     "name": "stdout",
     "output_type": "stream",
     "text": [
      "Você deseja sair do loop?\n",
      "\n",
      "Você deseja sair do loop?\n",
      "\n",
      "Você deseja sair do loop?\n",
      "\n",
      "Você deseja sair do loop?\n",
      "\n",
      "Você deseja sair do loop?\n",
      "\n",
      "Loop Interrompido\n"
     ]
    }
   ],
   "source": [
    "comando = ''\n",
    "\n",
    "while comando != 'sim':\n",
    "    print('Você deseja sair do loop?')\n",
    "    comando = input('')\n",
    "    print()\n",
    "print('Loop Interrompido')\n"
   ]
  },
  {
   "cell_type": "code",
   "execution_count": 15,
   "metadata": {},
   "outputs": [
    {
     "name": "stdout",
     "output_type": "stream",
     "text": [
      "Deseja outra dose?\n",
      "\n",
      "Deseja outra dose?\n",
      "\n",
      "Deseja outra dose?\n",
      "\n",
      "Deseja outra dose?\n",
      "\n",
      "Deseja outra dose?\n",
      "O valor total da sua comanda é de R$60\n"
     ]
    }
   ],
   "source": [
    "comando = ''\n",
    "valor = 0\n",
    "\n",
    "while comando != 'não':\n",
    "    print('Deseja outra dose?')\n",
    "    comando = input ('')\n",
    "    if comando != 'não':\n",
    "        valor = valor + 15\n",
    "        print()\n",
    "print(f'O valor total da sua comanda é de R${valor}')"
   ]
  },
  {
   "cell_type": "code",
   "execution_count": 16,
   "metadata": {},
   "outputs": [
    {
     "name": "stdout",
     "output_type": "stream",
     "text": [
      "Digite um novo valor para a lista\n",
      "\n",
      "Digite um novo valor para a lista\n",
      "\n",
      "Digite um novo valor para a lista\n",
      "\n",
      "Digite um novo valor para a lista\n",
      "\n",
      "['10', '103', '3', '3']\n"
     ]
    }
   ],
   "source": [
    "lista = []\n",
    "contador = 0\n",
    "\n",
    "while contador < 4:\n",
    "    print('Digite um novo valor para a lista')\n",
    "    valor = input('')\n",
    "    lista.append(valor)\n",
    "    contador += 1\n",
    "    print()\n",
    "print(lista)"
   ]
  },
  {
   "cell_type": "code",
   "execution_count": 17,
   "metadata": {},
   "outputs": [
    {
     "name": "stdout",
     "output_type": "stream",
     "text": [
      "O valor do contador é 0\n",
      "O valor do contador é 1\n",
      "O valor do contador é 2\n",
      "O valor do contador é 3\n",
      "O valor do contador é 4\n",
      "O valor do contador é 5\n",
      "Loop Interrompido\n"
     ]
    }
   ],
   "source": [
    "contador  = 0\n",
    "\n",
    "while contador <= 10:\n",
    "    print(f'O valor do contador é {contador}')\n",
    "    if contador == 5:\n",
    "        break\n",
    "    contador += 1\n",
    "print('Loop Interrompido') "
   ]
  },
  {
   "cell_type": "code",
   "execution_count": 18,
   "metadata": {},
   "outputs": [
    {
     "name": "stdout",
     "output_type": "stream",
     "text": [
      "1\n",
      "2\n",
      "3\n",
      "4\n",
      "5\n",
      "Loop Interrompido\n"
     ]
    }
   ],
   "source": [
    "contador  = 0\n",
    "while True:\n",
    "    if contador == 5:\n",
    "        break\n",
    "    contador += 1\n",
    "    print(contador) \n",
    "    \n",
    "print('Loop Interrompido')"
   ]
  }
 ],
 "metadata": {
  "kernelspec": {
   "display_name": "Python 3",
   "language": "python",
   "name": "python3"
  },
  "language_info": {
   "codemirror_mode": {
    "name": "ipython",
    "version": 3
   },
   "file_extension": ".py",
   "mimetype": "text/x-python",
   "name": "python",
   "nbconvert_exporter": "python",
   "pygments_lexer": "ipython3",
   "version": "3.12.0"
  }
 },
 "nbformat": 4,
 "nbformat_minor": 2
}
