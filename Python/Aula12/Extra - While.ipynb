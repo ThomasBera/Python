{
 "cells": [
  {
   "cell_type": "markdown",
   "id": "a55a1c33-9a5a-4214-b4fb-567fc561fa60",
   "metadata": {},
   "source": [
    "# <font color='OrangeRed'><center>Extra - While</center></font>"
   ]
  },
  {
   "cell_type": "markdown",
   "id": "84a27008-ae35-4375-b12b-833c5d905522",
   "metadata": {},
   "source": [
    "### Exercício 01\n",
    "\n",
    "Crie um programa que peça ao usuário digitar um número inteiro, em seguida retorne a tabuada do 1 ao 10 do número informado utilizando uma estrutura de repetição while.\n",
    "\n",
    "**Dica:**  \n",
    "_Utilize um contador_"
   ]
  },
  {
   "cell_type": "code",
   "execution_count": 12,
   "id": "1bf217d2-c16c-466a-90a3-822e9c82ffe1",
   "metadata": {},
   "outputs": [
    {
     "name": "stdout",
     "output_type": "stream",
     "text": [
      "2 X 5 = 5\n",
      "3 X 5 = 10\n",
      "4 X 5 = 15\n",
      "5 X 5 = 20\n",
      "6 X 5 = 25\n",
      "7 X 5 = 30\n",
      "8 X 5 = 35\n",
      "9 X 5 = 40\n",
      "10 X 5 = 45\n",
      "11 X 5 = 50\n"
     ]
    }
   ],
   "source": [
    "contador = 1\n",
    "n1 = int(input('Digite um numero: '))\n",
    "while contador <= 10:\n",
    "    tabuada = contador * n1\n",
    "    contador += 1\n",
    "    print(f'{contador} X {n1} = {tabuada}')\n",
    "    \n",
    "\n"
   ]
  },
  {
   "cell_type": "markdown",
   "id": "0385320f-20a5-48d1-93b7-cfa478b7f147",
   "metadata": {},
   "source": [
    "---"
   ]
  },
  {
   "cell_type": "markdown",
   "id": "2d2a0c50-8748-486c-b7da-11e2690528d1",
   "metadata": {},
   "source": [
    "### Exercício 02\n",
    "\n",
    "Utilizando uma estrutura de repetição while, crie um programa que peça ao usuário digitar um número inteiro, em seguida retorne os 5 números antecessores a ele.  \n",
    "\n",
    "Por Exemplo: Se o usuário digitar o número 10 imprima os números de 9 a 5.\n",
    "\n",
    "**Dica:**  \n",
    "_Utilize um contador_"
   ]
  },
  {
   "cell_type": "code",
   "execution_count": 17,
   "id": "127ac976-f688-47a1-b305-1923d2f22377",
   "metadata": {},
   "outputs": [
    {
     "name": "stdout",
     "output_type": "stream",
     "text": [
      "9\n",
      "8\n",
      "7\n",
      "6\n",
      "5\n"
     ]
    }
   ],
   "source": [
    "contador = 1 \n",
    "n1 = int(input('Digite um número: '))\n",
    "\n",
    "while contador <= 5:\n",
    "    n1 -= 1\n",
    "    print(n1)\n",
    "    contador +=1\n"
   ]
  },
  {
   "cell_type": "markdown",
   "id": "90a9f8fe-7b43-4a9b-bb04-cbcdf8c0054c",
   "metadata": {},
   "source": [
    "---"
   ]
  },
  {
   "cell_type": "markdown",
   "id": "d6c0ae6d-9b27-4b8f-8b52-bb01fa70bd04",
   "metadata": {},
   "source": [
    "### Exercício 03\n",
    "\n",
    "Crie uma variável com o valor 0 e faça um loop while pedindo para o usuário inserir um número inteiro e enquanto o usuário inserir um valor **menor ou igual a zero** continue executando o código. \n",
    "\n",
    "Por fim, **some APENAS os números negativos inseridos pelo usuário enquanto o loop estava sendo executado** e imprima o resultado."
   ]
  },
  {
   "cell_type": "code",
   "execution_count": 2,
   "id": "787564fc-b6f5-408b-a6ed-f8291050f916",
   "metadata": {},
   "outputs": [
    {
     "name": "stdout",
     "output_type": "stream",
     "text": [
      "-9\n",
      "\n",
      "-9\n",
      "\n",
      "-10\n",
      "\n",
      "1\n",
      "\n",
      "Soma dos valores-28\n"
     ]
    }
   ],
   "source": [
    "valor = 0 \n",
    "\n",
    "while valor <= 0:\n",
    "    n1 = int(input('Digite um número: '))\n",
    "    print(n1)\n",
    "    print()\n",
    "    if n1 <= 0:\n",
    "        valor += n1\n",
    "    else:\n",
    "        break\n",
    "\n",
    "\n",
    "print(f'Soma dos valores{valor}')\n",
    "    \n",
    "\n"
   ]
  },
  {
   "cell_type": "markdown",
   "id": "fac0ff8a-d257-46ff-9ff7-0704b874c508",
   "metadata": {},
   "source": [
    "---"
   ]
  },
  {
   "cell_type": "markdown",
   "id": "37f4fe1b-0011-4a97-b898-a8e6281426d6",
   "metadata": {},
   "source": [
    "### Exercício 04\n",
    "\n",
    "Crie uma variável com uma lista vazia [] e um variável com valor 0, em seguida crie um loop while pedindo para o usuário inserir um número inteiro e enquanto o usuário inserir um valor **maior ou igual a zero** continue executando o código. \n",
    "\n",
    "A cada execução do loop adicione o número informado dentro da lista criada, desde que o número seja maior ou igual a zero. Por sim, some todos os valores da lista e divida essa soma pela quantidade de itens da lista para obter a média."
   ]
  },
  {
   "cell_type": "code",
   "execution_count": 8,
   "id": "f657081a-5e53-440a-8ceb-77067778e656",
   "metadata": {},
   "outputs": [
    {
     "name": "stdout",
     "output_type": "stream",
     "text": [
      "Digite um número\n",
      "Digite um número\n",
      "Digite um número\n",
      "Digite um número\n",
      "Digite um número\n",
      "O valor somado é 70 e a média é 17.5\n"
     ]
    }
   ],
   "source": [
    "lista = []\n",
    "valor = 0\n",
    "while valor >= 0:\n",
    "    print('Digite um número')\n",
    "    valor = int(input(''))\n",
    "    if valor >= 0:\n",
    "        lista.append(valor)\n",
    "    else:\n",
    "        break\n",
    "    \n",
    "print(f'O valor somado é {sum(lista)} e a média é {sum(lista) / len(lista)}')"
   ]
  },
  {
   "cell_type": "markdown",
   "id": "544d113b-260c-49ec-99ca-135e9d090fb9",
   "metadata": {},
   "source": [
    "---"
   ]
  },
  {
   "cell_type": "markdown",
   "id": "b678e100-62da-4ea9-a534-f7d54acb2f39",
   "metadata": {},
   "source": [
    "### Exercício 05\n",
    "\n",
    "Crie um programa que peça para o usuário digitar dois números inteiros, o 1º sendo um número de início e o 2º um número de final. \n",
    "\n",
    "Em seguida crie um loop while onde **enquanto o número de início não for maior que o número final** continue executando o laço. Para cada iteração do laço adicione +1 a variável de início."
   ]
  },
  {
   "cell_type": "code",
   "execution_count": 9,
   "id": "3d91e30f-f1e5-4ece-bd92-6d886b9ff9ae",
   "metadata": {
    "tags": []
   },
   "outputs": [
    {
     "name": "stdout",
     "output_type": "stream",
     "text": [
      "Digite o primeiro número: \n",
      "10\n",
      "Digite o segundo número: \n",
      "11\n",
      " 10 + 1 = 11\n",
      "\n",
      "Digite o primeiro número: \n",
      "19\n",
      "Digite o segundo número: \n",
      "16\n",
      " 19 + 1 = 20\n",
      "\n",
      "19 é o 1º número e o maior, 16 é o 2º número é o menor.\n"
     ]
    }
   ],
   "source": [
    "n1 = 0\n",
    "n2 = 0\n",
    "while n1 <= n2:\n",
    "    print('Digite o primeiro número: ')\n",
    "    n1 = int(input(''))\n",
    "    print(f'{n1}')\n",
    "    print('Digite o segundo número: ')\n",
    "    n2 = int(input(''))\n",
    "    print(f'{n2}')\n",
    "    print(f' {n1} + 1 = {n1 + 1}') \n",
    "    print()\n",
    "print(f'{n1} é o 1º número e o maior, {n2} é o 2º número é o menor.')\n"
   ]
  },
  {
   "cell_type": "markdown",
   "id": "e4b7e8e0-4be0-478b-ad53-d241b615f273",
   "metadata": {},
   "source": [
    "---"
   ]
  },
  {
   "cell_type": "markdown",
   "id": "d0e832cd-c620-441d-ac6c-b9c9c5916423",
   "metadata": {},
   "source": [
    "### Exercício 06\n",
    "\n",
    "Faça um algoritmo para contalizar os gastos do usuário, para isso crie uma variável **total** com o valor igual a 0 e em seguida crie um laço while com a condição verdadeira, exemplo:\n",
    "\n",
    "```python\n",
    "while True:\n",
    "```\n",
    "\n",
    "Dentro do laço peça para o usuário digitar um **código** entre 0 a 4, em seguida crie a condição abaixo:\n",
    "\n",
    "| Código | Preço |\n",
    "|:------:|:----:|\n",
    "| 0 | Break - Sair do loop |\n",
    "| 1 | 15.00 |\n",
    "| 2 | 30.00 |\n",
    "| 3 | 45.00 |\n",
    "| 4 | 60.00 |\n",
    "\n",
    "Cada vez que o usuário digitar um código entre 1 a 4 adicione o valor do **preço** a variável **total**\n",
    "\n",
    "Por fim, imprima o valor da variável **total**"
   ]
  },
  {
   "cell_type": "code",
   "execution_count": 5,
   "id": "1ebed1d4-1e67-4e1b-a51f-cb0875bbab26",
   "metadata": {
    "tags": []
   },
   "outputs": [
    {
     "name": "stdout",
     "output_type": "stream",
     "text": [
      "Codigo 1 Digitado, total = 15.0\n",
      "Codigo 2 Digitado, total = 45.0\n",
      "Codigo 3 Digitado, total = 90.0\n",
      "Codigo 4 Digitado, total = 150.0\n",
      "Encerrando Programa\n",
      "Total de gastos: R$150.0\n"
     ]
    }
   ],
   "source": [
    "total = 0\n",
    "\n",
    "while True:\n",
    "    codigo = int(input('Digite um codigo de 0 a 4'))\n",
    "    if codigo == 0:\n",
    "        print('Encerrando Programa')\n",
    "        break\n",
    "    elif codigo == 1:\n",
    "        total += 15.0\n",
    "        print(f'Codigo 1 Digitado, total = {total}')\n",
    "    elif codigo == 2:\n",
    "        total += 30.0\n",
    "        print(f'Codigo 2 Digitado, total = {total}')\n",
    "    elif codigo == 3:\n",
    "        total += 45.0\n",
    "        print(f'Codigo 3 Digitado, total = {total}')\n",
    "    elif codigo == 4:\n",
    "        total += 60.0\n",
    "        print(f'Codigo 4 Digitado, total = {total}') \n",
    "    else:\n",
    "        print('Codigo invalido')   \n",
    "\n",
    "\n",
    "print(f\"Total de gastos: R${total}\")"
   ]
  },
  {
   "cell_type": "markdown",
   "id": "371bc838-8412-44c5-9d35-8ec41d471f3b",
   "metadata": {},
   "source": [
    "---"
   ]
  },
  {
   "cell_type": "markdown",
   "id": "7f133414-3c1a-40ac-99b0-3d4071d9be90",
   "metadata": {},
   "source": [
    "### Exercício 07\n",
    "\n",
    "Faça um algoritmo para validação de senha, para isso crie uma variável **contagem** com o valor igual a 0 e em seguida crie um laço while com a condição verdadeira, exemplo:\n",
    "\n",
    "```python\n",
    "while True:\n",
    "```\n",
    "\n",
    "Dentro do laço peça para o usuário digitar uma **senha**, em seguida crie a condição abaixo:\n",
    "\n",
    "* Se o usuário digitar a senha '123456', então retorne 'Senha correta' e saia do laço (Break)\n",
    "* Se o usuário digitar uma senha incorreta, então retorne 'Senha incorreta' e some +1 a variável **contagem**\n",
    "\n",
    "Mais abaixo, ainda dentro do loop, crie está outra condição:\n",
    "\n",
    "* Se a variável contagem chegar ao valor igual a 3, então retorne 'Conta bloqueada' e saia do laço (Break)"
   ]
  },
  {
   "cell_type": "code",
   "execution_count": 7,
   "id": "74bf7ad0-79cd-40db-b327-b617162c6346",
   "metadata": {
    "tags": []
   },
   "outputs": [
    {
     "name": "stdout",
     "output_type": "stream",
     "text": [
      "Senha incorreta\n",
      "Senha incorreta\n",
      "Senha incorreta\n",
      "Conta bloqueada\n",
      "Encerrado o Programa\n"
     ]
    }
   ],
   "source": [
    "contagem = 0\n",
    "\n",
    "while True:\n",
    "    senha = input('Digite sua senha')\n",
    "    if senha == '123456':\n",
    "        print('Senha Correta')\n",
    "        break\n",
    "    else:\n",
    "        print('Senha incorreta')\n",
    "        contagem += 1\n",
    "    if contagem == 3:\n",
    "        print('Conta bloqueada')\n",
    "        break\n",
    "\n",
    "print('Encerrado o Programa')"
   ]
  },
  {
   "cell_type": "markdown",
   "id": "be8fa7aa-38f7-4b5a-b24f-39799b291e0c",
   "metadata": {},
   "source": [
    "---"
   ]
  },
  {
   "cell_type": "markdown",
   "id": "35a1db48-5c40-4c69-b2aa-3f26fee898f8",
   "metadata": {},
   "source": [
    "### Exercício 08\n",
    "\n",
    "Faça um algoritmo para cadastro de alunos, para isso crie uma lista vazia com o nome de  **alunos** e em seguida crie um laço while com a condição verdadeira, exemplo:\n",
    "\n",
    "```python\n",
    "while True:\n",
    "```\n",
    "\n",
    "Dentro do laço peça para o usuário digitar o nome de um **aluno** e adicione o nome informado na lista.\n",
    "\n",
    "Em seguida pergunte para o usuário se ele deseja inscrever mais alunos, **SE** o usuário digitar que 'NÃO', então saia do laço (Break), senão continue executando.\n",
    "\n",
    "Por fim, imprima a lista de **alunos**"
   ]
  },
  {
   "cell_type": "code",
   "execution_count": 12,
   "id": "ab638704-ed4f-41eb-a049-89326b058c49",
   "metadata": {
    "tags": []
   },
   "outputs": [
    {
     "name": "stdout",
     "output_type": "stream",
     "text": [
      "['thomas', 'erik', 'thiago', 'milena', 'janaina', 'vinicius']\n"
     ]
    }
   ],
   "source": [
    "alunos = []\n",
    "\n",
    "while True:\n",
    "    nome = input('Digite o nome do aluno: ')\n",
    "    alunos.append(nome)\n",
    "    maisAlunos = input('Deseja colocar mais alunos na lista?')\n",
    "    if maisAlunos.lower() != 'sim':\n",
    "        break\n",
    "print(alunos)"
   ]
  },
  {
   "cell_type": "markdown",
   "id": "0f87fd09-be32-4090-8c17-bbaceb9221e6",
   "metadata": {},
   "source": [
    "---"
   ]
  },
  {
   "cell_type": "markdown",
   "id": "a1aae6a5-218c-4d09-a739-ffef80ed0dac",
   "metadata": {
    "tags": []
   },
   "source": [
    "### Exercício 09\n",
    "\n",
    "Faça um algoritmo de votação, para isso crie 4 variáveis, sendo **candidato1**, **candidato2**, **branco**, **nulo**, atribua o valor 0 a elas e em seguida crie um laço while com a condição verdadeira, exemplo:\n",
    "\n",
    "```python\n",
    "while True:\n",
    "```\n",
    "\n",
    "Dentro do laço peça para o usuário digitar um **código** entre 0 a 4, em seguida crie a condição abaixo:\n",
    "\n",
    "| Código | Ação |\n",
    "|:------:|:----:|\n",
    "| 0 | Break - Sair do loop |\n",
    "| 1 | Candidato 1 |\n",
    "| 2 | Candidato 2 |\n",
    "| 3 | Voto em Branco |\n",
    "| 4 | Voto nulo |\n",
    "\n",
    "Cada vez que o usuário digitar um código entre 1 a 4 adicione +1 a variável correspondente.\n",
    "\n",
    "Por fim, imprima o resultado da votação:\n",
    "\n",
    "**Exemplo:**  \n",
    "_Candidato 1: 15_  \n",
    "_Candidato 2: 12_  \n",
    "_Voto em Branco: 3_  \n",
    "_Voto nulo: 5_  "
   ]
  },
  {
   "cell_type": "code",
   "execution_count": 1,
   "id": "d63abd13-0356-4bc7-a9e5-0a276ff73a31",
   "metadata": {
    "tags": []
   },
   "outputs": [
    {
     "name": "stdout",
     "output_type": "stream",
     "text": [
      "Codigo 1 Digitado Voto Computado ao Candidato 1 = 1\n",
      "Codigo 1 Digitado Voto Computado ao Candidato 1 = 2\n",
      "Codigo 1 Digitado Voto Computado ao Candidato 1 = 3\n",
      "Codigo 1 Digitado Voto Computado ao Candidato 1 = 4\n",
      "Codigo 1 Digitado Voto Computado ao Candidato 1 = 5\n",
      "Codigo 1 Digitado Voto Computado ao Candidato 1 = 6\n",
      "Codigo 1 Digitado Voto Computado ao Candidato 1 = 7\n",
      "Codigo 1 Digitado Voto Computado ao Candidato 1 = 8\n",
      "Codigo 1 Digitado Voto Computado ao Candidato 1 = 9\n",
      "Codigo 1 Digitado Voto Computado ao Candidato 1 = 10\n",
      "Codigo 1 Digitado Voto Computado ao Candidato 1 = 11\n",
      "Codigo 1 Digitado Voto Computado ao Candidato 1 = 12\n",
      "Codigo 1 Digitado Voto Computado ao Candidato 1 = 13\n",
      "Codigo 1 Digitado Voto Computado ao Candidato 1 = 14\n",
      "Codigo 1 Digitado Voto Computado ao Candidato 1 = 15\n",
      "Codigo 1 Digitado Voto Computado ao Candidato 1 = 16\n",
      "Codigo 1 Digitado Voto Computado ao Candidato 1 = 17\n",
      "Codigo 1 Digitado Voto Computado ao Candidato 1 = 18\n",
      "Codigo 2 Digitado Voto Computado ao Candidato 2 = 1\n",
      "Codigo 2 Digitado Voto Computado ao Candidato 2 = 2\n",
      "Codigo 2 Digitado Voto Computado ao Candidato 2 = 3\n",
      "Codigo 2 Digitado Voto Computado ao Candidato 2 = 4\n",
      "Codigo 2 Digitado Voto Computado ao Candidato 2 = 5\n",
      "Codigo 2 Digitado Voto Computado ao Candidato 2 = 6\n",
      "Codigo 2 Digitado Voto Computado ao Candidato 2 = 7\n"
     ]
    },
    {
     "ename": "ValueError",
     "evalue": "invalid literal for int() with base 10: ''",
     "output_type": "error",
     "traceback": [
      "\u001b[1;31m---------------------------------------------------------------------------\u001b[0m",
      "\u001b[1;31mValueError\u001b[0m                                Traceback (most recent call last)",
      "Cell \u001b[1;32mIn[1], line 7\u001b[0m\n\u001b[0;32m      4\u001b[0m nulo \u001b[38;5;241m=\u001b[39m \u001b[38;5;241m0\u001b[39m\n\u001b[0;32m      6\u001b[0m \u001b[38;5;28;01mwhile\u001b[39;00m \u001b[38;5;28;01mTrue\u001b[39;00m:\n\u001b[1;32m----> 7\u001b[0m     codigo \u001b[38;5;241m=\u001b[39m \u001b[38;5;28;43mint\u001b[39;49m\u001b[43m(\u001b[49m\u001b[38;5;28;43minput\u001b[39;49m\u001b[43m(\u001b[49m\u001b[38;5;124;43m'\u001b[39;49m\u001b[38;5;124;43mDigite um codigo na urna 0 a 4\u001b[39;49m\u001b[38;5;124;43m'\u001b[39;49m\u001b[43m)\u001b[49m\u001b[43m)\u001b[49m\n\u001b[0;32m      8\u001b[0m     \u001b[38;5;28;01mif\u001b[39;00m codigo \u001b[38;5;241m==\u001b[39m \u001b[38;5;241m0\u001b[39m:\n\u001b[0;32m      9\u001b[0m         \u001b[38;5;28mprint\u001b[39m(\u001b[38;5;124m'\u001b[39m\u001b[38;5;124mEncerrando Programa\u001b[39m\u001b[38;5;124m'\u001b[39m)\n",
      "\u001b[1;31mValueError\u001b[0m: invalid literal for int() with base 10: ''"
     ]
    }
   ],
   "source": [
    "candidato1 = 0 \n",
    "candidato2 = 0\n",
    "branco = 0\n",
    "nulo = 0\n",
    "\n",
    "while True:\n",
    "    codigo = int(input('Digite um codigo na urna 0 a 4'))\n",
    "    if codigo == 0:\n",
    "        print('Encerrando Programa')\n",
    "        break\n",
    "    elif codigo == 1:\n",
    "        candidato1 += 1\n",
    "        print(f'Codigo 1 Digitado Voto Computado ao Candidato 1 = {candidato1}')\n",
    "    elif codigo == 2:\n",
    "        candidato2 += 1\n",
    "        print(f'Codigo 2 Digitado Voto Computado ao Candidato 2 = {candidato2}')\n",
    "    elif codigo == 3:\n",
    "        branco += 1\n",
    "        print(f'Codigo 3 Digitado Voto Branco Computado = {branco}')\n",
    "    elif codigo == 4:\n",
    "        nulo += 1\n",
    "        print(f'Codigo 4 Digitado Voto Nulo Computado = {nulo}') \n",
    "    else:\n",
    "        print('Codigo invalido')\n",
    "\n",
    "print(f'Candidato 1, Totalizando {candidato1} Votos!')\n",
    "print(f'Candidato 2, Totalizando {candidato2} Votos!')\n",
    "print(f'Brancos, Totalizando {branco} Votos!')\n",
    "print(f'Nulos, Totalizando {nulo} Votos!')\n"
   ]
  },
  {
   "cell_type": "markdown",
   "id": "0d602069-73de-4bd8-8777-4ede93e54f55",
   "metadata": {},
   "source": [
    "---"
   ]
  },
  {
   "cell_type": "markdown",
   "id": "2f169cc1-378f-480b-8977-613aa702ebd8",
   "metadata": {},
   "source": [
    "### Exercício 10\n",
    "\n",
    "Crie um laço while com a condição verdadeira, exemplo:\n",
    "\n",
    "```python\n",
    "while True:\n",
    "```\n",
    "\n",
    "Dentro do laço peça para o usuário digitar uma **palavra**, se a palavra digitada estiver na lista de **palavras**, então saia do laço (Break)"
   ]
  },
  {
   "cell_type": "code",
   "execution_count": 3,
   "id": "bbbfbfb9-8866-4991-83ed-3d88ff0a8b63",
   "metadata": {
    "tags": []
   },
   "outputs": [
    {
     "name": "stdout",
     "output_type": "stream",
     "text": [
      "['casa', 'bola', 'mangueira', 'uva', 'quiabo', 'computador', 'cobra', 'lentilha', 'arroz', 'thomas']\n",
      "['casa', 'bola', 'mangueira', 'uva', 'quiabo', 'computador', 'cobra', 'lentilha', 'arroz', 'thomas', 'rico']\n"
     ]
    }
   ],
   "source": [
    "palavras = ['casa','bola','mangueira','uva','quiabo','computador','cobra','lentilha','arroz']\n",
    "\n",
    "while True:\n",
    "    p = input('Digite uma palavra: ')\n",
    "    if p not in palavras:\n",
    "        palavras.append(p)\n",
    "        print(palavras)\n",
    "    else:\n",
    "        break"
   ]
  },
  {
   "cell_type": "markdown",
   "id": "980f2154-9f11-499c-bd6b-7539050312d7",
   "metadata": {},
   "source": [
    "---"
   ]
  },
  {
   "cell_type": "markdown",
   "id": "90555244-3a08-498a-b35b-89999bba8b0f",
   "metadata": {},
   "source": [
    "### Exercício 11\n",
    "\n",
    "Crie a variável **soma** com o valor igual a 0 e em seguida crie um laço while com a condição verdadeira, exemplo:\n",
    "\n",
    "```python\n",
    "while True:\n",
    "```\n",
    "\n",
    "Dentro do laço peça para o usuário digitar um número inteiro e em seguida crie as condições abaixo:\n",
    "\n",
    "* Se o número digitado for negativo, então saia do laço (Break)\n",
    "\n",
    "Mais abaixo, ainda dentro do loop, crie está outra condição:\n",
    "\n",
    "* Se o número digitado for par, então some o valor do número com variável **soma**\n",
    "\n",
    "Por fim, imprima o valor da variável **soma**."
   ]
  },
  {
   "cell_type": "code",
   "execution_count": 6,
   "id": "300438e3-cbd6-462b-bd3f-048789112a8a",
   "metadata": {
    "tags": []
   },
   "outputs": [
    {
     "name": "stdout",
     "output_type": "stream",
     "text": [
      "0 + 8 = 8\n",
      "0 + 10 = 10\n"
     ]
    }
   ],
   "source": [
    "soma  = 0\n",
    "\n",
    "while True:\n",
    "    n = int(input('Digite um número inteiro: '))\n",
    "    if n < 0:\n",
    "        break\n",
    "    if n % 2 == 0:\n",
    "        soma2 = soma + n\n",
    "        print(f'{soma} + {n} = {soma2}')\n"
   ]
  },
  {
   "cell_type": "markdown",
   "id": "cb0d1e6a-e50e-48af-b200-3fde9a8c3c8c",
   "metadata": {},
   "source": [
    "---"
   ]
  },
  {
   "cell_type": "markdown",
   "id": "b178cc88-ecb3-48b5-81a1-43fb86bb2eb8",
   "metadata": {},
   "source": [
    "### Exercício 12\n",
    "\n",
    "Crie uma lista vazia e em seguida crie um laço while com a condição verdadeira, exemplo:\n",
    "\n",
    "```python\n",
    "while True:\n",
    "```\n",
    "\n",
    "Dentro do laço peça para o usuário digitar um número inteiro e em seguida crie as condições abaixo:\n",
    "\n",
    "* Se o tamanho da lista criada for igual a 5 itens, então saia do laço (Break)\n",
    "\n",
    "Mais abaixo, ainda dentro do loop, crie está outra condição:\n",
    "\n",
    "* Se o número digitado ainda não estiver na lista, então adicione o número na lista.\n",
    "\n",
    "Por fim, imprima a lista de números criada."
   ]
  },
  {
   "cell_type": "code",
   "execution_count": 2,
   "id": "673a6dec-3f08-4f8a-b601-efc18c871b72",
   "metadata": {},
   "outputs": [
    {
     "name": "stdout",
     "output_type": "stream",
     "text": [
      "[7]\n",
      "[7, 2]\n",
      "[7, 2, 4]\n",
      "[7, 2, 4, 5]\n",
      "[7, 2, 4, 5, 0]\n"
     ]
    }
   ],
   "source": [
    "lista = []\n",
    "\n",
    "while True:\n",
    "    n = int(input('Digite um número: '))\n",
    "    if len(lista) == 5:\n",
    "        break\n",
    "    if n not in lista:\n",
    "        lista.append(n)\n",
    "        print(lista)\n",
    "\n"
   ]
  },
  {
   "cell_type": "markdown",
   "id": "dc4cff3f-5116-4dda-9ea5-58a3b06b4db0",
   "metadata": {},
   "source": [
    "---"
   ]
  }
 ],
 "metadata": {
  "kernelspec": {
   "display_name": "Python 3 (ipykernel)",
   "language": "python",
   "name": "python3"
  },
  "language_info": {
   "codemirror_mode": {
    "name": "ipython",
    "version": 3
   },
   "file_extension": ".py",
   "mimetype": "text/x-python",
   "name": "python",
   "nbconvert_exporter": "python",
   "pygments_lexer": "ipython3",
   "version": "3.12.0"
  }
 },
 "nbformat": 4,
 "nbformat_minor": 5
}
