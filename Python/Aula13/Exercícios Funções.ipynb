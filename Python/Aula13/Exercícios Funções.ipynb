{
 "cells": [
  {
   "cell_type": "markdown",
   "id": "e18376ba-7875-4414-ab0d-d1900316a5d9",
   "metadata": {
    "tags": []
   },
   "source": [
    "# <font color='OrangeRed'><center>Exercícios - Funções</center></font>"
   ]
  },
  {
   "cell_type": "markdown",
   "id": "095576dd-6fcd-48ae-90ef-2c2dd49aa35d",
   "metadata": {},
   "source": [
    "### Exercício 01\n",
    "\n",
    "Crie uma função que receba três números como parâmetros, e que retorne a soma desses três números."
   ]
  },
  {
   "cell_type": "code",
   "execution_count": 5,
   "id": "9875cdf1-f7a6-4d0e-8497-0e1a112a93af",
   "metadata": {},
   "outputs": [
    {
     "name": "stdout",
     "output_type": "stream",
     "text": [
      "45\n",
      "10 + 15 + 20 = 45\n"
     ]
    }
   ],
   "source": [
    "def somar (a,b,c):\n",
    "    return a + b + c\n",
    "\n",
    "n1 = int(input('Digite um número'))\n",
    "n2 = int(input('Digite um número'))\n",
    "n3 = int(input('Digite um número'))\n",
    "\n",
    "print(somar(n1,n2,n3))\n",
    "print(f'{n1} + {n2} + {n3} = {somar(n1,n2,n3)}')\n",
    "\n",
    "\n",
    "\n",
    "\n",
    "\n"
   ]
  },
  {
   "cell_type": "markdown",
   "id": "b39845b1-ff90-435c-91de-a15fc8a82fb7",
   "metadata": {},
   "source": [
    "---"
   ]
  },
  {
   "cell_type": "markdown",
   "id": "00f50df4-0654-4c42-8f0e-9898c8c2cb5f",
   "metadata": {},
   "source": [
    "### Exercício 02\n",
    "\n",
    "Crie uma função que receba um número como parâmetro, e com uma condicional if/else crie a condição abaixo:\n",
    "\n",
    "* Se o número informado for maior que 0, então retorne **'Positivo'** \n",
    "* Se o número informado for menor que 0, então retorne **'Negativo'**  \n",
    "* Se o número informado for igual a zero, então retorne **'Neutro'**  "
   ]
  },
  {
   "cell_type": "code",
   "execution_count": 19,
   "id": "74f75e45-5192-409b-9018-1758f23a2993",
   "metadata": {},
   "outputs": [
    {
     "name": "stdout",
     "output_type": "stream",
     "text": [
      "5 é positivo\n"
     ]
    }
   ],
   "source": [
    "n1 = int(input('Digite um número'))\n",
    "def tipo (n1):\n",
    "    if n1 > 0:\n",
    "        return (f'{n1} é positivo')\n",
    "    elif n1 < 0:\n",
    "        return (f'{n1} é negativo')\n",
    "    else:\n",
    "        return (f'{n1} é neutro')\n",
    "\n",
    "print(tipo(n1))\n",
    "            "
   ]
  },
  {
   "cell_type": "markdown",
   "id": "14b1f0c5-e100-480c-8187-340f82a9217c",
   "metadata": {},
   "source": [
    "---"
   ]
  },
  {
   "cell_type": "markdown",
   "id": "a046c905-a350-4636-867a-7f7d74541c25",
   "metadata": {},
   "source": [
    "### Exercício 03\n",
    "\n",
    "Crie uma função que receba um número como parâmetro, e que retorne o dobro do número."
   ]
  },
  {
   "cell_type": "code",
   "execution_count": 22,
   "id": "03953933-cf27-436e-8690-84696e05a18f",
   "metadata": {},
   "outputs": [
    {
     "name": "stdout",
     "output_type": "stream",
     "text": [
      "O dobro de 15 é 30\n"
     ]
    }
   ],
   "source": [
    "n1 = int(input('Digite um número'))\n",
    "\n",
    "def dobro(n1):\n",
    "    \n",
    "    return n1 * 2\n",
    "\n",
    "print(f'O dobro de {n1} é {dobro(n1)}')"
   ]
  },
  {
   "cell_type": "markdown",
   "id": "b1c7278b-775b-4ea8-9b37-e985ea9a048b",
   "metadata": {},
   "source": [
    "---"
   ]
  },
  {
   "cell_type": "markdown",
   "id": "a62ae0e4-8e4b-4ba3-8b48-419f787156af",
   "metadata": {},
   "source": [
    "### Exercício 04\n",
    "\n",
    "Crie uma função que receba um texto como parâmetro, e que retorne o texto informado ao contrário."
   ]
  },
  {
   "cell_type": "code",
   "execution_count": 26,
   "id": "18882b38-32a7-46a2-8197-64fe9b54efb7",
   "metadata": {},
   "outputs": [
    {
     "name": "stdout",
     "output_type": "stream",
     "text": [
      "samoht\n"
     ]
    }
   ],
   "source": [
    "txt1 = input('Digite um texto')\n",
    "\n",
    "def texto(txt1):\n",
    "   return txt1[::-1]\n",
    "print(texto(txt1))\n",
    "    \n",
    "\n",
    "\n"
   ]
  },
  {
   "cell_type": "markdown",
   "id": "5cbce694-d8e7-4800-a4e0-28b74e9c3d68",
   "metadata": {},
   "source": [
    "---"
   ]
  },
  {
   "cell_type": "markdown",
   "id": "face8095-6de9-4a8c-9786-e92ac0392fb3",
   "metadata": {},
   "source": [
    "### Exercício 05\n",
    "\n",
    "Crie uma função que receba um salário como parâmetro, e que retorne o valor do salário mais um reajuste de 10%.\n",
    "\n",
    "**Dica:**  \n",
    "_10% é o equivalente a 0.1_"
   ]
  },
  {
   "cell_type": "code",
   "execution_count": 35,
   "id": "5393ada0-98a2-4404-af43-634e0c0202ec",
   "metadata": {},
   "outputs": [
    {
     "name": "stdout",
     "output_type": "stream",
     "text": [
      "O Salario anterior ao reajuste é 1000 ---------- Após o reajuste o salario sera 1100.0\n"
     ]
    }
   ],
   "source": [
    "din = int(input('Digite o seu salario'))\n",
    "def salario(din):\n",
    "    din *= 0.1\n",
    "    return din\n",
    "print(f'O Salario anterior ao reajuste é {din} ---------- Após o reajuste o salario sera {din + salario(din)}')\n"
   ]
  },
  {
   "cell_type": "markdown",
   "id": "bf3cada8-d138-446e-adbc-fead28fea0b1",
   "metadata": {},
   "source": [
    "---"
   ]
  },
  {
   "cell_type": "markdown",
   "id": "68bba43a-b5b5-41a1-a048-ef6f705bbc3b",
   "metadata": {},
   "source": [
    "### Exercício 06\n",
    "\n",
    "Crie uma função que receba um texto qualquer, e que retorne todas as letras do texto em maiúsculo."
   ]
  },
  {
   "cell_type": "code",
   "execution_count": 1,
   "id": "59ba1653-9af0-4d24-9240-4066cb8d83de",
   "metadata": {},
   "outputs": [
    {
     "name": "stdout",
     "output_type": "stream",
     "text": [
      "THOMAS ou thomas\n"
     ]
    }
   ],
   "source": [
    "txt = input('Digite um texto')\n",
    "\n",
    "def texto(txt):\n",
    "    return txt.upper()\n",
    "    \n",
    "print(f'{texto(txt)} ou {txt}')\n",
    "\n",
    "\n"
   ]
  },
  {
   "cell_type": "markdown",
   "id": "e2a09cd5-c83f-43fd-a96a-84266e74b21c",
   "metadata": {},
   "source": [
    "---"
   ]
  },
  {
   "cell_type": "markdown",
   "id": "bef3877c-7140-498c-8761-7a2c94cfd0bb",
   "metadata": {},
   "source": [
    "### Exercício 07\n",
    "\n",
    "Crie uma função que receba quatro notas como parâmetro, em seguida some as quatro notas e retorne a média aritmética, ou seja, divida a soma das quatro notas por quatro."
   ]
  },
  {
   "cell_type": "code",
   "execution_count": 5,
   "id": "c14da5dd-463a-4a7e-b92d-76c8b27f4155",
   "metadata": {},
   "outputs": [
    {
     "name": "stdout",
     "output_type": "stream",
     "text": [
      "A media é 9\n"
     ]
    }
   ],
   "source": [
    "n1 = int(input('Digite a primeria nota:'))\n",
    "n2 = int(input('Digite a segunda nota:'))\n",
    "n3 = int(input('Digite a terceira nota:'))\n",
    "n4 = int(input('Digite a quarta nota:'))\n",
    "\n",
    "def media(n1,n2,n3,n4):\n",
    "    soma = n1 + n2 + n3 + n4\n",
    "    media = soma / 4\n",
    "    return media\n",
    "\n",
    "print(f'A media é {media(n1,n2,n3,n4)}')"
   ]
  },
  {
   "cell_type": "markdown",
   "id": "98275870-4cad-437f-88dd-54890b16e1d4",
   "metadata": {},
   "source": [
    "---"
   ]
  },
  {
   "cell_type": "markdown",
   "id": "2df310e8-923a-4eb5-88dc-e07055f60ce6",
   "metadata": {},
   "source": [
    "### Exercício 08\n",
    "\n",
    "Crie uma função que receba dois parâmetros, o 1º sendo um nome e o 2º sendo um sobrenome, e que retorne o nome completo da pessoa."
   ]
  },
  {
   "cell_type": "code",
   "execution_count": 9,
   "id": "da74073a-01c4-473f-bbc4-76e6f267b6b5",
   "metadata": {},
   "outputs": [
    {
     "name": "stdout",
     "output_type": "stream",
     "text": [
      "thomas bera\n"
     ]
    }
   ],
   "source": [
    "nome = input('Digite o seu nome')\n",
    "sobrenome = input('Digite o seu sobrenome')\n",
    "\n",
    "def completo(nome,sobrenome):\n",
    "    return nome + \" \" + sobrenome\n",
    "\n",
    "print(completo(nome,sobrenome))\n",
    "\n",
    "\n",
    "\n"
   ]
  },
  {
   "cell_type": "markdown",
   "id": "21dad33b-976a-48ae-9bce-f4ab64274d96",
   "metadata": {},
   "source": [
    "---"
   ]
  },
  {
   "cell_type": "markdown",
   "id": "c0cedcce-6bfa-49a6-a814-ea6c7baff647",
   "metadata": {},
   "source": [
    "### Exercício 09\n",
    "\n",
    "Crie uma função que receba um número como parâmetro, e em seguida crie uma condicional if/else que retorne se o número informado é divisível por 3 ou não."
   ]
  },
  {
   "cell_type": "code",
   "execution_count": 13,
   "id": "4a6b2a37-f55d-4ef6-a6a2-a678d0310036",
   "metadata": {},
   "outputs": [
    {
     "name": "stdout",
     "output_type": "stream",
     "text": [
      "9 é divisivel por 3\n"
     ]
    }
   ],
   "source": [
    "n1 = int(input('Digite um número'))\n",
    "\n",
    "def numero(n1):\n",
    "    if n1 % 3 == 0:\n",
    "        return f'{n1} é divisivel por 3'\n",
    "    else:\n",
    "        return f'{n1} não é divisivel por 3'\n",
    "    \n",
    "print(numero(n1))\n",
    "\n",
    "\n"
   ]
  },
  {
   "cell_type": "markdown",
   "id": "9bf72d16-1c6f-4023-8961-f69996156532",
   "metadata": {},
   "source": [
    "---"
   ]
  },
  {
   "cell_type": "markdown",
   "id": "434120b5-d233-405a-b974-16ffcd7cb0fa",
   "metadata": {},
   "source": [
    "### Exercício 10\n",
    "\n",
    "Crie uma função que receba três valores como parâmetro, e que retorne uma lista com esses 3 valores passados como argumentos."
   ]
  },
  {
   "cell_type": "code",
   "execution_count": 14,
   "id": "9cf9bbcc-3715-46d0-b1ef-7877be199558",
   "metadata": {},
   "outputs": [
    {
     "name": "stdout",
     "output_type": "stream",
     "text": [
      "[10, 5, 8]\n"
     ]
    }
   ],
   "source": [
    "n1 = int(input('Digite o primero numero:'))\n",
    "n2 = int(input('Digite o segundo numero:'))\n",
    "n3 = int(input('Digite terceiro numero: '))\n",
    "lista = []\n",
    "def num(n1,n2,n3):\n",
    "    lista.append(n1)\n",
    "    lista.append(n2)\n",
    "    lista.append(n3)\n",
    "    return lista\n",
    "\n",
    "print(num(n1,n2,n3))\n",
    "    \n",
    "\n"
   ]
  },
  {
   "cell_type": "markdown",
   "id": "8c7a2a04-a9d6-44b5-a0c2-f9b5dedabf56",
   "metadata": {},
   "source": [
    "---"
   ]
  },
  {
   "cell_type": "markdown",
   "id": "a92688a3-643c-4585-9913-7eb17a02075a",
   "metadata": {},
   "source": [
    "### Exercício 11\n",
    "\n",
    "Crie uma função que receba uma lista de números como parâmetro, e que retorne apenas o maior número da lista. \n",
    "\n",
    "**A lista de números deve ser criada por você.**"
   ]
  },
  {
   "cell_type": "code",
   "execution_count": 18,
   "id": "9dfd2e21-bc87-415a-9feb-4535be70ba8f",
   "metadata": {},
   "outputs": [
    {
     "name": "stdout",
     "output_type": "stream",
     "text": [
      "20\n"
     ]
    }
   ],
   "source": [
    "\n",
    "n1 = int(input('Digite o primero numero:'))\n",
    "n2 = int(input('Digite o segundo numero:'))\n",
    "n3 = int(input('Digite terceiro numero: '))\n",
    "lista = []\n",
    "def num(n1,n2,n3):\n",
    "    lista.append(n1)\n",
    "    lista.append(n2)\n",
    "    lista.append(n3)\n",
    "    lista.sort()\n",
    "    return lista[-1]\n",
    "\n",
    "print(num(n1,n2,n3))\n",
    "\n"
   ]
  },
  {
   "cell_type": "markdown",
   "id": "983e51c5-0ccb-4765-85ab-b9aa702591d5",
   "metadata": {},
   "source": [
    "---"
   ]
  },
  {
   "cell_type": "markdown",
   "id": "d210d36c-abd9-49bd-ae00-1b87ceb5131d",
   "metadata": {},
   "source": [
    "### Exercício 12\n",
    "\n",
    "Crie uma função que receba dois números como argumentos, sendo:\n",
    "\n",
    "1. O número da **Base**\n",
    "2. O número do **Expoente**\n",
    "\n",
    "\n",
    "Por fim, retorne a **Potência**\n",
    "\n",
    "<img src='https://matematicaproeja.files.wordpress.com/2018/09/termos-potencia.png' style='width: 250px'>"
   ]
  },
  {
   "cell_type": "code",
   "execution_count": 19,
   "id": "1ce7db21-9972-40da-a4f3-101faa108f9d",
   "metadata": {},
   "outputs": [
    {
     "name": "stdout",
     "output_type": "stream",
     "text": [
      "100\n"
     ]
    }
   ],
   "source": [
    "n1 = int(input('Digite o primero numero:'))\n",
    "n2 = int(input('Digite o segundo numero:'))\n",
    "def num(n1,n2):\n",
    "    conta = n1**n2\n",
    "    return conta\n",
    "\n",
    "print(num(n1,n2))\n",
    "\n"
   ]
  },
  {
   "cell_type": "markdown",
   "id": "996962ec-928c-4151-8580-52b8237614dd",
   "metadata": {},
   "source": [
    "---"
   ]
  },
  {
   "cell_type": "markdown",
   "id": "d9b2d70c-2ccd-4349-ad7d-1713b922bd06",
   "metadata": {},
   "source": [
    "### Exercício 12\n",
    "\n",
    "Crie uma função que receba dois números como argumentos, sendo o 1º o **dividendo** e o 2º o **divisor**, em seguida crie a condição abaixo:\n",
    "\n",
    "* Se o número divisor for igual a 0, então retorne 'Erro: divisão por zero'\n",
    "* Senão retorne o resultado da divisão\n",
    "\n",
    "<img style=\"height:120px\" src=https://www.estudamos.com.br/divisao/elementos-da-divisao.jpg>"
   ]
  },
  {
   "cell_type": "code",
   "execution_count": 21,
   "id": "e6b009d5-3ee3-4e07-a007-c767be76c002",
   "metadata": {
    "tags": []
   },
   "outputs": [
    {
     "name": "stdout",
     "output_type": "stream",
     "text": [
      "2.0\n"
     ]
    }
   ],
   "source": [
    "n1 = int(input('Digite o primero numero:'))\n",
    "n2 = int(input('Digite o segundo numero:'))\n",
    "\n",
    "def num(n1,n2):\n",
    "    if n1 == 0:\n",
    "        return f'{n1} - Erro: divisão por zero'\n",
    "    else:\n",
    "        return n1 / n2\n",
    "\n",
    "print(num(n1,n2))\n",
    "\n"
   ]
  },
  {
   "cell_type": "markdown",
   "id": "14b11b5f-340b-49c5-82e2-9d4bec55bd8c",
   "metadata": {},
   "source": [
    "---"
   ]
  },
  {
   "cell_type": "markdown",
   "id": "07c3d4f5-59e8-4fe5-bb3d-e8066904c807",
   "metadata": {},
   "source": [
    "### Exercício 13\n",
    "\n",
    "Crie uma função que receba uma lista de números como parâmetro, e que retorne a média dos números.\n",
    "\n",
    "**Dica:**  \n",
    "_Uma das formas de se fazer é utilizando **2 funções**_\n",
    "\n",
    "**A lista de números deve ser criada por você.**"
   ]
  },
  {
   "cell_type": "code",
   "execution_count": 34,
   "id": "742d2e5c-33c8-4403-af68-b62a7b616c44",
   "metadata": {
    "tags": []
   },
   "outputs": [
    {
     "name": "stdout",
     "output_type": "stream",
     "text": [
      "A média dos números na lista é: 30.0\n"
     ]
    }
   ],
   "source": [
    "def calcular_media(lista):\n",
    "    soma = somar_numeros(lista)\n",
    "    quantidade = len(lista)\n",
    "    media = soma / quantidade\n",
    "    return media\n",
    "\n",
    "def somar_numeros(lista):\n",
    "    soma = sum(lista)\n",
    "    return soma\n",
    "\n",
    "lista_numeros = [10, 20, 30, 40, 50]\n",
    "media_resultante = calcular_media(lista_numeros)\n",
    "print(f'A média dos números na lista é: {media_resultante}')\n"
   ]
  },
  {
   "cell_type": "markdown",
   "id": "498d8be8-dac6-4003-88c6-c24f6d5f3cc3",
   "metadata": {},
   "source": [
    "---"
   ]
  },
  {
   "cell_type": "markdown",
   "id": "ad7d01c5-2bb2-4ea4-bf36-478185eb0b3b",
   "metadata": {},
   "source": [
    "### Exercício 14\n",
    "\n",
    "Crie uma função que receba dois parâmetros, sendo altura e peso, e em seguida retorne o calculo o IMC (Índice de Massa Corpória):\n",
    "\n",
    "**Formúla:**  \n",
    "_IMC = Peso / (Altura*Altura)_"
   ]
  },
  {
   "cell_type": "code",
   "execution_count": 2,
   "id": "bdde9d04-4ec7-4066-8a2f-9bdee7006d6c",
   "metadata": {
    "tags": []
   },
   "outputs": [
    {
     "name": "stdout",
     "output_type": "stream",
     "text": [
      "Seu IMC é -> 22.86\n"
     ]
    }
   ],
   "source": [
    "altura = float(input('Digite sua altura: '))\n",
    "peso = float(input('Digite o seu peso: '))\n",
    "\n",
    "def imc(altura,peso):\n",
    "    imc2 = peso / (altura*altura)\n",
    "    return f'{imc2:.2f}'\n",
    "\n",
    "print(f'Seu IMC é -> {imc(altura,peso)}')\n"
   ]
  },
  {
   "cell_type": "markdown",
   "id": "71eb643e-a3a7-4dd6-9e4c-b9ddfe65c541",
   "metadata": {},
   "source": [
    "---"
   ]
  },
  {
   "cell_type": "markdown",
   "id": "d85c07d7-eeb4-4684-aaa0-64946902f09b",
   "metadata": {},
   "source": [
    "### Exercício 15\n",
    "\n",
    "Crie uma função que receba um número inteiro como parâmetro e em seguida retorne o texto **'Python '** pela quantidade de vezes informada.\n",
    "\n",
    "**Entrada:**  \n",
    "3\n",
    "\n",
    "**Saída:**  \n",
    "'Python Python Python '"
   ]
  },
  {
   "cell_type": "code",
   "execution_count": 4,
   "id": "ca6ae957-ce75-4a9d-ae46-b4aeb1c99055",
   "metadata": {
    "tags": []
   },
   "outputs": [
    {
     "name": "stdout",
     "output_type": "stream",
     "text": [
      " Python  Python  Python  Python  Python  Python  Python  Python \n"
     ]
    }
   ],
   "source": [
    "p = ' Python '\n",
    "n1 = int(input('Digite um numero:'))\n",
    "def vzs(p):\n",
    "    vzs2 = p * n1\n",
    "    return vzs2\n",
    "\n",
    "print(vzs(p))\n"
   ]
  },
  {
   "cell_type": "markdown",
   "id": "7a8fa322-8f36-484e-bcb1-1edaf13bb29f",
   "metadata": {},
   "source": [
    "---"
   ]
  },
  {
   "cell_type": "markdown",
   "id": "c2506980-900d-4e9c-aab9-45aac2495940",
   "metadata": {},
   "source": [
    "### Exercício 16\n",
    "\n",
    "Crie uma função que receba o valor do peso de uma bagagem como parâmetro e em seguida retorne o custo do despacho:\n",
    "\n",
    "| Peso(Kg) | Custo(R$) |\n",
    "|:--------:|:---------:|\n",
    "| Até 23.9 | Grátis |\n",
    "| Entre 24.0 e 33.9 | 80.00 |\n",
    "| Entre 34.0 e 43.9 | 120.00 |\n",
    "| A partir de 44 | 180.00 |"
   ]
  },
  {
   "cell_type": "code",
   "execution_count": 13,
   "id": "04d2671a-9f40-44b5-90a6-756fd0826e94",
   "metadata": {
    "tags": []
   },
   "outputs": [
    {
     "name": "stdout",
     "output_type": "stream",
     "text": [
      "O peso da sua bagagem é 100.0, o total a pagar pelo despache dela é O valor do despache é R$180\n"
     ]
    }
   ],
   "source": [
    "n1 = float(input('Digite o peso da bagagem: '))\n",
    "\n",
    "def bagagem(n1):\n",
    "    if n1 <= 23.9:\n",
    "        return f'Valor do despache é R$0.00/Gratis'\n",
    "    elif n1 >= 24 and n1 <= 33.9:\n",
    "        return f'Valor do despache é R$80.00'\n",
    "    elif n1 >= 34 and n1 <= 43.9:\n",
    "        return f'Valor do despache é R$120.00'\n",
    "    else:\n",
    "        return f'O valor do despache é R$180'\n",
    "\n",
    "print(f'O peso da sua bagagem é {n1}, o total a pagar pelo despache dela é {bagagem(n1)}')"
   ]
  },
  {
   "cell_type": "markdown",
   "id": "4eff5138-f6af-495d-9fe7-abbd1ec83b8f",
   "metadata": {},
   "source": [
    "---"
   ]
  },
  {
   "cell_type": "markdown",
   "id": "58a7758e-e2ec-4a9f-87f8-fd6c829d1e6c",
   "metadata": {},
   "source": [
    "### Exercício 17\n",
    "\n",
    "No Brasil, 15 Kg equivale a 1 arroba. Dito isto, faça uma função que receba um valor em Kgs e retorne o valor convertido em arrobas:\n",
    "\n",
    "**Fórmula:**  \n",
    "_@ = Kg / 15_"
   ]
  },
  {
   "cell_type": "code",
   "execution_count": 26,
   "id": "7f972e71-9e49-43cb-b72b-8ccbf8a9600d",
   "metadata": {
    "tags": []
   },
   "outputs": [
    {
     "name": "stdout",
     "output_type": "stream",
     "text": [
      "A quantidade de Kilos é 60.0, a cada 15 quilos, é gerado um @, o total de @ é 4.0\n"
     ]
    }
   ],
   "source": [
    "kgs = float(input('Digite o peso em Kilos: '))\n",
    "\n",
    "def arrobas(kgs):\n",
    "    arroba = kgs / 15\n",
    "    return arroba\n",
    "\n",
    "print(f'A quantidade de Kilos é {kgs}, a cada 15 quilos, é gerado um @, o total de @ é {arrobas(kgs)}')"
   ]
  },
  {
   "cell_type": "markdown",
   "id": "44a0dac0-3092-4374-b050-044e31702a49",
   "metadata": {
    "tags": []
   },
   "source": [
    "---"
   ]
  }
 ],
 "metadata": {
  "kernelspec": {
   "display_name": "Python 3 (ipykernel)",
   "language": "python",
   "name": "python3"
  },
  "language_info": {
   "codemirror_mode": {
    "name": "ipython",
    "version": 3
   },
   "file_extension": ".py",
   "mimetype": "text/x-python",
   "name": "python",
   "nbconvert_exporter": "python",
   "pygments_lexer": "ipython3",
   "version": "3.12.0"
  }
 },
 "nbformat": 4,
 "nbformat_minor": 5
}
