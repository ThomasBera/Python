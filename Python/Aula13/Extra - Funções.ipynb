{
 "cells": [
  {
   "cell_type": "markdown",
   "id": "e18376ba-7875-4414-ab0d-d1900316a5d9",
   "metadata": {
    "tags": []
   },
   "source": [
    "# <font color='OrangeRed'><center>Extra - Funções</center></font>"
   ]
  },
  {
   "cell_type": "markdown",
   "id": "095be461-7c86-4d0e-b75f-bf3dd1a3fc97",
   "metadata": {},
   "source": [
    "### Exercício 01\n",
    "\n",
    "Crie uma função que receba um número inteiro positivo como parâmetro e em seguida retorne o número inteiro invertido.\n",
    "\n",
    "**Entrada:**  \n",
    "_123456789_  \n",
    "\n",
    "**Saída:**  \n",
    "_987654321_  \n",
    "\n",
    "**Dica:**  \n",
    "_Uma das possíveis formas de se resolver é convertendo o número para string_"
   ]
  },
  {
   "cell_type": "code",
   "execution_count": 3,
   "id": "5a6d183b-b7bd-4d42-9f5a-f3a8d1937b24",
   "metadata": {},
   "outputs": [
    {
     "name": "stdout",
     "output_type": "stream",
     "text": [
      "o número digitado é 123456789, invertido ele é 987654321\n"
     ]
    }
   ],
   "source": [
    "n1 = input('Digite um número: ')\n",
    "\n",
    "def invertido(n1):\n",
    "    inverso = n1[::-1]\n",
    "    return inverso\n",
    "print(f'o número digitado é {n1}, invertido ele é {invertido(n1)}')\n"
   ]
  },
  {
   "cell_type": "markdown",
   "id": "3654553c-c0d5-4939-b9c9-694283c86f54",
   "metadata": {},
   "source": [
    "---"
   ]
  },
  {
   "cell_type": "markdown",
   "id": "0e29d754-28ce-45e4-9794-8a03a9e7fbe6",
   "metadata": {},
   "source": [
    "### Exercício 02\n",
    "\n",
    "Crie uma função que receba três números como parâmetro, sendo **dia**, **mês** e **ano** e em seguida retorne a data por extenso, por exemplo:\n",
    "\n",
    "**Entrada:**  \n",
    "_20/01/2010_\n",
    "\n",
    "**Saída:**  \n",
    "_20 de Janeiro de 2010_"
   ]
  },
  {
   "cell_type": "code",
   "execution_count": 9,
   "id": "db7a688a-0562-40fd-9315-10ca15bf3b5d",
   "metadata": {},
   "outputs": [
    {
     "name": "stdout",
     "output_type": "stream",
     "text": [
      "11 de Junho de 2005\n"
     ]
    }
   ],
   "source": [
    "dia = int (input('Digite o dia: '))\n",
    "mes = int (input('Digite o mes: '))\n",
    "ano = int(input('Digite o ano: '))\n",
    "\n",
    "def anual(dia,mes,ano):\n",
    "    if dia <= 31 and mes == 1:\n",
    "        return f'{dia} de Janeiro de {ano}'\n",
    "    elif dia <= 28 and mes == 2:\n",
    "        return f'{dia} de Fevereiro de {ano}'\n",
    "    elif dia <= 31 and mes == 3:\n",
    "        return f'{dia} de Março de {ano}'\n",
    "    elif dia <= 30 and mes == 4:\n",
    "        return f'{dia} de Abril de {ano}'\n",
    "    elif dia <= 31 and mes == 5:\n",
    "        return f'{dia} de Maio de {ano}'\n",
    "    elif dia <= 30 and mes == 6:\n",
    "        return f'{dia} de Junho de {ano}'\n",
    "    elif dia <= 31 and mes == 7:\n",
    "        return f'{dia} de Julho de {ano}'\n",
    "    elif dia <= 31 and mes == 8:\n",
    "        return f'{dia} de Agosto de {ano}'\n",
    "    elif dia <= 30 and mes == 9:\n",
    "        return f'{dia} de Setembro de {ano}'\n",
    "    elif dia <= 31 and mes == 10:\n",
    "        return f'{dia} de Outubro de {ano}'\n",
    "    elif dia <= 30 and mes == 11:\n",
    "        return f'{dia} de Novembro de {ano}'\n",
    "    elif dia <= 31 and mes == 12:\n",
    "        return f'{dia} de Dezembro de {ano}'\n",
    "\n",
    "print(anual(dia,mes,ano))"
   ]
  },
  {
   "cell_type": "markdown",
   "id": "1ed3356f-194a-4f23-af99-9116d9ecb4a9",
   "metadata": {},
   "source": [
    "---"
   ]
  },
  {
   "cell_type": "markdown",
   "id": "880f0949-1c7d-4805-920d-eec5bde9fe6c",
   "metadata": {},
   "source": [
    "### Exercício 03\n",
    "\n",
    "Crie uma função que receba uma lista de números como parâmetro e dentro dela imprima todas as informações abaixo:\n",
    "\n",
    "* Imprima o maior número da lista\n",
    "* Imprima o menor número da lista\n",
    "* Imprima a média dos números da lista\n",
    "\n",
    "**A lista de números deve ser criada por você.**"
   ]
  },
  {
   "cell_type": "code",
   "execution_count": 4,
   "id": "dcb7b150-ae6b-4314-910c-8e9b3708adcb",
   "metadata": {
    "tags": []
   },
   "outputs": [
    {
     "name": "stdout",
     "output_type": "stream",
     "text": [
      "[10, 12, 15]\n",
      "O maior da lista é 15\n",
      "O menor da lista é 10\n",
      "A media da lista é 12.333333333333334\n"
     ]
    }
   ],
   "source": [
    "\n",
    "n1 = int(input('Digite o primero numero:'))\n",
    "n2 = int(input('Digite o segundo numero:'))\n",
    "n3 = int(input('Digite terceiro numero: '))\n",
    "lista = []\n",
    "def num(n1,n2,n3):\n",
    "    lista.append(n1)\n",
    "    lista.append(n2)\n",
    "    lista.append(n3)\n",
    "    lista.sort()\n",
    "    return lista\n",
    "\n",
    "print(num(n1,n2,n3))\n",
    "print(f'O maior da lista é {lista[-1]}')\n",
    "print(f'O menor da lista é {lista[-3]}')\n",
    "print(f'A media da lista é {sum(lista) / len(lista)}')\n"
   ]
  },
  {
   "cell_type": "markdown",
   "id": "8256c385-dfb8-4cd5-ab46-b3156b587f12",
   "metadata": {},
   "source": [
    "---"
   ]
  },
  {
   "cell_type": "markdown",
   "id": "d7d7dbd9-996e-4992-a233-0fd83db761df",
   "metadata": {},
   "source": [
    "### Exercício 04\n",
    "\n",
    "Crie uma função que receba um ano como parâmetro e em seguida retorne se é ou não é um ano bissexto:\n",
    "\n",
    "* O ano é bissexto quando:\n",
    "    * ( Se for divisível por 4 **E** não pode ser divisível por 100 ) **OU** ( Se o for divisível por 400 )"
   ]
  },
  {
   "cell_type": "code",
   "execution_count": 7,
   "id": "7ec4c171-01dc-45fd-9ebb-7d8c03c00f24",
   "metadata": {
    "tags": []
   },
   "outputs": [
    {
     "name": "stdout",
     "output_type": "stream",
     "text": [
      "2016 é um ano bissexto\n"
     ]
    }
   ],
   "source": [
    "ano = int(input('Digite o ano: '))\n",
    "def anobi(ano):\n",
    "    if (ano % 4 == 0 and ano % 100 != 0) or (ano % 400 == 0):\n",
    "        return f'{ano} é um ano bissexto'\n",
    "    else:\n",
    "        return f'{ano} não é um ano bissexto'\n",
    "    \n",
    "print(anobi(ano))\n",
    "\n",
    "\n",
    "\n",
    "\n"
   ]
  },
  {
   "cell_type": "markdown",
   "id": "da00998b-5ecf-414f-962d-671828e7a6ba",
   "metadata": {},
   "source": [
    "---"
   ]
  },
  {
   "cell_type": "markdown",
   "id": "0d083213-5594-41a2-948c-701f9bcedc10",
   "metadata": {},
   "source": [
    "### Exercício 05\n",
    "\n",
    "Crie uma função que receba um número inteiro como parâmetro e que retorne a quantidade de dígitos do número informado. Exemplo:\n",
    "\n",
    "**Entrada:**  \n",
    "_5678_\n",
    "\n",
    "**Saída:**  \n",
    "_4 Dígitos_"
   ]
  },
  {
   "cell_type": "code",
   "execution_count": 10,
   "id": "b1e26655-9d38-49c7-bdf4-7df6d5dffe58",
   "metadata": {
    "tags": []
   },
   "outputs": [
    {
     "name": "stdout",
     "output_type": "stream",
     "text": [
      "O número 123456789 tem 9 digitos\n"
     ]
    }
   ],
   "source": [
    "n1 = input('Digite um número')\n",
    "\n",
    "def digitos(n1):\n",
    "    digito = len(n1)\n",
    "    return digito\n",
    "\n",
    "print(f'O número {n1} tem {digitos(n1)} digitos')\n"
   ]
  },
  {
   "cell_type": "markdown",
   "id": "2bf8aff0-ea88-4ba8-97b4-966eeab5d1ff",
   "metadata": {},
   "source": [
    "---"
   ]
  },
  {
   "cell_type": "markdown",
   "id": "ce6c8b76-a480-4d71-ab78-13c7fd428ee7",
   "metadata": {},
   "source": [
    "### Exercício 06\n",
    "\n",
    "Crie uma função que receba dois textos como parâmetro e em seguida retorne qual dos textos possui mais caracteres ou se eles possuem o mesmo tamanho."
   ]
  },
  {
   "cell_type": "code",
   "execution_count": 14,
   "id": "ce46f145-583e-468b-b965-343cc8aec987",
   "metadata": {
    "tags": []
   },
   "outputs": [
    {
     "name": "stdout",
     "output_type": "stream",
     "text": [
      "O texto 1 e o texto 2 tem a mesma quantidade de caracteres\n"
     ]
    }
   ],
   "source": [
    "txt1 = input('Digite um texto: ')\n",
    "txt2 = input('Digite outro texto: ')\n",
    "\n",
    "def texto(txt1,txt2):\n",
    "    \n",
    "    if len(txt1) > len(txt2):\n",
    "        return f'O Texto 1 \"{txt1}\" possui mais caracteres que o texto 2 \"{txt2}\" '\n",
    "    elif len(txt2) > len(txt1):\n",
    "        return f'O Texto 2 \"{txt2}\" possui mais caracteres que o texto 1 \"{txt1}\" '\n",
    "    else:\n",
    "        return f'O texto 1 e o texto 2 tem a mesma quantidade de caracteres'\n",
    "\n",
    "\n",
    "print(texto(txt1,txt2))"
   ]
  },
  {
   "cell_type": "markdown",
   "id": "cbab5186-5efb-40ec-b8f4-6ea82b93a8ea",
   "metadata": {},
   "source": [
    "---"
   ]
  },
  {
   "cell_type": "markdown",
   "id": "81b610ee-fada-408f-99ae-107ffb641d64",
   "metadata": {},
   "source": [
    "### Exercício 07\n",
    "\n",
    "Crie uma função que receba um número de celular e retorne se é um número válido ou não. Para um número ser considerado válido ele precisa atender os requisitos abaixo:\n",
    "\n",
    "* O 1º dígito do número do celular deve iniciar com o dígito 9\n",
    "* O número do celular informado deve conter 9 dígitos no total\n",
    "* Os 9 dígitos precisam ser valores numéricos"
   ]
  },
  {
   "cell_type": "code",
   "execution_count": 20,
   "id": "e98f6f71-8311-4472-aacf-536efb923964",
   "metadata": {
    "tags": []
   },
   "outputs": [
    {
     "name": "stdout",
     "output_type": "stream",
     "text": [
      "`963258147 é valido!\n"
     ]
    }
   ],
   "source": [
    "numero = input('Digite seu número de celular: ')\n",
    "\n",
    "def cll(numero):\n",
    "    \n",
    "    if numero.startswith('9') and len(numero) == 9:\n",
    "        return f'`{numero} é valido!'\n",
    "    else:\n",
    "        return f'Esse número de telefone {numero} não existe'\n",
    "    \n",
    "print(cll(numero))\n",
    "\n"
   ]
  },
  {
   "cell_type": "markdown",
   "id": "b17361a0-11ac-4ee3-b466-e60c3db72c9c",
   "metadata": {},
   "source": [
    "---"
   ]
  },
  {
   "cell_type": "markdown",
   "id": "fec04f28-2a2e-4b29-905c-ff7e0ebe0788",
   "metadata": {},
   "source": [
    "### Exercício 08\n",
    "\n",
    "Crie uma função que receba o valor de um salário bruto como parâmetro e em seguida retorne o salário líquido, sendo:\n",
    "\n",
    "* **Vale-Transporte**: Desconto 6% em cima do valor do salário bruto\n",
    "* **INSS**: Desconto 8% em cima do valor do salário bruto\n",
    "* **Adiantamento**: Desconto 30% em cima do valor do salário bruto"
   ]
  },
  {
   "cell_type": "code",
   "execution_count": 25,
   "id": "b79a8531-1a0d-4349-95a3-82ddb3092336",
   "metadata": {
    "tags": []
   },
   "outputs": [
    {
     "name": "stdout",
     "output_type": "stream",
     "text": [
      "2800.0\n"
     ]
    }
   ],
   "source": [
    "salario  = int(input('Digite o salario:'))\n",
    "\n",
    "def bruto(salario):\n",
    "    \n",
    "    vt = salario * 0.06\n",
    "    inss = salario * 0.08\n",
    "    adiantamento = salario * 0.3\n",
    "    liquido = salario - vt - inss - adiantamento \n",
    "    return liquido\n",
    "\n",
    "print(bruto(salario))\n"
   ]
  },
  {
   "cell_type": "markdown",
   "id": "c7323597-b2c4-4022-8f82-75335db792ae",
   "metadata": {},
   "source": [
    "---"
   ]
  },
  {
   "cell_type": "markdown",
   "id": "8cd1d8aa-ee77-4c8b-a2d0-590b7067805c",
   "metadata": {},
   "source": [
    "### Exercício 09\n",
    "\n",
    "Crie uma função que receba o nome de um mês e retorne o nome do mês abreviado e com letras em caixa alta, por exemplo:\n",
    "\n",
    "**Exemplos:**  \n",
    "_Janeiro -> JAN_  \n",
    "_fevereiro -> FEV_  \n",
    "_maRço -> MAR_  \n",
    "_AbriL -> ABR_  "
   ]
  },
  {
   "cell_type": "code",
   "execution_count": 32,
   "id": "16226cda-092e-4a98-9db2-12ddf73e61e2",
   "metadata": {
    "tags": []
   },
   "outputs": [
    {
     "name": "stdout",
     "output_type": "stream",
     "text": [
      "MAR\n"
     ]
    }
   ],
   "source": [
    "mes = input('Digite o mes desejado: ')\n",
    "\n",
    "def meses(mes):\n",
    "    meses = ['janeiro', 'fevereiro', 'março', 'abril', 'maio', 'junho', 'julho', 'agosto', 'setembro', 'outubro', 'novembro', 'dezembro']\n",
    "    imprimir = mes[:3].upper()\n",
    "    return imprimir\n",
    "\n",
    "print(meses(mes))"
   ]
  },
  {
   "cell_type": "markdown",
   "id": "6d3a0b54-742d-41f4-9c7e-0286d9487a4e",
   "metadata": {},
   "source": [
    "---"
   ]
  },
  {
   "cell_type": "markdown",
   "id": "8b7bdc8b-d12b-411f-8575-2ca9bccaedf0",
   "metadata": {},
   "source": [
    "### Exercício 10\n",
    "\n",
    "Crie uma lista contendo no mínimo 3 itens aleatórios, em seguida crie uma função que receba a lista criada como parâmetro e que retorne a quantidade total de caracteres de todos os itens da lista, exemplo:\n",
    "\n",
    "**Entrada:**  \n",
    "_['aaa', 'bbb', 'ccc']_\n",
    "\n",
    "**Saída:**  \n",
    "_9 caracteres_"
   ]
  },
  {
   "cell_type": "code",
   "execution_count": 40,
   "id": "2cb2ada5-1324-4150-98c0-64e2d2382bec",
   "metadata": {
    "tags": []
   },
   "outputs": [
    {
     "name": "stdout",
     "output_type": "stream",
     "text": [
      "Quantidade de caracteres dentro da lista é 21\n"
     ]
    }
   ],
   "source": [
    "aleatoria = ['Thomas', '123456', 'Calabreso']\n",
    "\n",
    "def quantidade(aleatoria):\n",
    "    quant1 = len(aleatoria[-1])\n",
    "    quant2 = len(aleatoria[-2])\n",
    "    quant3 = len(aleatoria[-3])\n",
    "    \n",
    "    quant = quant1 + quant2 + quant3\n",
    "    \n",
    "    return quant\n",
    "\n",
    "print(f'Quantidade de caracteres dentro da lista é {quantidade(aleatoria)}')\n"
   ]
  },
  {
   "cell_type": "markdown",
   "id": "813de299-30ec-4a02-ae2c-e5522192988e",
   "metadata": {},
   "source": [
    "---"
   ]
  },
  {
   "cell_type": "markdown",
   "id": "359fdca0-8af1-4a7c-9975-78879441dd94",
   "metadata": {},
   "source": [
    "### Exercício 11\n",
    "\n",
    "_O etanol vale a pena quando custar até 70% do valor da gasolina._\n",
    "\n",
    "Dado a afirmação acima, crie uma função que receba 2 dois parâmetros, o preço da gasolina e o preço do etanol, e que retorne qual combustível é mais vantajoso."
   ]
  },
  {
   "cell_type": "code",
   "execution_count": 53,
   "id": "1fd7363a-2008-42c3-a691-3d79db77b951",
   "metadata": {},
   "outputs": [
    {
     "name": "stdout",
     "output_type": "stream",
     "text": [
      "A gasolina vale mais a pena\n"
     ]
    }
   ],
   "source": [
    "etanol = float(input('Valor do etanol: '))\n",
    "gasolina = float(input('Valor da gasolina: '))\n",
    "\n",
    "def valor(etanol,gasolina):\n",
    "    if etanol <= 0.7 * gasolina:\n",
    "        return f'O etanol vale mais a pena'\n",
    "    else:\n",
    "        return f'A gasolina vale mais a pena'\n",
    "    \n",
    "print(valor(etanol,gasolina))\n"
   ]
  },
  {
   "cell_type": "markdown",
   "id": "bd662e89-5a3f-48cf-af0f-18495ec4ebc0",
   "metadata": {},
   "source": [
    "---"
   ]
  },
  {
   "cell_type": "markdown",
   "id": "0526ef08-73a8-4356-b079-fce5ab0c24e6",
   "metadata": {},
   "source": [
    "### Exercício 12\n",
    "\n",
    "Faça um algoritmo para contalizar os gastos do usuário, para isso crie uma variável **total** com o valor igual a 0 e em seguida crie um laço while com a condição verdadeira, exemplo:\n",
    "\n",
    "```python\n",
    "while True:\n",
    "```\n",
    "\n",
    "Dentro do laço peça para o usuário digitar um **código** entre 0 a 5, em seguida crie a condição abaixo:\n",
    "\n",
    "| Código | Doces | Preço |\n",
    "|:------:|:-----:|:-----:|\n",
    "| 0 | --- | Break - Sair do loop |\n",
    "| 1 | Brigadeiro | 32.00 |\n",
    "| 2 | Brigadeiro Branco | 33.00 |\n",
    "| 3 | Beijinho | 35.00 |\n",
    "| 4 | Casadinho | 34.00 |\n",
    "| 5 | Napolitano | 36.00 |\n",
    "\n",
    "Cada vez que o usuário digitar um código entre 1 a 5 adicione o valor do **preço** a variável **total**\n",
    "\n",
    "Por fim, imprima o valor da variável **total**"
   ]
  },
  {
   "cell_type": "code",
   "execution_count": 1,
   "id": "885d5feb-2bbd-4b75-a015-3c02d6b5f643",
   "metadata": {},
   "outputs": [
    {
     "name": "stdout",
     "output_type": "stream",
     "text": [
      "Brigadeiro adicionado. Total atual: R$32.00\n",
      "Casadinho adicionado. Total atual: R$66.00\n",
      "Brigadeiro Branco adicionado. Total atual: R$99.00\n",
      "Saindo do loop.\n",
      "Total de gastos: R$99.00\n"
     ]
    }
   ],
   "source": [
    "total = 0\n",
    "\n",
    "while True:\n",
    "    codigo = int(input(\"Digite o código (entre 0 e 5, 0 para sair): \"))\n",
    "\n",
    "    if codigo == 0:\n",
    "        print(\"Saindo do loop.\")\n",
    "        break\n",
    "    elif codigo == 1:\n",
    "        total += 32.00\n",
    "        print(f\"Brigadeiro adicionado. Total atual: R${total:.2f}\")\n",
    "    elif codigo == 2:\n",
    "        total += 33.00\n",
    "        print(f\"Brigadeiro Branco adicionado. Total atual: R${total:.2f}\")\n",
    "    elif codigo == 3:\n",
    "        total += 35.00\n",
    "        print(f\"Beijinho adicionado. Total atual: R${total:.2f}\")\n",
    "    elif codigo == 4:\n",
    "        total += 34.00\n",
    "        print(f\"Casadinho adicionado. Total atual: R${total:.2f}\")\n",
    "    elif codigo == 5:\n",
    "        total += 36.00\n",
    "        print(f\"Napolitano adicionado. Total atual: R${total:.2f}\")\n",
    "    else:\n",
    "        print(\"Código inválido. Tente novamente.\")\n",
    "\n",
    "print(f\"Total de gastos: R${total:.2f}\")\n"
   ]
  },
  {
   "cell_type": "markdown",
   "id": "6758c48f-0e8a-42e5-aef2-ecf9e75e9fa8",
   "metadata": {},
   "source": [
    "---"
   ]
  }
 ],
 "metadata": {
  "kernelspec": {
   "display_name": "Python 3 (ipykernel)",
   "language": "python",
   "name": "python3"
  },
  "language_info": {
   "codemirror_mode": {
    "name": "ipython",
    "version": 3
   },
   "file_extension": ".py",
   "mimetype": "text/x-python",
   "name": "python",
   "nbconvert_exporter": "python",
   "pygments_lexer": "ipython3",
   "version": "3.12.0"
  }
 },
 "nbformat": 4,
 "nbformat_minor": 5
}
