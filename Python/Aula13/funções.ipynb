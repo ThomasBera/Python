{
 "cells": [
  {
   "cell_type": "code",
   "execution_count": 3,
   "metadata": {},
   "outputs": [
    {
     "name": "stdout",
     "output_type": "stream",
     "text": [
      "Bloco de Código\n",
      "Bloco de Código\n",
      "Bloco de Código\n"
     ]
    }
   ],
   "source": [
    "#def nome_da_funcao(): - modo de criar função\n",
    "def nome_da_funcao():\n",
    "    print('Bloco de Código')\n",
    "    \n",
    "nome_da_funcao()\n",
    "nome_da_funcao()\n",
    "nome_da_funcao()"
   ]
  },
  {
   "cell_type": "code",
   "execution_count": 4,
   "metadata": {},
   "outputs": [
    {
     "name": "stdout",
     "output_type": "stream",
     "text": [
      "O Seu nome é José\n"
     ]
    }
   ],
   "source": [
    "def funcao(parametro):\n",
    "    print(f'O Seu nome é {parametro}')\n",
    "funcao ('José')"
   ]
  },
  {
   "cell_type": "code",
   "execution_count": 21,
   "metadata": {},
   "outputs": [
    {
     "name": "stdout",
     "output_type": "stream",
     "text": [
      "O Seu nome é José e você tem 45 anos\n"
     ]
    }
   ],
   "source": [
    "def funcao(nome, idade):\n",
    "    print(f'O Seu nome é {nome} e você tem {idade} anos')\n",
    "funcao ('José', 45)"
   ]
  },
  {
   "cell_type": "code",
   "execution_count": 33,
   "metadata": {},
   "outputs": [
    {
     "name": "stdout",
     "output_type": "stream",
     "text": [
      "None\n"
     ]
    }
   ],
   "source": [
    "#exemplo sem return\n",
    "def maisDois(numero):\n",
    "    numero + 2\n",
    "print(maisDois(3))"
   ]
  },
  {
   "cell_type": "code",
   "execution_count": 34,
   "metadata": {},
   "outputs": [
    {
     "name": "stdout",
     "output_type": "stream",
     "text": [
      "5\n"
     ]
    }
   ],
   "source": [
    "#exemplo com return\n",
    "def maisDois(numero):\n",
    "    soma = numero + 2\n",
    "    return soma\n",
    "print(maisDois(3))"
   ]
  },
  {
   "cell_type": "code",
   "execution_count": 35,
   "metadata": {},
   "outputs": [
    {
     "name": "stdout",
     "output_type": "stream",
     "text": [
      "5\n"
     ]
    }
   ],
   "source": [
    "def maisDois(numero):\n",
    "    return numero + 2\n",
    "print(maisDois(3))"
   ]
  },
  {
   "cell_type": "code",
   "execution_count": 36,
   "metadata": {},
   "outputs": [
    {
     "name": "stdout",
     "output_type": "stream",
     "text": [
      "5\n",
      "2 + 3 = 5\n"
     ]
    }
   ],
   "source": [
    "def soma (a,b):\n",
    "    return a+b\n",
    "\n",
    "n1 = 2\n",
    "n2 = 3\n",
    "\n",
    "print(soma(n1,n2))\n",
    "print(f'{n1} + {n2} = {soma(n1,n2)}')"
   ]
  },
  {
   "cell_type": "code",
   "execution_count": 37,
   "metadata": {},
   "outputs": [
    {
     "name": "stdout",
     "output_type": "stream",
     "text": [
      "O Número 6 é par.\n"
     ]
    }
   ],
   "source": [
    "def parOuImpar(x):\n",
    "    if x % 2 == 0:\n",
    "        return f'O Número {x} é par.'\n",
    "    else:\n",
    "        return f'O Número {x} é ímpar.'\n",
    "print(parOuImpar(6))"
   ]
  },
  {
   "cell_type": "code",
   "execution_count": 38,
   "metadata": {},
   "outputs": [
    {
     "name": "stdout",
     "output_type": "stream",
     "text": [
      "4.0\n"
     ]
    }
   ],
   "source": [
    "def media(x,y):\n",
    "    soma = x + y\n",
    "    media = soma / 2 \n",
    "    return media\n",
    "print(media(3,5))"
   ]
  },
  {
   "cell_type": "code",
   "execution_count": 39,
   "metadata": {},
   "outputs": [
    {
     "name": "stdout",
     "output_type": "stream",
     "text": [
      "8\n"
     ]
    }
   ],
   "source": [
    "def somar(x,y):\n",
    "    return x + y\n",
    "print(somar(y = 5, x = 3))"
   ]
  },
  {
   "cell_type": "code",
   "execution_count": 19,
   "metadata": {},
   "outputs": [
    {
     "name": "stdout",
     "output_type": "stream",
     "text": [
      "O número digitado é 99\n"
     ]
    }
   ],
   "source": [
    "def funcao(n1):\n",
    "    n1 = int(input('Digite um número'))\n",
    "    print(f'O número digitado é {n1}')\n",
    "\n",
    "funcao('')\n"
   ]
  }
 ],
 "metadata": {
  "kernelspec": {
   "display_name": "Python 3",
   "language": "python",
   "name": "python3"
  },
  "language_info": {
   "codemirror_mode": {
    "name": "ipython",
    "version": 3
   },
   "file_extension": ".py",
   "mimetype": "text/x-python",
   "name": "python",
   "nbconvert_exporter": "python",
   "pygments_lexer": "ipython3",
   "version": "3.12.0"
  }
 },
 "nbformat": 4,
 "nbformat_minor": 2
}
