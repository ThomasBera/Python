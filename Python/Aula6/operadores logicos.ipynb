{
 "cells": [
  {
   "cell_type": "code",
   "execution_count": 3,
   "metadata": {},
   "outputs": [
    {
     "name": "stdout",
     "output_type": "stream",
     "text": [
      "Aluno Aprovado\n"
     ]
    }
   ],
   "source": [
    "nota = int(input('Digite a nota do aluno: '))\n",
    "frequencia = int(input('Digite a frequência do aluno: '))\n",
    "\n",
    "if nota >= 5 and frequencia >= 75:\n",
    "  print('Aluno Aprovado')\n",
    "else:\n",
    "  print('Aluno Reprovado')"
   ]
  },
  {
   "cell_type": "code",
   "execution_count": 3,
   "metadata": {},
   "outputs": [
    {
     "name": "stdout",
     "output_type": "stream",
     "text": [
      "Direito a premiação!\n"
     ]
    }
   ],
   "source": [
    "anos = int(input('Digite a quantidade de anos de trabalho: '))\n",
    "desempenho = input('Digite o desempenho do funcionário: ')\n",
    "\n",
    "if anos >= 3 or desempenho.lower() == 'bom':\n",
    "  print('Funcionário tem Direito a premiação!')\n",
    "else:\n",
    "  print('Funcionário Não tem direito a premiação')\n"
   ]
  },
  {
   "cell_type": "code",
   "execution_count": 6,
   "metadata": {},
   "outputs": [
    {
     "name": "stdout",
     "output_type": "stream",
     "text": [
      "Recuperação\n"
     ]
    }
   ],
   "source": [
    "nota = int(input('Digite a nota do aluno: '))\n",
    "\n",
    "if nota >= 7:\n",
    "  print('Aprovado')\n",
    "elif nota >= 5 and nota < 7:\n",
    "  print('Recuperação')\n",
    "else:\n",
    "  print('Reprovado')"
   ]
  }
 ],
 "metadata": {
  "kernelspec": {
   "display_name": "Python 3",
   "language": "python",
   "name": "python3"
  },
  "language_info": {
   "codemirror_mode": {
    "name": "ipython",
    "version": 3
   },
   "file_extension": ".py",
   "mimetype": "text/x-python",
   "name": "python",
   "nbconvert_exporter": "python",
   "pygments_lexer": "ipython3",
   "version": "3.12.0"
  }
 },
 "nbformat": 4,
 "nbformat_minor": 2
}
