{
 "cells": [
  {
   "cell_type": "markdown",
   "id": "683567dd-3c83-4c12-baa9-fbf1cddba90e",
   "metadata": {},
   "source": [
    "# <font color='OrangeRed'><center>Extra - Operadores Lógicos</center></font>"
   ]
  },
  {
   "cell_type": "markdown",
   "id": "96eebbd7-ea7b-48aa-9989-2641cb2be11e",
   "metadata": {},
   "source": [
    "### Exercício 01\n",
    "\n",
    "Faça um programa que peça para o usuário digitar uma nota de 0 a 10, em seguida converta a 'Nota' inforamada pelo 'Conceito', caso o número informado seja diferente de 0 a 10 retorne 'Nota inválida.'\n",
    "\n",
    "| Nota | Conceito |\n",
    "|:----:|:--------:|\n",
    "| Entre 9.0 e 10.0 | A |\n",
    "| Entre 7.5 e 8.9 | B |\n",
    "| Entre 6.0 e 7.4 | C |\n",
    "| Entre 4.0 e 5.9 | D |\n",
    "| Entre 0.0 e 3.9 | E |"
   ]
  },
  {
   "cell_type": "code",
   "execution_count": 9,
   "id": "514618da-b2f1-4d8a-a3e3-a7a977efc0d4",
   "metadata": {},
   "outputs": [
    {
     "name": "stdout",
     "output_type": "stream",
     "text": [
      "Nota C\n"
     ]
    }
   ],
   "source": [
    "nt = float(input('Digite a nota de 0 a 10: '))\n",
    "\n",
    "\n",
    "if nt >= 9.0 and nt <= 10.0:\n",
    "  print('Nota A')\n",
    "elif nt >= 7.5 and nt <= 8.9:\n",
    "  print('Nota B')\n",
    "elif nt >= 6.0 and nt <= 7.4:\n",
    "  print('Nota C')\n",
    "elif nt >= 4.0 and nt <= 5.9:\n",
    "  print('Nota D')\n",
    "else:\n",
    "    print('Nota E')\n",
    "\n",
    "\n"
   ]
  },
  {
   "cell_type": "markdown",
   "id": "d3ec49c8-ec26-421f-8294-1255e57cf3a4",
   "metadata": {},
   "source": [
    "---"
   ]
  },
  {
   "cell_type": "markdown",
   "id": "70635a94-8ff1-4e2b-a07c-415c94f1ef33",
   "metadata": {
    "tags": []
   },
   "source": [
    "### Exercício 02\n",
    "\n",
    "Escreva um programa que receba a idade de um nadador e em seguida classifique-o em uma das\n",
    "seguintes categorias:\n",
    "\n",
    "|Categoria | Idade |\n",
    "|:--------:|:-----:|\n",
    "| Infantil A | 5 a 7 |\n",
    "| Infantil B | 8 a 10 |\n",
    "| Juvenil A | 11 a 13 |\n",
    "| Juvenil B | 14 a 17 |\n",
    "| Sênior | Maiores de 18 anos |\n",
    "\n",
    "Caso o nadador tenha a idade abaixo de 5 anos retorne 'Sua inscrição não permitida.'"
   ]
  },
  {
   "cell_type": "code",
   "execution_count": 8,
   "id": "8d215ee5-032e-4fab-8e3f-1843ad8d985a",
   "metadata": {},
   "outputs": [
    {
     "name": "stdout",
     "output_type": "stream",
     "text": [
      "Juvenil A\n"
     ]
    }
   ],
   "source": [
    "\n",
    "idade = float(input('Digite a idade do nadador: '))\n",
    "\n",
    "\n",
    "if idade >= 5.0 and idade <= 7.0:\n",
    "  print('Juvenil A')\n",
    "elif idade >= 8.0 and idade <= 10.0:\n",
    "  print('Juvenil B')\n",
    "elif idade >= 11.0 and idade <= 13.0:\n",
    "  print('Juvenil A')\n",
    "elif idade >= 14.0 and idade <= 17.0:\n",
    "  print('Juvenil B')\n",
    "else:\n",
    "    print('Senior')\n"
   ]
  },
  {
   "cell_type": "markdown",
   "id": "c89d673c-7815-472c-8d5f-605fcde25194",
   "metadata": {},
   "source": [
    "---"
   ]
  },
  {
   "cell_type": "markdown",
   "id": "dd0a1b3c-a852-418d-88d5-507c33162996",
   "metadata": {},
   "source": [
    "### Exercício 03\n",
    "\n",
    "Faça um programa que peça para o usuário digitar o salário dele, em seguida retorne o valor de\n",
    "imposto de renda que será deduzido da folha de pagamento.\n",
    "\n",
    "| Salário | Imposto de Renda |\n",
    "|:-------:|:----------------:|\n",
    "| Até 2112.00  | 0.00 |\n",
    "| De 2112.01 até 2826.66 | 158.40 |\n",
    "| De 2826.67 até 3751.06 | 370.40 |\n",
    "| De 3751.07 até 4664.68 | 651.73 |\n",
    "| Acima de 4664.68 | 884.96 |"
   ]
  },
  {
   "cell_type": "code",
   "execution_count": 15,
   "id": "bc5ffd38-da7a-405a-a7b2-ba41110452f0",
   "metadata": {},
   "outputs": [
    {
     "name": "stdout",
     "output_type": "stream",
     "text": [
      "Imposto de renda R$884.96\n"
     ]
    }
   ],
   "source": [
    "\n",
    "salario = float(input('Digite o valor salario: '))\n",
    "\n",
    "\n",
    "if salario <= 2112.0:\n",
    "  print('Imposto de renda -> R$0.00')\n",
    "elif salario >= 2112.01 and salario <= 2826.66:\n",
    "  print('Imposto de renda R$158.40')\n",
    "elif salario >= 2826.67 and salario <= 3751.06:\n",
    "  print('Imposto de renda R$370.40')\n",
    "elif salario >= 3751.07 and salario <= 4664.68:\n",
    "  print('Imposto de renda R$651.73')\n",
    "else:\n",
    "    print('Imposto de renda R$884.96')\n"
   ]
  },
  {
   "cell_type": "markdown",
   "id": "64f61146-947c-490a-9c6f-21871791ec43",
   "metadata": {
    "tags": []
   },
   "source": [
    "---"
   ]
  },
  {
   "cell_type": "markdown",
   "id": "1f7b129c-2a59-41f4-88e6-57f0aeff8802",
   "metadata": {},
   "source": [
    "### Exercício 04\n",
    "\n",
    "Faça um programa que pergunte ao usuário quantos milímetros de água choveu em um determiando dia e em seguida retorne em qual classificação de intensidade se enquadra:\n",
    "\n",
    "\n",
    "| Intensidade | Milímetros |\n",
    "|:-----------:|:----------:|\n",
    "| Chuva fraca | entre 0.1 e 5.0 mm/h |\n",
    "| Chuva moderada | entre 5.1 e 25.0 mm/h |\n",
    "| Chuva forte | entre 25.1 e 50.0 mm/h |\n",
    "| Chuva muito forte | acima de 50.0 mm/h |"
   ]
  },
  {
   "cell_type": "code",
   "execution_count": 19,
   "id": "8aa93ad9-cb13-4948-9d08-a56e327a3fb7",
   "metadata": {},
   "outputs": [
    {
     "name": "stdout",
     "output_type": "stream",
     "text": [
      "Chuva Muito Forte\n"
     ]
    }
   ],
   "source": [
    "mll = float(input('Digite o valor em milimetros de agua que choveu: '))\n",
    "\n",
    "if mll >= 0.1 and mll <= 5.0:\n",
    "  print('Chuva Fraca')\n",
    "elif mll >= 5.1 and mll <= 25.0:\n",
    "  print('Chuva Moderada')\n",
    "elif mll >= 25.1 and mll <= 50.0:\n",
    "  print('Chuva Forte')\n",
    "else:\n",
    "    print('Chuva Muito Forte')"
   ]
  },
  {
   "cell_type": "markdown",
   "id": "289e2480-fa28-452c-94ad-26243a09d1ce",
   "metadata": {},
   "source": [
    "---"
   ]
  },
  {
   "cell_type": "markdown",
   "id": "55baee73-ce6f-45c5-93ec-bc82fa01c9aa",
   "metadata": {},
   "source": [
    "### Exercício 05\n",
    "\n",
    "Faça um programa que pergunte ao usuário o peso cachorro dele em quilos e em seguida retorne em qual porte ele se classifica:\n",
    "\n",
    "\n",
    "| Porte | Quilos |\n",
    "|:-----:|:------:|\n",
    "| Mini | Até 6.00 quilos |\n",
    "| Pequeno | de 6.01 e 15.00 quilos |\n",
    "| Médio | de 15.01 a 25.00 quilos |\n",
    "| Grande | de 25.01 a 45.00 quilos |\n",
    "| Gigante | acima de 45.00 quilos |"
   ]
  },
  {
   "cell_type": "code",
   "execution_count": 23,
   "id": "f9a1c3bf-4530-42bc-a6e2-ed7edbf43ccd",
   "metadata": {},
   "outputs": [
    {
     "name": "stdout",
     "output_type": "stream",
     "text": [
      "Gigante\n"
     ]
    }
   ],
   "source": [
    "\n",
    "\n",
    "peso = float(input('Digite o peso do seu pet: '))\n",
    "\n",
    "\n",
    "if peso <= 6.0:\n",
    "  print('Mini')\n",
    "elif peso >= 6.1 and peso <= 15.0:\n",
    "  print('Pequeno')\n",
    "elif peso >= 15.1 and peso <= 25.0:\n",
    "  print('Médio')\n",
    "elif peso >= 25.1 and peso <= 45.0:\n",
    "  print('Grande')\n",
    "else:\n",
    "    print('Gigante')\n"
   ]
  },
  {
   "cell_type": "markdown",
   "id": "8b8bec40-1dda-4ee9-afb3-06211a46cee6",
   "metadata": {},
   "source": [
    "---"
   ]
  },
  {
   "cell_type": "markdown",
   "id": "a7dc5287-53ae-433c-a476-fb23a423358a",
   "metadata": {},
   "source": [
    "### Exercício 06\n",
    "\n",
    "Faça as 3 perguntas abaixo para o usuário, sendo uma de cada vez, e peça para que ele responda 'sim' ou 'não': \n",
    "\n",
    "- Caso as 3 respostas sejam iguais a 'sim' retorne 'Você pode se inscrever para o curso: Programação em Python' \n",
    "- Senão retorne 'Você não pode se inscrever para o curso: Programação em Python'\n",
    "\n",
    "**Perguntas:**\n",
    "1. Você possui 16 anos de idade ou mais?\n",
    "1. Você concluiu o Nível Fundamental?\n",
    "1. Você possui conhecimentos em Informática Básica?"
   ]
  },
  {
   "cell_type": "code",
   "execution_count": 26,
   "id": "4cba1d5a-7e4c-4883-90c8-11a36aabdcda",
   "metadata": {},
   "outputs": [
    {
     "name": "stdout",
     "output_type": "stream",
     "text": [
      "Você não pode se inscrever para o curso: Programação em Python\n"
     ]
    }
   ],
   "source": [
    "p1 = input('Você possui 16 anos de idade ou mais?')\n",
    "p2 = input('Você concluiu o Nível Fundamental?')\n",
    "p3 = input('Você possui conhecimentos em Informática Básica?')\n",
    "\n",
    "if p1.lower() == 'sim' and p2.lower() == 'sim' and p3.lower() == 'sim':\n",
    "  print('Você pode se inscrever para o curso: Programação em Python')\n",
    "else:\n",
    "  print('Você não pode se inscrever para o curso: Programação em Python')\n",
    "\n"
   ]
  },
  {
   "cell_type": "markdown",
   "id": "5de11c75-de69-43e9-8a8d-dd041b23445c",
   "metadata": {},
   "source": [
    "---"
   ]
  },
  {
   "cell_type": "markdown",
   "id": "e899cd76-f9d1-4de8-b09d-c9b74f403073",
   "metadata": {},
   "source": [
    "### Exercício 07\n",
    "\n",
    "De acordo com o Código de Trânsito Brasileiro, a velocidade mínima não poderá ser inferior à metade da velocidade máxima estabelecida, dito isto, faça um programa que solicite a velocidade de um carro e crie seguinte condinção:\n",
    "\n",
    "- Se a velocidade for maior ou igual a 150 Km/H retorne 'Velocidade muito acima do permitido'\n",
    "- Se a velocidade for entre 120 a 149 Km/H retorne 'Velocidade acima do permitido'\n",
    "- Se a velocidade for entre 60 a 119 Km/H retorne 'Velocidade dentro do permitido'\n",
    "- Se a velocidade for abaixo de 60 Km/H retorne 'Velocidade abaixo do permitido'"
   ]
  },
  {
   "cell_type": "code",
   "execution_count": 36,
   "id": "61f673dc-284b-4286-9823-d974ba75f7e9",
   "metadata": {},
   "outputs": [
    {
     "name": "stdout",
     "output_type": "stream",
     "text": [
      "Velocidade dentro do permitido\n"
     ]
    }
   ],
   "source": [
    "velo = int(input('Qual a velocidade do veiculo? KM/H'))\n",
    "\n",
    "if velo >= 150:\n",
    "  print('Velocidade muito acima do permitido!')\n",
    "elif velo >= 120 and velo <= 149:\n",
    "  print('Velocidade acima do permitido')\n",
    "elif velo >= 60 and velo <= 119:\n",
    "  print('Velocidade dentro do permitido')\n",
    "else:\n",
    "  print('Velocidade abaixo do permitido')"
   ]
  },
  {
   "cell_type": "markdown",
   "id": "178d4be5-0fb3-4ddf-a478-54e2bdc6c12b",
   "metadata": {},
   "source": [
    "---"
   ]
  },
  {
   "cell_type": "markdown",
   "id": "8544bce6-cac0-4256-9c2b-3cdb94cdac54",
   "metadata": {},
   "source": [
    "### Exercício 08\n",
    "\n",
    "Escreva um programa para ler 3 valores inteiros e retorne o maior deles.  \n",
    "Considere que o usuário não informará valores iguais."
   ]
  },
  {
   "cell_type": "code",
   "execution_count": 62,
   "id": "d0e74570-e26d-4bf2-9594-eb059a2527d2",
   "metadata": {},
   "outputs": [
    {
     "name": "stdout",
     "output_type": "stream",
     "text": [
      "O maior é o 12\n"
     ]
    }
   ],
   "source": [
    "n1 = int(input('Digite um valor: '))\n",
    "n2 = int(input('Digite outro valor: '))\n",
    "n3 = int(input('Digite outro valor: '))\n",
    "\n",
    "if n1>n2 and n1>n3:\n",
    "  print(f'O maior é o {n1}')\n",
    "elif n2>n1 and n2>n3:\n",
    "  print(f'O maior é o {n2}')\n",
    "elif n3>n1 and n3>n2:\n",
    "  print(f'O maior é o {n3}')\n",
    "elif n1 != n2 != n3:\n",
    "  print('Valores iguais foram digitados')\n",
    "\n",
    "\n"
   ]
  },
  {
   "cell_type": "markdown",
   "id": "4f0237dc-2222-4093-899a-420f7640a9c2",
   "metadata": {},
   "source": [
    "---"
   ]
  },
  {
   "cell_type": "markdown",
   "id": "775874df-0f03-4c2d-ae95-885d1781fe60",
   "metadata": {},
   "source": [
    "### Exercício 09\n",
    "\n",
    "Faça um programa que solicite um número inteiro ao usuário, em seguida crie a seguinte condição:\n",
    "    \n",
    "- Se o número digitado for divisível por 2 e por 3 retorne 'Número divisível por 2 e por 3.'\n",
    "- Se o número digitado for divisível apenas por 2 retorne 'Número divisível por 2.'\n",
    "- Se o número digitado for divisível apenas por 3 retorne 'Número divisível por 3.'\n",
    "- Senão retorne 'Número não é divisível por 2 ou por 3'\n",
    "\n",
    "**Dicas:**  \n",
    "_Um número é considerado divisível por outro quando o resto da divisão é igual a zero._\n",
    "\n",
    "**_Formúla:_**  \n",
    "_% (Módulo ou resto de divisão)_  \n",
    "<img style=\"height:120px\" src=https://www.estudamos.com.br/divisao/elementos-da-divisao.jpg>"
   ]
  },
  {
   "cell_type": "code",
   "execution_count": 44,
   "id": "b6a02be4-0e67-491e-96e4-dd4441fee2bb",
   "metadata": {},
   "outputs": [
    {
     "name": "stdout",
     "output_type": "stream",
     "text": [
      "Número não é divisível por 2 ou por 3\n"
     ]
    }
   ],
   "source": [
    "n1 = int(input('Digite um valor: '))\n",
    "\n",
    "if n1 % 2 == 0 and n1 % 3 == 0:\n",
    "  print('Número divisível por 2 e por 3')\n",
    "elif n1 % 2 == 0:\n",
    "  print('Número divisível por 2')\n",
    "elif n1 % 3 == 0:\n",
    "  print('Número divisível por 3')\n",
    "else:\n",
    "  print('Número não é divisível por 2 ou por 3')"
   ]
  },
  {
   "cell_type": "markdown",
   "id": "8f8e88e2-4bf2-49e8-a856-cefc4d63241d",
   "metadata": {},
   "source": [
    "---"
   ]
  },
  {
   "cell_type": "markdown",
   "id": "52f40caa-775e-44b3-bffa-dbcd714927fa",
   "metadata": {},
   "source": [
    "### Exercício 10\n",
    "\n",
    "Escreva um programa que pergunte a altura e o peso do usuário e em seguida calcule o IMC (Índice de Massa Corpória), após obter o IMC retorne a classificação do usuário:\n",
    "\n",
    "| IMC | Classificação |\n",
    "|:---:|:-------------:|\n",
    "| Abaixo de 17 | Muito abaixo do peso |\n",
    "| Entre 17 e 18.49 | Abaixo do peso |\n",
    "| Entre 18.5 e 24.99 | Peso normal |\n",
    "| Entre 25 e 29.99 | Um pouco acima do peso |\n",
    "| Entre 30 e 34.99 | Obeso |\n",
    "| A partir de 35 | Obesidade severa |\n",
    "\n",
    "**Formúla:**  \n",
    "_IMC = Peso / (Altura*Altura)_"
   ]
  },
  {
   "cell_type": "code",
   "execution_count": 54,
   "id": "80375e70-42c7-442c-9551-8d91c8de92d4",
   "metadata": {},
   "outputs": [
    {
     "name": "stdout",
     "output_type": "stream",
     "text": [
      "22.5\n",
      "Peso normal\n"
     ]
    }
   ],
   "source": [
    "peso = float(input('Digite o seu peso: '))\n",
    "altura = float(input('Digite a sua altura: '))\n",
    "imc = peso / (altura * altura)\n",
    "print(imc)\n",
    "if imc <= 17.0:\n",
    "  print('Muito abaixo do peso')\n",
    "elif imc >= 17.0 and imc <= 18.49:\n",
    "  print('Abaixo do peso')\n",
    "elif imc >= 18.5 and imc <= 24.99:\n",
    "  print('Peso normal')\n",
    "elif imc >= 25.0 and imc <= 29.99:\n",
    "  print('Um pouco acima do peso')\n",
    "elif imc >= 30.0 and imc <= 34.99:\n",
    "  print('Obeso')\n",
    "elif imc >= 35.0:\n",
    "    print('Obesidade severa')\n",
    "else:\n",
    "  print('Sair')"
   ]
  },
  {
   "cell_type": "markdown",
   "id": "cc31fa46-25f3-4c43-9623-3f5e756fdf69",
   "metadata": {
    "tags": []
   },
   "source": [
    "---"
   ]
  },
  {
   "cell_type": "markdown",
   "id": "d7385eae-98dd-4d99-a36c-8c22ce5a4c46",
   "metadata": {},
   "source": [
    "### Exercício 11\n",
    "\n",
    "Desenvolva um programa que pergunte a idade do usuário e se ele tem carteira de estudante, peça que responda com 'S' se ele tiver e 'N' se não tiver, em seguida crie a condição abaixo:\n",
    "\n",
    "* Se a idade do usuário foi maior ou igual a 18 anos **E** se ele tiver a carteira de estudante, retorne 'Meia-entrada'\n",
    "* Se a idade do usuário foi maior ou igual a 18 anos **E** se ele não tiver a carteira de estudante, retorne 'Inteira'\n",
    "* Para os demais casos retorne 'Venda não permitida'"
   ]
  },
  {
   "cell_type": "code",
   "execution_count": 67,
   "id": "b7d4b178-4528-4d55-8eea-81bd3df1a72e",
   "metadata": {
    "tags": []
   },
   "outputs": [
    {
     "name": "stdout",
     "output_type": "stream",
     "text": [
      "Inteira\n"
     ]
    }
   ],
   "source": [
    "idade = int(input('Digite sua idade: '))\n",
    "std = input('Você tem carteira de estudante? (S) Sim - (N) Não')\n",
    "\n",
    "if idade >= 18 and std.lower() == 's':\n",
    "  print('Meia-Entrada')\n",
    "elif idade >= 18 and std.lower() == 'n':\n",
    "  print('Inteira')\n",
    "else:\n",
    "  print('Venda não permitida')\n"
   ]
  },
  {
   "cell_type": "markdown",
   "id": "dadc3641-dc2f-4b72-9d02-9ad016f2b2a6",
   "metadata": {},
   "source": [
    "---"
   ]
  }
 ],
 "metadata": {
  "kernelspec": {
   "display_name": "Python 3 (ipykernel)",
   "language": "python",
   "name": "python3"
  },
  "language_info": {
   "codemirror_mode": {
    "name": "ipython",
    "version": 3
   },
   "file_extension": ".py",
   "mimetype": "text/x-python",
   "name": "python",
   "nbconvert_exporter": "python",
   "pygments_lexer": "ipython3",
   "version": "3.12.0"
  }
 },
 "nbformat": 4,
 "nbformat_minor": 5
}
