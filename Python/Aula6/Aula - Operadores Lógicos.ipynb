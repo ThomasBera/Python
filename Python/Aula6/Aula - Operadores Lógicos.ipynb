{
 "cells": [
  {
   "cell_type": "markdown",
   "id": "683567dd-3c83-4c12-baa9-fbf1cddba90e",
   "metadata": {},
   "source": [
    "# <font color='OrangeRed'><center>Exercícios - Operadores Lógicos</center></font>"
   ]
  },
  {
   "cell_type": "markdown",
   "id": "7b586856-e799-434f-88de-d04a0ece332a",
   "metadata": {},
   "source": [
    "### Exercício 01\n",
    "\n",
    "Pessoas maiores de 18 **E** menores de 70 anos são obrigadas a votar.  \n",
    "Escreva um programa que pergunte a idade do usuário e retorne se ele é obrigado a votar ou não."
   ]
  },
  {
   "cell_type": "code",
   "execution_count": 1,
   "id": "8ac758ea-e6b3-4f13-bb2d-a32e033f26f0",
   "metadata": {},
   "outputs": [
    {
     "name": "stdout",
     "output_type": "stream",
     "text": [
      "Não são obrigados a votar\n"
     ]
    }
   ],
   "source": [
    "idade = int(input('Qual sua idade? '))\n",
    "\n",
    "if idade >= 18 and idade < 70:\n",
    "  print('São obrigados as votar')\n",
    "else:\n",
    "  print('Não são obrigados a votar')\n",
    "\n"
   ]
  },
  {
   "cell_type": "markdown",
   "id": "d1c26a28-4a22-4cd5-b408-74b9cdbff276",
   "metadata": {},
   "source": [
    "---"
   ]
  },
  {
   "cell_type": "markdown",
   "id": "52e30b41-9dcd-4fd1-b03a-a561bb5ae4e6",
   "metadata": {},
   "source": [
    "### Exercício 02\n",
    "\n",
    "Faça um programa que peça para o usuário digitar uma única letra, usando if e else, retorne se a letra digitada é uma vogal ou consoante. \n",
    "Utilize o operador **OU** na sua validação."
   ]
  },
  {
   "cell_type": "code",
   "execution_count": 9,
   "id": "7ae3aa4e-33a9-4357-9a5a-42a7605818bf",
   "metadata": {},
   "outputs": [
    {
     "name": "stdout",
     "output_type": "stream",
     "text": [
      "a é um vogal\n"
     ]
    }
   ],
   "source": [
    "letra = input('Digite uma letra: ')\n",
    "\n",
    "if letra.lower() == 'a' or letra == 'e' or letra == 'i' or letra == 'o' or letra == 'u':\n",
    "  print(f'{letra} é um vogal')\n",
    "else:\n",
    "  print(f'{letra} é uma consoante')\n",
    "\n"
   ]
  },
  {
   "cell_type": "markdown",
   "id": "8362e6c9-06ff-4c3e-ae3c-abdd703d9073",
   "metadata": {},
   "source": [
    "---"
   ]
  },
  {
   "cell_type": "markdown",
   "id": "4a280435-81a3-4171-9a29-3fac2c9f2b19",
   "metadata": {},
   "source": [
    "### Exercício 03\n",
    "\n",
    "Faça um programa que peça para o usuário digitar a letra 'h' se ele for Homem e a letra 'm' se ela for Mulher, em seguida pergunte a idade dele ou dela, por fim, crie a seguinte condição:\n",
    "\n",
    "- Se o usuário for homem **E** tiver idade maior ou igual a 65 anos retorne 'Você pode se aposentar.'\n",
    "- Se o usuário for mulher **E** tiver idade maior ou igual a 62 anos retorne 'Você pode se aposentar.'\n",
    "- Caso o contrário retorne 'Você ainda precisa trabalhar.'"
   ]
  },
  {
   "cell_type": "code",
   "execution_count": 2,
   "id": "26b7e444-4e7f-4b2c-9832-b5f1b53b6e94",
   "metadata": {},
   "outputs": [
    {
     "name": "stdout",
     "output_type": "stream",
     "text": [
      "Você pode se aposentar\n"
     ]
    }
   ],
   "source": [
    "sexo = input('Digite a letra H se for Homem, Digite a letra M se for Mulher: ')\n",
    "idade = int(input('Digite sua idade: '))\n",
    "\n",
    "if sexo.lower() == 'h' and idade >= 65:\n",
    "  print('Você pode se aposentar') \n",
    "elif sexo.lower() == 'm' and idade >= 62:\n",
    "  print('Você pode se aposentar')\n",
    "else:\n",
    "  print('Você ainda precisar trabalhar')\n",
    "  \n"
   ]
  },
  {
   "cell_type": "markdown",
   "id": "d0c34efa-e627-4f15-97d5-28917321be00",
   "metadata": {},
   "source": [
    "---"
   ]
  },
  {
   "cell_type": "markdown",
   "id": "071f07c4-c707-4ad7-a1e9-b14b6dee0345",
   "metadata": {},
   "source": [
    "### Exercício 04\n",
    "\n",
    "Para o usuário ter acesso a fila de prioridade, ele deve ser idoso **OU** gestante **OU** cadeirante.  \n",
    "Escreva um programa que peça ao usuário que digite algum número das opções abaixo:\n",
    "\n",
    "1. Idoso\n",
    "1. Gestante\n",
    "1. Cadeirante\n",
    "1. Nenhum destes\n",
    "\n",
    "- Caso o usuário digite 1, 2 ou 3 imprima 'Você tem direito a fila prioritária.'\n",
    "- Senão retorne 'Você não tem direito a fila prioritária.'"
   ]
  },
  {
   "cell_type": "code",
   "execution_count": 25,
   "id": "d940b87a-7f91-48be-81c9-b77d9d606838",
   "metadata": {},
   "outputs": [
    {
     "name": "stdout",
     "output_type": "stream",
     "text": [
      "codigo inválido\n"
     ]
    }
   ],
   "source": [
    "opc = int(input('''Digite 1 - Idoso \n",
    "                   Digite 2 - Gestante\n",
    "                   Digite 3 - Cadeirante\n",
    "                   Digite 4 - Nenhum destes'''))\n",
    "if opc == 1 or opc == 2 or opc == 3:\n",
    "  print('Você tem prioridade na fila :)')\n",
    "elif opc == 4:\n",
    "  print('Voce não tem prioridade da fila ')\n",
    "else:\n",
    "  print('codigo inválido')"
   ]
  },
  {
   "cell_type": "markdown",
   "id": "13a30d1a-08d4-44a1-9ed8-2bf2e310db37",
   "metadata": {},
   "source": [
    "---"
   ]
  },
  {
   "cell_type": "markdown",
   "id": "a521836a-d291-49ee-b613-08e1aace528f",
   "metadata": {},
   "source": [
    "### Exercício 05\n",
    "\n",
    "Escreva um programa que peça o valor total da compra, em seguida pergunte se o usuário possui o cartão da loja, a resposta dever ser apenas 'sim' ou 'não'. Por fim, crie a seguinte condição:  \n",
    "\n",
    "- Se o valor total da compra for maior ou igual R$ 100.00 **E** se o usuário possuir o cartão da loja conceda 5% de desconto.\n",
    "- Senão cobre o valor integral da compra.\n",
    "    \n",
    "**Dica:**  \n",
    "_5% equivale 0.05_"
   ]
  },
  {
   "cell_type": "code",
   "execution_count": 30,
   "id": "ce64ae63-da6a-4300-a05c-a9d9bfbfb780",
   "metadata": {},
   "outputs": [
    {
     "name": "stdout",
     "output_type": "stream",
     "text": [
      "Pague o valor de: 100.0\n"
     ]
    }
   ],
   "source": [
    "total = float(input(f'Valor total da compra: R$ '))\n",
    "card = input('Você possui o cartão da loja? Sim ou Não?')\n",
    "\n",
    "if total >= 100.0 and card.lower() == 'sim':\n",
    "  desc = 0.05\n",
    "  print(f'Total da compra {total}, com 5% de desconto fica {total - total * desc}')\n",
    "else:\n",
    "  print(f'Pague o valor de: {total}')"
   ]
  },
  {
   "cell_type": "markdown",
   "id": "cb1cb9a2-7f0e-47e3-a64c-ea3d49a05474",
   "metadata": {},
   "source": [
    "---"
   ]
  },
  {
   "cell_type": "markdown",
   "id": "3af568c6-1e90-4fec-8a3d-7397a8f608b0",
   "metadata": {},
   "source": [
    "### Exercício 06\n",
    "\n",
    "Faça um programa que solicite ao usuário que insira o login e senha, em seguida crie a seguinte condição:\n",
    "\n",
    "- Se o login for igual a 'admin' e a senha igual a '123456' retorne 'SEJA BEM-VINDO ADMIN!'\n",
    "- Senão retorne 'LOGIN OU SENHA INCORRETOS'"
   ]
  },
  {
   "cell_type": "code",
   "execution_count": 34,
   "id": "72a1b517-94ff-4fef-a0b6-90577ef4c2a0",
   "metadata": {},
   "outputs": [
    {
     "name": "stdout",
     "output_type": "stream",
     "text": [
      "LOGIN OU SENHA INCORRETOS\n"
     ]
    }
   ],
   "source": [
    "log = input('Digite seu login: ')\n",
    "password = input('Digite sua senha: ')\n",
    "\n",
    "if log.lower() == 'admin' and password == '123456':\n",
    "  print('SEJA BEM-VINDO ADMIN!')\n",
    "else:\n",
    "  print('LOGIN OU SENHA INCORRETOS')\n",
    "\n"
   ]
  },
  {
   "cell_type": "markdown",
   "id": "8ceaf957-6c24-4e34-b840-cd0f3449fdf9",
   "metadata": {},
   "source": [
    "---"
   ]
  },
  {
   "cell_type": "markdown",
   "id": "6e6031bc-a621-4aab-a017-38e8af8faf9b",
   "metadata": {},
   "source": [
    "### Exercício 07\n",
    "\n",
    "Crie um programa que peça um número ao usuário e em seguida verifique se é um número positivo, ou seja, acima de 'zero' **E** se é um número par.\n",
    "\n",
    "* Se o número for acima de zero **E** se for um número par retorne 'É um número positivo e par.'\n",
    "* Senão retorne 'O número não satisfaz as condições de ser positivo e par.'\n",
    "\n",
    "\n",
    "**Dicas:**  \n",
    "_Todo número divisível por 2 é par!_\n",
    "\n",
    "**_Formúla:_**<br>\n",
    "_% (Módulo ou resto de divisão)_  \n",
    "<img style=\"height:120px\" src=https://www.estudamos.com.br/divisao/elementos-da-divisao.jpg>"
   ]
  },
  {
   "cell_type": "code",
   "execution_count": 37,
   "id": "6aff53ae-bdfc-4d3f-a210-049d03279588",
   "metadata": {},
   "outputs": [
    {
     "name": "stdout",
     "output_type": "stream",
     "text": [
      "O numero nao satifaz as condições de ser positivo e par\n"
     ]
    }
   ],
   "source": [
    "n1 = float(input('Digite um numero: '))\n",
    "\n",
    "if n1 > 0 and n1 % 2 == 0:\n",
    "  print(f'{n1} é um numero positivo e par')\n",
    "else:\n",
    "  print('O numero nao satifaz as condições de ser positivo e par')\n",
    "\n"
   ]
  },
  {
   "cell_type": "markdown",
   "id": "48fabd11-1d7e-4718-8df2-a46f07e6fa64",
   "metadata": {},
   "source": [
    "---"
   ]
  },
  {
   "cell_type": "markdown",
   "id": "1c667c6e-077a-439b-9cd6-28c5b89891fb",
   "metadata": {},
   "source": [
    "### Exercício 08\n",
    "\n",
    "Crie um programa que pergunte a nota e no número de faltas de um aluno para determinar se um estudante é aprovado em uma disciplina, sendo:\n",
    "\n",
    "* Se a nota do aluno for maior ou igual a 60 **E** se o número de faltas for menor ou igual a 5 então retorne 'Estudante aprovado'.\n",
    "* Senão retorne 'Estudante reprovado'."
   ]
  },
  {
   "cell_type": "code",
   "execution_count": 40,
   "id": "ccdd189d-3251-4f31-809f-71deca7b28bb",
   "metadata": {},
   "outputs": [
    {
     "name": "stdout",
     "output_type": "stream",
     "text": [
      "Estudante Reprovado!\n"
     ]
    }
   ],
   "source": [
    "nota = float(input('Digite a nota do aluno: '))\n",
    "faltas = int(input('Digite as faltas do aluno: '))\n",
    "\n",
    "if nota >= 60 and faltas <= 5:\n",
    "  print('Estudante Aprovado!')\n",
    "else:\n",
    "  print('Estudante Reprovado!')\n",
    "\n"
   ]
  },
  {
   "cell_type": "markdown",
   "id": "ac4b685a-3617-4846-a987-0e2444a9af3d",
   "metadata": {},
   "source": [
    "---"
   ]
  },
  {
   "cell_type": "markdown",
   "id": "8d5f92d2-c084-482c-b2fe-4d7f0cf8d36b",
   "metadata": {},
   "source": [
    "### Exercício 09\n",
    "\n",
    "Crie um programa que pergunte qual o preço de um produto e em seguida retorne em qual categoria o produto se classifica com base no preço, sendo:\n",
    "\n",
    "| Preço | Classificação |\n",
    "|:-----:|:-------------:|\n",
    "| Abaixo de 50.00 | Econômico |\n",
    "| Entre 50.00 e 99.99 | Normal |\n",
    "| Entre 100.00 e 149.99 | Premium |\n",
    "| A partir de 150.00 | Luxo |"
   ]
  },
  {
   "cell_type": "code",
   "execution_count": 44,
   "id": "4b58f667-994f-4370-a360-a661c07c9f55",
   "metadata": {},
   "outputs": [
    {
     "name": "stdout",
     "output_type": "stream",
     "text": [
      "Luxo\n"
     ]
    }
   ],
   "source": [
    "prod = float(input('Qual o valor do produto: '))\n",
    "\n",
    "if prod <= 50.0:\n",
    "  print('Economico')\n",
    "elif prod >= 50.0 and prod <= 99.9:\n",
    "  print('Normal')\n",
    "elif prod >= 100 and prod <= 149.9:\n",
    "  print('Premium')\n",
    "else:\n",
    "  print('Luxo')\n"
   ]
  },
  {
   "cell_type": "markdown",
   "id": "c4ffa320-b11a-4ff7-a7d8-76aabcfb3611",
   "metadata": {},
   "source": [
    "---"
   ]
  },
  {
   "cell_type": "markdown",
   "id": "6807fd97-31c9-44b8-85cc-d022a6302f22",
   "metadata": {},
   "source": [
    "### Exercício 10\n",
    "\n",
    "Desenvolva um programa que pergunte uma hora cheia ao usuário, ou seja, apenas o números das horas e em seguida imprima uma mensagem correspondente, sendo:\n",
    "\n",
    "| Hora | Mensagem |\n",
    "|:----:|:--------:|\n",
    "| Entre 6 e 11 | Bom dia |\n",
    "| Entre 12 e 17 | Bom tarde |\n",
    "| Entre 18 e 23 | Bom Noite |\n",
    "| Qualquer outro | Hora inválida |"
   ]
  },
  {
   "cell_type": "code",
   "execution_count": 49,
   "id": "4725422a-4b9e-4391-acac-844ba68c4542",
   "metadata": {},
   "outputs": [
    {
     "name": "stdout",
     "output_type": "stream",
     "text": [
      "Hora inválida\n"
     ]
    }
   ],
   "source": [
    "hr = int(input('Digite as horas cheias: '))\n",
    "\n",
    "if hr >= 6 and hr <= 11:\n",
    "  print('Bom dia')\n",
    "elif hr >= 12 and hr <= 17:\n",
    "  print('Boa Tarde')\n",
    "elif hr >= 18 and hr <= 23:\n",
    "  print('Boa noite')\n",
    "else:\n",
    "    print('Hora inválida')\n",
    "\n"
   ]
  },
  {
   "cell_type": "markdown",
   "id": "910a6916-43a0-43b9-ab8c-f03f8ea0d149",
   "metadata": {},
   "source": [
    "---"
   ]
  }
 ],
 "metadata": {
  "kernelspec": {
   "display_name": "Python 3 (ipykernel)",
   "language": "python",
   "name": "python3"
  },
  "language_info": {
   "codemirror_mode": {
    "name": "ipython",
    "version": 3
   },
   "file_extension": ".py",
   "mimetype": "text/x-python",
   "name": "python",
   "nbconvert_exporter": "python",
   "pygments_lexer": "ipython3",
   "version": "3.12.0"
  }
 },
 "nbformat": 4,
 "nbformat_minor": 5
}
