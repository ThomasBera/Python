{
 "cells": [
  {
   "cell_type": "markdown",
   "id": "7480272d-de8f-49a4-926f-bf7608c5c6ce",
   "metadata": {},
   "source": [
    "# <font color='OrangeRed'><center>Extra - Operadores Aritméticos</center></font>"
   ]
  },
  {
   "cell_type": "markdown",
   "id": "3a82c89c-4b55-4e05-a10b-d605f55eda7a",
   "metadata": {},
   "source": [
    "### Exercício 01\n",
    "\n",
    "Escreva um programa que receba a medida do lado de um quadrado e que em seguida imprima a medida da área do quadrado.\n",
    "\n",
    "**_Formúla:_**<br>\n",
    "_Área = Lado * Lado_"
   ]
  },
  {
   "cell_type": "code",
   "execution_count": 3,
   "id": "206444f5-ab82-4291-87a5-544be196a870",
   "metadata": {},
   "outputs": [
    {
     "name": "stdout",
     "output_type": "stream",
     "text": [
      "2500\n"
     ]
    }
   ],
   "source": [
    "lado1 = int(input('Digite o valor de um dos lados do quadrado: '))\n",
    "\n",
    "area = lado1 * lado1\n",
    "\n",
    "print(area)\n",
    "\n"
   ]
  },
  {
   "cell_type": "markdown",
   "id": "719f4283-792e-42c7-bb0c-58033b30b460",
   "metadata": {},
   "source": [
    "---"
   ]
  },
  {
   "cell_type": "markdown",
   "id": "506185b6-a403-4ba1-ba26-d494595b6099",
   "metadata": {},
   "source": [
    "### Exercício 02\n",
    "\n",
    "Escreva um programa que receba a medida do raio de uma circunferência e que em seguida imprima o comprimento da circunferência.\n",
    "\n",
    "**_Formúla:_**<br>\n",
    "_Comprimento = 2 * 3.14 * Raio_"
   ]
  },
  {
   "cell_type": "code",
   "execution_count": 4,
   "id": "9504b0fd-b329-4ec8-9c91-b1ca50ff32f7",
   "metadata": {},
   "outputs": [
    {
     "name": "stdout",
     "output_type": "stream",
     "text": [
      "31.400000000000002\n"
     ]
    }
   ],
   "source": [
    "raio = int(input('Medida do raio: '))\n",
    "\n",
    "comprimento = 2 * 3.14 * raio\n",
    "\n",
    "print(comprimento)\n",
    "\n",
    "\n"
   ]
  },
  {
   "cell_type": "markdown",
   "id": "520b484a-e54c-4a58-aa92-ccdbf40e3338",
   "metadata": {},
   "source": [
    "---"
   ]
  },
  {
   "cell_type": "markdown",
   "id": "4c30fccd-f098-4bfc-a271-582a88c4ad40",
   "metadata": {},
   "source": [
    "### Exercício 03\n",
    "\n",
    "Escreva um programa que receba dois números, sendo: \n",
    "- O primeiro o número dividendo.\n",
    "- O segundo o número divisor.\n",
    "    \n",
    "Em seguida imprima o resto da divisão.\n",
    "\n",
    "\n",
    "**_Formúla:_**<br>\n",
    "_% (Módulo ou resto de divisão)_\n",
    "\n",
    "<img style=\"height:120px\" src=https://www.estudamos.com.br/divisao/elementos-da-divisao.jpg>"
   ]
  },
  {
   "cell_type": "code",
   "execution_count": 5,
   "id": "d2150693-7926-4829-a714-d675578c42b8",
   "metadata": {},
   "outputs": [
    {
     "name": "stdout",
     "output_type": "stream",
     "text": [
      "0\n"
     ]
    }
   ],
   "source": [
    "d1 = int(input('Digite o Valor do Dividendo'))\n",
    "d2 = int(input('Digite o valor do Divisor: '))\n",
    "\n",
    "resto = d1 % d2\n",
    "\n",
    "print(resto)\n"
   ]
  },
  {
   "cell_type": "markdown",
   "id": "1ce4292f-8213-4cb9-a3a7-2f6c63a43d63",
   "metadata": {},
   "source": [
    "---"
   ]
  },
  {
   "cell_type": "markdown",
   "id": "bb489171-bf21-4514-a451-286611d88db4",
   "metadata": {},
   "source": [
    "### Exercício 04\n",
    "\n",
    "Escreva um programa que peça a temperatura em graus Fahrenheit, transforme e mostre a temperatura em graus Celsius.\n",
    "\n",
    "**_Formúla:_**<br>\n",
    "_Celsius = 5 * ((Fahrenheit-32) / 9)_"
   ]
  },
  {
   "cell_type": "code",
   "execution_count": 8,
   "id": "b6e9467e-293c-4fe8-abd2-05c4e963e60b",
   "metadata": {},
   "outputs": [
    {
     "name": "stdout",
     "output_type": "stream",
     "text": [
      "Transformando Graus em Fahrenheit 200 em graus Celsius seria 93.33333333333334°\n"
     ]
    }
   ],
   "source": [
    "fah = int(input('Graus em Fahrenheit: '))\n",
    "\n",
    "Celsius = 5 *((fah-32) / 9)\n",
    "\n",
    "print(f'{fah} em graus Celsius seria {Celsius}°')"
   ]
  },
  {
   "cell_type": "markdown",
   "id": "022254ad-4d8f-4f28-915e-15a0dbb0b229",
   "metadata": {},
   "source": [
    "---"
   ]
  },
  {
   "cell_type": "markdown",
   "id": "6180fad6-e12e-460d-acd1-dc65d0c364ee",
   "metadata": {},
   "source": [
    "### Exercício 05\n",
    "\n",
    "Escreva um programa que peça a temperatura em graus Celsius, transforme e mostre a temperatura em graus Fahrenheit.\n",
    "\n",
    "**_Formúla:_**<br>\n",
    "_Fahrenheit = Celsius * (9 / 5) + 32_"
   ]
  },
  {
   "cell_type": "code",
   "execution_count": 9,
   "id": "785bfd18-030e-446f-aa0c-2b55efad3949",
   "metadata": {},
   "outputs": [
    {
     "name": "stdout",
     "output_type": "stream",
     "text": [
      "Transformasndo Graus Celsius 90 em Graus Fahrenheit seria 194.0\n"
     ]
    }
   ],
   "source": [
    "Celsius = int(input('Graus celsius: '))\n",
    "\n",
    "fah = Celsius * (9/5) + 32\n",
    "\n",
    "print(f'{Celsius} em Graus Fahrenheit seria {fah}')\n"
   ]
  },
  {
   "cell_type": "markdown",
   "id": "af851aec-e325-4594-a774-e21747547065",
   "metadata": {},
   "source": [
    "---"
   ]
  },
  {
   "cell_type": "markdown",
   "id": "735bb32b-f123-4967-8bff-f2760d01e58e",
   "metadata": {},
   "source": [
    "### Exercício 06\n",
    "\n",
    "Escreva um programa que receba três números para calcular os pontos de um time de futebol, sendo: \n",
    "- O primeiro a quantidade de vitórias.\n",
    "- O segundo a quantidade de empates.\n",
    "- O terceiro a quantidade de derrotas.\n",
    "    \n",
    "Em seguida multiplique os valores da seguinte maneira:\n",
    "- Cada vitória informada vale 3 pontos.\n",
    "- Cada empate informado vale 1 ponto.\n",
    "- Cada derrota informada vale 0 ponto.\n",
    "\n",
    "Por fim, imprima na tela a quantidade de pontos realizada pelo time."
   ]
  },
  {
   "cell_type": "code",
   "execution_count": 11,
   "id": "c8705d4e-66fa-42dc-9bdd-3d5600b6ce16",
   "metadata": {},
   "outputs": [
    {
     "name": "stdout",
     "output_type": "stream",
     "text": [
      "O time fez : \n",
      "30 pontos de vitoria\n",
      "5 pontos de Empates\n",
      "6 pontos de Derrotas\n",
      "\n"
     ]
    }
   ],
   "source": [
    "ponto1 = int(input('Quantidade de Vitorias'))\n",
    "ponto2 = int(input('Quantidade de Empates'))\n",
    "ponto3 = int(input('Quantidade de Derrotas'))\n",
    "\n",
    "ponto1 = ponto1 * 3\n",
    "ponto2 = ponto2 * 1\n",
    "ponto3 = ponto3 * 1\n",
    "\n",
    "print(f'''O time fez : \n",
    "{ponto1} pontos de vitoria\n",
    "{ponto2} pontos de Empates\n",
    "{ponto3} pontos de Derrotas\n",
    "''')\n",
    "\n",
    "\n",
    "\n",
    "\n"
   ]
  },
  {
   "cell_type": "markdown",
   "id": "5529d961-fec1-474c-ac2a-e4e1464894ff",
   "metadata": {},
   "source": [
    "---"
   ]
  },
  {
   "cell_type": "markdown",
   "id": "0c70c2b3-0b93-4c6e-a8d5-0356a80389b9",
   "metadata": {},
   "source": [
    "### Exercício 07\n",
    "Escreva um programa que receba um valor em reais (`R$`) e que em seguida o converta em dólares (`US$`)\n",
    "\n",
    "No momento da conversão 1.00`US$` equivale a 5.00`R$`\n"
   ]
  },
  {
   "cell_type": "code",
   "execution_count": 15,
   "id": "dc6a86d8-99b0-427f-aeb1-610362d352c3",
   "metadata": {},
   "outputs": [
    {
     "name": "stdout",
     "output_type": "stream",
     "text": [
      "R$100.0 convertido em dolares será: $500.0\n"
     ]
    }
   ],
   "source": [
    "real = float(input('Valor em reais: R$'))\n",
    "\n",
    "dolar = real * 5\n",
    "\n",
    "print(f'R${real} convertido em dolares será: ${dolar}')\n",
    "\n"
   ]
  },
  {
   "cell_type": "markdown",
   "id": "e6c3f378-a066-4266-a98b-1b5c091272e7",
   "metadata": {},
   "source": [
    "---"
   ]
  },
  {
   "cell_type": "markdown",
   "id": "6be4b889-7eac-43fc-a472-3c278b74d0d6",
   "metadata": {},
   "source": [
    "### Exercício 08\n",
    "\n",
    "Escreva um programa que receba a medida da base e da altura de um triângulo retângulo, sendo um valor de cada vez. Em seguida calcule e imprima a medida da área do triângulo retângulo.\n",
    "\n",
    "**_Formúla:_**<br>\n",
    "_Área = Base * Altura / 2_\n"
   ]
  },
  {
   "cell_type": "code",
   "execution_count": 17,
   "id": "48fe7413-a2cb-4dc6-93d2-1e1f733300e7",
   "metadata": {},
   "outputs": [
    {
     "name": "stdout",
     "output_type": "stream",
     "text": [
      "a Area do triângulo retangulo é 150.0\n"
     ]
    }
   ],
   "source": [
    "m1 = float(input('Medida da base do triangulo retângulo: '))\n",
    "m2 = float(input('Medida da altura do triângulo retângulo: '))\n",
    "\n",
    "area = m1 * m2 / 2\n",
    "\n",
    "print(f'a Area do triângulo retangulo é {area}')\n",
    "\n"
   ]
  },
  {
   "cell_type": "markdown",
   "id": "e33458ac-7c16-446f-8925-9ec7c9e93651",
   "metadata": {},
   "source": [
    "---"
   ]
  },
  {
   "cell_type": "markdown",
   "id": "cfa035ab-26a7-43b8-bbec-057731837399",
   "metadata": {},
   "source": [
    "### Exercício 09\n",
    "\n",
    "Escreva um programa que receba a medida da base e da altura de um retângulo, sendo um valor de cada vez. Em seguida calcule e imprima a medida da área do retângulo.\n",
    "\n",
    "**_Formúla:_**<br>\n",
    "_Área = Base * Altura_"
   ]
  },
  {
   "cell_type": "code",
   "execution_count": 18,
   "id": "1f54fa7a-5d4e-4641-af1a-5c9ef2c5b49a",
   "metadata": {},
   "outputs": [
    {
     "name": "stdout",
     "output_type": "stream",
     "text": [
      "a Area do triângulo retangulo é 100.0\n"
     ]
    }
   ],
   "source": [
    "\n",
    "m1 = float(input('Medida da base do triangulo retângulo: '))\n",
    "m2 = float(input('Medida da altura do triângulo retângulo: '))\n",
    "\n",
    "area = m1 * m2 \n",
    "\n",
    "print(f'a Area do triângulo retangulo é {area}')\n"
   ]
  },
  {
   "cell_type": "markdown",
   "id": "b7015338-842b-434f-b658-561ee83362c4",
   "metadata": {},
   "source": [
    "---"
   ]
  },
  {
   "cell_type": "markdown",
   "id": "8a3f59fa-ad1f-4afe-bea0-969b764fb716",
   "metadata": {},
   "source": [
    "### Exercício 10\n",
    "\n",
    "Escreva um programa que peça um número ao usuário e que em seguida imprima o dobro do número informado."
   ]
  },
  {
   "cell_type": "code",
   "execution_count": 20,
   "id": "d80b7169-c7fe-41a2-b077-b7d98329af16",
   "metadata": {},
   "outputs": [
    {
     "name": "stdout",
     "output_type": "stream",
     "text": [
      "O dobro do numero digitado é 10\n"
     ]
    }
   ],
   "source": [
    "n1 = int(input('Digite um numero'))\n",
    "\n",
    "print(f'O dobro do numero digitado é {n1 * 2}')\n",
    "\n"
   ]
  },
  {
   "cell_type": "markdown",
   "id": "9eb12562-1394-41be-be50-6e2d2ee8b190",
   "metadata": {},
   "source": [
    "---"
   ]
  },
  {
   "cell_type": "markdown",
   "id": "7ee59929-90f3-4ab1-96a8-78870115d779",
   "metadata": {},
   "source": [
    "### Exercício 11\n",
    "\n",
    "Escreva um programa que pergunte o salário do usuário e em seguida imprima o valor do salário + 5%.\n",
    "\n",
    "**Dica:**<br>\n",
    "_5% equivale a 0.05_"
   ]
  },
  {
   "cell_type": "code",
   "execution_count": 26,
   "id": "9e0ff3c2-a9b8-419b-9f62-6f18abcbb382",
   "metadata": {},
   "outputs": [
    {
     "name": "stdout",
     "output_type": "stream",
     "text": [
      "o Aumento de 5% no seu salário foi aplicado, veja 10.5\n"
     ]
    }
   ],
   "source": [
    "salario = float(input('Digite seu salário: '))\n",
    "\n",
    "salario = (salario * 0.05) + salario \n",
    "\n",
    "print(f'o Aumento de 5% no seu salário foi aplicado, veja {salario}')\n",
    "\n"
   ]
  },
  {
   "cell_type": "markdown",
   "id": "7fc6d7bb-38d7-4359-973b-7d2e873c9744",
   "metadata": {},
   "source": [
    "---"
   ]
  },
  {
   "cell_type": "markdown",
   "id": "965e9070-8658-493a-a22d-1803705df01b",
   "metadata": {},
   "source": [
    "### Exercício 12\n",
    "\n",
    "Escreva um programa que pergunte a altura e o peso do usuário e em seguida calcule o IMC (Índice de Massa Corpória)\n",
    "\n",
    "**Formúla:**<br>\n",
    "_IMC = Peso / (Altura*Altura)_"
   ]
  },
  {
   "cell_type": "code",
   "execution_count": 29,
   "id": "18811b27-003c-4f65-9219-90b8a2531e93",
   "metadata": {},
   "outputs": [
    {
     "name": "stdout",
     "output_type": "stream",
     "text": [
      "o seu imc é 24.22\n"
     ]
    }
   ],
   "source": [
    "alt = float(input('Sua Altura: '))\n",
    "peso = float(input('Seu Peso: '))\n",
    "\n",
    "imc = peso / (alt * alt)\n",
    "\n",
    "print(f'o seu imc é {round(imc, 2)}')\n"
   ]
  },
  {
   "cell_type": "markdown",
   "id": "6d0a0cae-c5f2-464e-bc11-259342a3a5b8",
   "metadata": {},
   "source": [
    "---"
   ]
  },
  {
   "cell_type": "markdown",
   "id": "55f960f8-7871-46eb-9dda-c72333267885",
   "metadata": {},
   "source": [
    "### Exercício 13\n",
    "\n",
    "Escreva um programa que calcule a conta dos clientes de um restaurante, sendo:\n",
    "1. Deve ser informado o valor total gasto no restaurante\n",
    "1. Adicione mais 10% em cima do valor total gasto no restaurante por conta da taxa de serviço \n",
    "1. Adicione mais 20 reais do estacionamento\n",
    "    \n",
    "**Dica:**<br>\n",
    "_10% equivale 0.1_"
   ]
  },
  {
   "cell_type": "code",
   "execution_count": 33,
   "id": "ff38661a-4e3a-4206-9b31-10771a1ea646",
   "metadata": {},
   "outputs": [
    {
     "name": "stdout",
     "output_type": "stream",
     "text": [
      "O Valor total a pagar: 130.0\n"
     ]
    }
   ],
   "source": [
    "conta = float(input('Valor gasto no restaurante'))\n",
    "\n",
    "service = conta + 100 * 0.1\n",
    "\n",
    "estacionamento = service + 20\n",
    "\n",
    "print(f'O Valor total a pagar: {estacionamento}')"
   ]
  },
  {
   "cell_type": "markdown",
   "id": "4c90b02f-bbeb-4573-aca5-53258ff9cf40",
   "metadata": {},
   "source": [
    "---"
   ]
  }
 ],
 "metadata": {
  "kernelspec": {
   "display_name": "Python 3",
   "language": "python",
   "name": "python3"
  },
  "language_info": {
   "codemirror_mode": {
    "name": "ipython",
    "version": 3
   },
   "file_extension": ".py",
   "mimetype": "text/x-python",
   "name": "python",
   "nbconvert_exporter": "python",
   "pygments_lexer": "ipython3",
   "version": "3.12.0"
  }
 },
 "nbformat": 4,
 "nbformat_minor": 5
}
