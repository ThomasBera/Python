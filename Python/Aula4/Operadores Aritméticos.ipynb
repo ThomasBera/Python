{
 "cells": [
  {
   "cell_type": "markdown",
   "id": "7480272d-de8f-49a4-926f-bf7608c5c6ce",
   "metadata": {},
   "source": [
    "# <font color='OrangeRed'><center>Exercícios - Operadores Aritméticos</center></font>"
   ]
  },
  {
   "cell_type": "markdown",
   "id": "415d7594-85c3-41bc-8288-557653756e50",
   "metadata": {},
   "source": [
    "### Exercício 01\n",
    "\n",
    "Escreva um programa que receba um número do usuário e que seguida imprima o número informado vezes 5."
   ]
  },
  {
   "cell_type": "code",
   "execution_count": 3,
   "id": "225f01c3-a241-405f-8ec8-c52db1b6935e",
   "metadata": {
    "tags": []
   },
   "outputs": [
    {
     "name": "stdout",
     "output_type": "stream",
     "text": [
      "5 X 5 é igual a: 25\n"
     ]
    }
   ],
   "source": [
    "n1 = int(input('Digite um numero:'))\n",
    "print (f'{n1} X 5 é igual a: {n1 * 5}')\n",
    "\n"
   ]
  },
  {
   "cell_type": "markdown",
   "id": "f393f0a7-0d92-4126-8257-138f851ae415",
   "metadata": {},
   "source": [
    "---"
   ]
  },
  {
   "cell_type": "markdown",
   "id": "7597f154-ddb4-4e4b-8324-11d479d2d4e7",
   "metadata": {},
   "source": [
    "### Exercício 02\n",
    "\n",
    "Escreva um programa que receba dois números, sendo um número de cada vez e que seguida imprima a soma dos números informados."
   ]
  },
  {
   "cell_type": "code",
   "execution_count": 2,
   "id": "f2835437-8ebc-4626-961f-3ef705c40333",
   "metadata": {},
   "outputs": [
    {
     "name": "stdout",
     "output_type": "stream",
     "text": [
      "a soma de 10 + 5 é igual a: 15\n"
     ]
    }
   ],
   "source": [
    "n1 = int(input('Digite um numero'))\n",
    "n2 = int(input('Digite outro numero'))\n",
    "print (f'a soma de {n1} + {n2} é igual a: {n1 + n2}')\n"
   ]
  },
  {
   "cell_type": "markdown",
   "id": "8fc0df85-c0b3-4f53-b40e-9735c3e5f4ff",
   "metadata": {},
   "source": [
    "---"
   ]
  },
  {
   "cell_type": "markdown",
   "id": "e55ef877-7e90-4c67-a8ab-3930bc68c5ed",
   "metadata": {},
   "source": [
    "### Exercício 03\n",
    "\n",
    "Escreva um programa que receba dois números, sendo um número de cada vez e que seguida imprima a subtração dos números informados."
   ]
  },
  {
   "cell_type": "code",
   "execution_count": 5,
   "id": "43c8304d-ee14-4428-b598-a312e09d4244",
   "metadata": {},
   "outputs": [
    {
     "name": "stdout",
     "output_type": "stream",
     "text": [
      "A subtração dos numeros digitados é: 3\n"
     ]
    }
   ],
   "source": [
    "n1 = input('Digite um numero')\n",
    "n2 = input ('Digite outro numero')\n",
    "\n",
    "print (f'A subtração dos numeros digitados é: {int (n1) - int (n2)}')\n",
    "\n"
   ]
  },
  {
   "cell_type": "markdown",
   "id": "9142530a-1500-4382-ac27-32d02d3a5622",
   "metadata": {},
   "source": [
    "---"
   ]
  },
  {
   "cell_type": "markdown",
   "id": "d31342cb-6901-48dc-aedb-5a95e94b4aca",
   "metadata": {},
   "source": [
    "### Exercício 04\n",
    "\n",
    "Escreva um programa que peça 4 notas bimestrais, sendo uma nota de cada vez e mostre a média das 4 notas."
   ]
  },
  {
   "cell_type": "code",
   "execution_count": 11,
   "id": "493dd9a4-a3bc-4d28-a0e1-20be5f41c1e1",
   "metadata": {},
   "outputs": [
    {
     "name": "stdout",
     "output_type": "stream",
     "text": [
      "Digite a Nota 1:  10\n",
      "Digite a Nota 2:  9\n",
      "Digite a Nota 3:  8\n",
      "Digite a Nota 4:  10\n"
     ]
    },
    {
     "name": "stdout",
     "output_type": "stream",
     "text": [
      "A media das notas desse aluno é: 9.25\n"
     ]
    }
   ],
   "source": [
    "n1 = int(input('Digite a Nota 1: '))\n",
    "n2 = int(input('Digite a Nota 2: '))\n",
    "n3 = int(input('Digite a Nota 3: '))\n",
    "n4 = int(input('Digite a Nota 4: '))\n",
    "\n",
    "media = (n1 + n2 + n3 + n4) / 4\n",
    "\n",
    "print (f'A media das notas desse aluno é: {media}')\n",
    "\n",
    "\n"
   ]
  },
  {
   "cell_type": "markdown",
   "id": "acf9b35c-d29f-41ba-99ad-1a70a72626e8",
   "metadata": {},
   "source": [
    "---"
   ]
  },
  {
   "cell_type": "markdown",
   "id": "99495f74-4a49-486f-8fa0-56e58f036163",
   "metadata": {},
   "source": [
    "### Exercício 05\n",
    "\n",
    "Escreva um programa que receba um valor em metros e que em seguida \n",
    "exiba para o usuário o valor convertido em centímetros.\n",
    "\n",
    "**_Formúla:_**<br>\n",
    "_1 Metro = 100 Centímetros_"
   ]
  },
  {
   "cell_type": "code",
   "execution_count": 13,
   "id": "b58d23a3-75f4-4815-92b4-709d77c78d8e",
   "metadata": {},
   "outputs": [
    {
     "name": "stdout",
     "output_type": "stream",
     "text": [
      "Digite a media em metros: 10\n"
     ]
    },
    {
     "name": "stdout",
     "output_type": "stream",
     "text": [
      "O valor em centímetros é: 1000\n"
     ]
    }
   ],
   "source": [
    "metro = int(input('Digite a media em metros:'))\n",
    "\n",
    "metro = metro * 100\n",
    "\n",
    "print (f'O valor em centímetros é: {metro}')\n"
   ]
  },
  {
   "cell_type": "markdown",
   "id": "bfe32fb3-6d3f-4b91-906b-165b1cf84910",
   "metadata": {},
   "source": [
    "---"
   ]
  },
  {
   "cell_type": "markdown",
   "id": "aeb7cc33-bc2a-491a-821d-6051d673f102",
   "metadata": {},
   "source": [
    "### Exercício 06\n",
    "\n",
    "Escreva um programa que receba um valor em centímetros e que em seguida \n",
    "exiba para o usuário o valor convertido em metros.\n",
    "\n",
    "**_Formúla:_**<br>\n",
    "_1 Metro = 100 Centímetros_"
   ]
  },
  {
   "cell_type": "code",
   "execution_count": 16,
   "id": "ecfda305-93ac-4bd2-ad5c-f8c20971e05e",
   "metadata": {},
   "outputs": [
    {
     "name": "stdout",
     "output_type": "stream",
     "text": [
      "Digite a media em Centímetros: 1000\n"
     ]
    },
    {
     "name": "stdout",
     "output_type": "stream",
     "text": [
      "O valor em metros é: 10.0\n"
     ]
    }
   ],
   "source": [
    "cm = int(input('Digite a media em Centímetros:'))\n",
    "\n",
    "cm = cm * 0.01\n",
    "\n",
    "print (f'O valor em metros é: {cm}')"
   ]
  },
  {
   "cell_type": "markdown",
   "id": "321c490c-6fae-456e-8b99-a1552aa35706",
   "metadata": {},
   "source": [
    "---"
   ]
  },
  {
   "cell_type": "markdown",
   "id": "d068a3a3-c074-4fa9-873e-e90fdab642aa",
   "metadata": {},
   "source": [
    "### Exercício 07\n",
    "\n",
    "Escreva um programa que pergunte quanto o usuário ganha por hora e o número de horas trabalhadas no mês, sendo uma pergunta de cada vez. Em seguida, calcule e imprima o salário do mês.\n",
    "\n",
    "**_Formúla:_**<br>\n",
    "_Salário = Valor_HR * HR_Trabalhadas_"
   ]
  },
  {
   "cell_type": "code",
   "execution_count": 1,
   "id": "96d5f9ec-79ce-4b56-abc7-7ed8cd70dd77",
   "metadata": {},
   "outputs": [
    {
     "name": "stdout",
     "output_type": "stream",
     "text": [
      "1000\n"
     ]
    }
   ],
   "source": [
    "hora = int(input('Valor da hora'))\n",
    "trabalho = int(input('horas trabalhadas'))\n",
    "print(hora*trabalho)"
   ]
  },
  {
   "cell_type": "markdown",
   "id": "dc6a9623-b74a-4993-ab96-ef5cdaff1555",
   "metadata": {},
   "source": [
    "---"
   ]
  },
  {
   "cell_type": "markdown",
   "id": "4317e942-20cb-4a87-bda3-f8b0f66669c0",
   "metadata": {},
   "source": [
    "### Exercício 08\n",
    "\n",
    "Escreva um programa que paça um número ao usuário e que em seguida retorne o valor ao quadrado.\n",
    "\n",
    "**_Formúla:_**<br>\n",
    "_n²_"
   ]
  },
  {
   "cell_type": "code",
   "execution_count": 2,
   "id": "34f4160a-3be5-44db-b877-6bc3bbe5e557",
   "metadata": {},
   "outputs": [
    {
     "name": "stdout",
     "output_type": "stream",
     "text": [
      "16\n"
     ]
    }
   ],
   "source": [
    "n1 = int(input('Digite um numero ai: '))\n",
    "\n",
    "qua = n1 ** 2\n",
    "\n",
    "print(qua)\n"
   ]
  },
  {
   "cell_type": "markdown",
   "id": "ba97d73d-4cc9-4fb9-8b50-3bbf05ce0284",
   "metadata": {},
   "source": [
    "---"
   ]
  },
  {
   "cell_type": "markdown",
   "id": "cffb8ffc-ede1-42f9-94f4-24da68cb57f3",
   "metadata": {},
   "source": [
    "### Exercício 09\n",
    "\n",
    "Escreva um programa que peça um número inteiro ao usuário e que em seguida imprima o próximo número e o número anterior."
   ]
  },
  {
   "cell_type": "code",
   "execution_count": 5,
   "id": "d7cd9d8a-dabd-40bf-a660-1dfbeb8a6ce3",
   "metadata": {},
   "outputs": [
    {
     "name": "stdout",
     "output_type": "stream",
     "text": [
      "9 10 8\n"
     ]
    }
   ],
   "source": [
    "n1 = int(input('Digite um numero inteiro: '))\n",
    "ant = n1 - 1\n",
    "prox = n1 + 1\n",
    "\n",
    "print(n1, prox, ant)\n",
    "\n"
   ]
  },
  {
   "cell_type": "markdown",
   "id": "5f6cc9f1-8fa8-4d0b-b2fc-f38546404296",
   "metadata": {},
   "source": [
    "---"
   ]
  },
  {
   "cell_type": "markdown",
   "id": "61754b1d-5965-483e-8956-481b9edd4384",
   "metadata": {},
   "source": [
    "### Exercício 10\n",
    "\n",
    "Escreva um programa que peça uma quantidade de horas ao usuário e que em seguida imprima o valor das horas convertidas em minutos.\n",
    "\n",
    "\n",
    "**_Formúla:_**<br>\n",
    "_minutos = horas * 60_"
   ]
  },
  {
   "cell_type": "code",
   "execution_count": 8,
   "id": "84770ecb-0d33-42a8-9027-2192544ca69f",
   "metadata": {},
   "outputs": [
    {
     "name": "stdout",
     "output_type": "stream",
     "text": [
      "180 Minutos\n"
     ]
    }
   ],
   "source": [
    "horas = int(input('Valor de horas: '))\n",
    "\n",
    "minu = horas * 60\n",
    "\n",
    "print(f'{minu} Minutos')\n",
    "\n",
    "\n"
   ]
  },
  {
   "cell_type": "markdown",
   "id": "554b782e-6a68-41cb-a8c8-faef367328b5",
   "metadata": {},
   "source": [
    "---"
   ]
  },
  {
   "cell_type": "markdown",
   "id": "68472e91-1fe8-448d-b397-481a46cf6efc",
   "metadata": {},
   "source": [
    "### Exercício 11\n",
    "\n",
    "Escreva um programa que paça um número ao usuário e que em seguida retorne o valor ao cubo.\n",
    "\n",
    "**_Formúla:_**<br>\n",
    "_n³_"
   ]
  },
  {
   "cell_type": "code",
   "execution_count": 9,
   "id": "3a90833e-f192-456a-93f4-bd4bdd05c7ad",
   "metadata": {},
   "outputs": [
    {
     "name": "stdout",
     "output_type": "stream",
     "text": [
      "1000\n"
     ]
    }
   ],
   "source": [
    "n1 = int(input('Digite um numero ai: '))\n",
    "\n",
    "qua = n1 ** 3\n",
    "\n",
    "print(qua)\n",
    "\n"
   ]
  },
  {
   "cell_type": "markdown",
   "id": "af851aec-e325-4594-a774-e21747547065",
   "metadata": {},
   "source": [
    "---"
   ]
  },
  {
   "cell_type": "markdown",
   "id": "8534fb94-a98f-4a29-be1e-58195fb6abb5",
   "metadata": {},
   "source": [
    "### Exercício 12\n",
    "\n",
    "Escreva um programa que pergunte quantos litros de gasolina o cliente deseja abastacer e que em seguida imprima o valor total da compra.\n",
    "\n",
    "**O Valor da gasolina é de 4.99**"
   ]
  },
  {
   "cell_type": "code",
   "execution_count": 10,
   "id": "17356753-fbb4-414c-9f82-5f52c582369b",
   "metadata": {},
   "outputs": [
    {
     "name": "stdout",
     "output_type": "stream",
     "text": [
      "39.92\n"
     ]
    }
   ],
   "source": [
    "gas = float(input('Quantos litros deseja?  '))\n",
    "\n",
    "valor = 4.99 * gas\n",
    "\n",
    "print(valor)\n",
    "\n"
   ]
  },
  {
   "cell_type": "markdown",
   "id": "fa9623d7-9248-4c71-93c4-f2946d10a816",
   "metadata": {},
   "source": [
    "---"
   ]
  }
 ],
 "metadata": {
  "kernelspec": {
   "display_name": "Python 3 (ipykernel)",
   "language": "python",
   "name": "python3"
  },
  "language_info": {
   "codemirror_mode": {
    "name": "ipython",
    "version": 3
   },
   "file_extension": ".py",
   "mimetype": "text/x-python",
   "name": "python",
   "nbconvert_exporter": "python",
   "pygments_lexer": "ipython3",
   "version": "3.12.0"
  }
 },
 "nbformat": 4,
 "nbformat_minor": 5
}
